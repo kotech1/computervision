{
 "cells": [
  {
   "cell_type": "markdown",
   "metadata": {
    "colab_type": "text",
    "id": "view-in-github"
   },
   "source": [
    "<a href=\"https://colab.research.google.com/github/kotech1/computervision/blob/master/02_intro.ipynb\" target=\"_parent\"><img src=\"https://colab.research.google.com/assets/colab-badge.svg\" alt=\"Open In Colab\"/></a>"
   ]
  },
  {
   "cell_type": "markdown",
   "metadata": {
    "colab_type": "text",
    "id": "IjlDibNpW0xU"
   },
   "source": [
    "# 구글 코랩 및 Jupyter 노트북\n",
    "\n",
    "## 로컬 PC환경에서 설치하기\n",
    "\n",
    "### 윈도우 개발환경\n",
    "\n",
    "아나콘다 홈페이지: www.anaconda.com  \n",
    "아나콘다 과거 설치파일 레포지터리: https://repo.anaconda.com  \n",
    "\n",
    "Change log:  \n",
    "- 2020년 8월 기준 윈도우 설치파일: 2020.02버전 - https://repo.anaconda.com/archive/Anaconda3-2020.02-Windows-x86_64.exe \n",
    "\n",
    "### 맥 개발 환경\n",
    "\n",
    "홈브루 홈페이지: [brew.sh/index_ko](https://brew.sh/index_ko)  \n",
    "설치 명령:   \n",
    "```bash\n",
    "/bin/bash -c \"$(curl -fsSL https://raw.githubusercontent.com/Homebrew/install/master/install.sh)\"\n",
    "```  \n",
    "pyenv 설치:  \n",
    "```bash\n",
    "brew install pyenv\n",
    "```\n",
    "python 설치:  \n",
    "```bash\n",
    "# 버전조회\n",
    "pyenv install --list\n",
    "# 3.7.8 설치\n",
    "pyenv install 3.7.8\n",
    "```\n",
    "파이썬 가상환경 생성: (폴더명 tensor2)\n",
    "```bash\n",
    "~/.pyenv/versions/3.7.8/bin/python -m venv tensor2\n",
    "```\n",
    "가상환경 진입:  \n",
    "```bash\n",
    "source tensor2/bin/activate\n",
    "```\n",
    "패키지 설치:  \n",
    "```bash\n",
    "pip install tensorflow matplotlib opencv-python jupyter\n",
    "```\n",
    "쥬피터 노트북 실행:  \n",
    "```bash\n",
    "# 현재 실행중인 데몬 확인\n",
    "jupyter notebook list\n",
    "# 노트북 실행\n",
    "jupyter notebook\n",
    "```\n",
    "\n",
    "## 로컬 개발환경 실습용 노트북 파일\n",
    "\n",
    "[github.com/kotech1/computervision](https://github.com/kotech1/computervision)\n",
    "\n",
    "`02_local.ipynb` 다운로드\n"
   ]
  },
  {
   "cell_type": "markdown",
   "metadata": {},
   "source": [
    "첫번째 파이썬 코드 실행하기"
   ]
  },
  {
   "cell_type": "code",
   "execution_count": 1,
   "metadata": {
    "colab": {
     "base_uri": "https://localhost:8080/"
    },
    "colab_type": "code",
    "id": "Hpdnq8g8v29i",
    "outputId": "14307fa0-c7dd-42fa-8212-5b548c122be4"
   },
   "outputs": [
    {
     "name": "stdout",
     "output_type": "stream",
     "text": [
      "hello, world.\n"
     ]
    }
   ],
   "source": [
    "print('hello, world.')"
   ]
  },
  {
   "cell_type": "markdown",
   "metadata": {
    "colab_type": "text",
    "id": "H_hHTMIPv3YB"
   },
   "source": [
    "먼저 파이썬 버전을 확인해봅시다"
   ]
  },
  {
   "cell_type": "code",
   "execution_count": 2,
   "metadata": {
    "colab": {
     "base_uri": "https://localhost:8080/",
     "height": 34
    },
    "colab_type": "code",
    "id": "7UYQdPI5WvQH",
    "outputId": "bac5bc41-6522-4252-cd62-819ce50bd965"
   },
   "outputs": [
    {
     "data": {
      "text/plain": [
       "sys.version_info(major=3, minor=7, micro=7, releaselevel='final', serial=0)"
      ]
     },
     "execution_count": 2,
     "metadata": {},
     "output_type": "execute_result"
    }
   ],
   "source": [
    "import sys\n",
    "sys.version_info"
   ]
  },
  {
   "cell_type": "markdown",
   "metadata": {
    "colab_type": "text",
    "id": "szRdHbCpaFy-"
   },
   "source": [
    "파이썬 이스터에그"
   ]
  },
  {
   "cell_type": "code",
   "execution_count": 3,
   "metadata": {
    "colab": {
     "base_uri": "https://localhost:8080/"
    },
    "colab_type": "code",
    "id": "b0BBfgceZxxy",
    "outputId": "d0de10e2-78d4-4014-80a4-053000ad3147"
   },
   "outputs": [
    {
     "name": "stdout",
     "output_type": "stream",
     "text": [
      "The Zen of Python, by Tim Peters\n",
      "\n",
      "Beautiful is better than ugly.\n",
      "Explicit is better than implicit.\n",
      "Simple is better than complex.\n",
      "Complex is better than complicated.\n",
      "Flat is better than nested.\n",
      "Sparse is better than dense.\n",
      "Readability counts.\n",
      "Special cases aren't special enough to break the rules.\n",
      "Although practicality beats purity.\n",
      "Errors should never pass silently.\n",
      "Unless explicitly silenced.\n",
      "In the face of ambiguity, refuse the temptation to guess.\n",
      "There should be one-- and preferably only one --obvious way to do it.\n",
      "Although that way may not be obvious at first unless you're Dutch.\n",
      "Now is better than never.\n",
      "Although never is often better than *right* now.\n",
      "If the implementation is hard to explain, it's a bad idea.\n",
      "If the implementation is easy to explain, it may be a good idea.\n",
      "Namespaces are one honking great idea -- let's do more of those!\n"
     ]
    }
   ],
   "source": [
    "import this"
   ]
  },
  {
   "cell_type": "code",
   "execution_count": 4,
   "metadata": {},
   "outputs": [],
   "source": [
    "import antigravity"
   ]
  },
  {
   "cell_type": "markdown",
   "metadata": {
    "colab_type": "text",
    "id": "A007CLqbICjd"
   },
   "source": [
    "텐서플로우 버전 확인"
   ]
  },
  {
   "cell_type": "code",
   "execution_count": 4,
   "metadata": {
    "colab": {
     "base_uri": "https://localhost:8080/"
    },
    "colab_type": "code",
    "id": "RqNXYwSEaN0d",
    "outputId": "93a8d621-143f-404c-8da7-061bf7ddca79"
   },
   "outputs": [
    {
     "data": {
      "text/plain": [
       "'2.3.0'"
      ]
     },
     "execution_count": 4,
     "metadata": {},
     "output_type": "execute_result"
    }
   ],
   "source": [
    "import tensorflow as tf\n",
    "tf.__version__"
   ]
  },
  {
   "cell_type": "markdown",
   "metadata": {
    "colab_type": "text",
    "id": "2a7yM3e3Vxoj"
   },
   "source": [
    "# 생각해보기"
   ]
  },
  {
   "cell_type": "code",
   "execution_count": 5,
   "metadata": {
    "colab": {},
    "colab_type": "code",
    "id": "7daFMcAPOcM0"
   },
   "outputs": [],
   "source": [
    "# 갯수 3개, 크기: 1,2,3 무게: 10,20,30  \n",
    "fruit_type1 = [ [ 1, 2, 3], [ 10, 20, 30]]\n",
    "fruit_type2 = [ [1, 10], [2, 20], [3, 30]]"
   ]
  },
  {
   "cell_type": "markdown",
   "metadata": {
    "colab_type": "text",
    "id": "Q44ai_Ko16Yl"
   },
   "source": [
    "## numpy 배열 만들기\n",
    "-1 부터 1까지 step(=0.1) 단위로 숫자 생성  \n",
    "`np.arange`함수(array range)는 파이썬의 `range`와 비슷한 사용법이다.  \n"
   ]
  },
  {
   "cell_type": "code",
   "execution_count": null,
   "metadata": {
    "colab": {
     "base_uri": "https://localhost:8080/",
     "height": 51
    },
    "colab_type": "code",
    "id": "zHU7i_vB1Y7k",
    "outputId": "bbb7e893-3a7d-4cdd-94eb-bb291866e985"
   },
   "outputs": [],
   "source": [
    "import numpy as np\n",
    "x = np.linspace(-1, 1, num=21)\n",
    "x"
   ]
  },
  {
   "cell_type": "markdown",
   "metadata": {
    "colab_type": "text",
    "id": "s5fbY3Pz3Q8H"
   },
   "source": [
    "$y = x^2$ 데이터를 생성해 보자.  "
   ]
  },
  {
   "cell_type": "markdown",
   "metadata": {
    "colab_type": "text",
    "id": "BV2KPfXg5MAA"
   },
   "source": []
  },
  {
   "cell_type": "code",
   "execution_count": null,
   "metadata": {
    "colab": {
     "base_uri": "https://localhost:8080/"
    },
    "colab_type": "code",
    "id": "zPxmiSj43Qe5",
    "outputId": "8ac43113-0877-4fb5-ea3d-d0a21a623785"
   },
   "outputs": [],
   "source": [
    "y = x**2\n",
    "y"
   ]
  },
  {
   "cell_type": "code",
   "execution_count": null,
   "metadata": {
    "colab": {
     "base_uri": "https://localhost:8080/"
    },
    "colab_type": "code",
    "id": "pOKIDPIABWSG",
    "outputId": "9d4c3e75-5e0f-4f4b-8fac-a032421fe046"
   },
   "outputs": [],
   "source": [
    "print(x.shape, y.shape)"
   ]
  },
  {
   "cell_type": "markdown",
   "metadata": {
    "colab_type": "text",
    "id": "uTK95Ts5CI2m"
   },
   "source": [
    "그래프 그려보기"
   ]
  },
  {
   "cell_type": "code",
   "execution_count": null,
   "metadata": {
    "colab": {
     "base_uri": "https://localhost:8080/",
     "height": 265
    },
    "colab_type": "code",
    "id": "K_dOwM8WCIDm",
    "outputId": "a0bc5003-ffdc-43b0-dcbe-e49c347acd96"
   },
   "outputs": [],
   "source": [
    "from matplotlib import pyplot as plt\n",
    "plt.plot(x, y, '-')\n",
    "plt.show()"
   ]
  },
  {
   "cell_type": "markdown",
   "metadata": {
    "colab_type": "text",
    "id": "_G_4Rmq902nh"
   },
   "source": [
    "## 텐서와 다차원 배열의 차이\n",
    "\n",
    "텐서는 주로 정형화된 수치 배열에 사용한다.\n",
    "텐서는 병렬 연산자를 적용할 수 있다."
   ]
  },
  {
   "cell_type": "code",
   "execution_count": null,
   "metadata": {
    "colab": {
     "base_uri": "https://localhost:8080/",
     "height": 334
    },
    "colab_type": "code",
    "id": "QuTO52Qk04wc",
    "outputId": "e66cb823-7480-40cf-e7ee-59949c638ab0"
   },
   "outputs": [],
   "source": [
    "x = np.array([\n",
    "    [ 1.0, 1.1 ],\n",
    "    [ 2.2, 1.0 ]\n",
    "])\n",
    "y = [\n",
    "    [ 1.0, 1.1 ],\n",
    "    [ 1.0, 3, 2.0 ],\n",
    "\n",
    "]\n",
    "print(x.shape)\n",
    "x = x*2\n",
    "print(x)\n",
    "x = x**2 + 1\n",
    "print(x)\n",
    "\n",
    "# 배열에 2를 곱하는 것은 다른 의미를 가짐.\n",
    "y = y*2  ## same as y = y + y\n",
    "print(y)\n",
    "# 다음 연산은 오류가 남.\n",
    "# y = y**2\n",
    "# y = y + 1\n",
    "\n",
    "print(x[0,1])\n",
    "print(x[0][1])\n",
    "# y[1,2] # 배열에는 tupule 형식을 사용할 수 없다."
   ]
  },
  {
   "cell_type": "markdown",
   "metadata": {
    "colab_type": "text",
    "id": "VNt1W1QrMUfg"
   },
   "source": [
    "## 이미지 읽고 그리기"
   ]
  },
  {
   "cell_type": "code",
   "execution_count": null,
   "metadata": {
    "colab": {
     "base_uri": "https://localhost:8080/",
     "height": 269
    },
    "colab_type": "code",
    "id": "yafOeZ0VHdKV",
    "outputId": "0a03c01a-575e-4537-8b46-f4b66f5a8b3f"
   },
   "outputs": [],
   "source": [
    "from tensorflow import keras\n",
    "import cv2\n",
    "\n",
    "image_path = keras.utils.get_file(\"seoul.jpg\", \"http://data.si.re.kr/photo_ndownload/21555\")\n",
    "image = cv2.imread(image_path)\n",
    "# convert opencv RGB for opencv\n",
    "image = cv2.cvtColor(image, cv2.COLOR_BGR2RGB)\n",
    "plt.imshow(image)\n",
    "plt.show()"
   ]
  },
  {
   "cell_type": "markdown",
   "metadata": {
    "colab_type": "text",
    "id": "t2VvTwoIMBwq"
   },
   "source": [
    "# 확장하기\n",
    "\n",
    "과일의 크기와 무게를 모두 2배로 하기"
   ]
  },
  {
   "cell_type": "code",
   "execution_count": null,
   "metadata": {
    "colab": {
     "base_uri": "https://localhost:8080/",
     "height": 68
    },
    "colab_type": "code",
    "id": "n45soNd2MGsU",
    "outputId": "68265d60-080b-46e2-8b5d-fc2552410b9d"
   },
   "outputs": [],
   "source": [
    "import numpy as np\n",
    "x = np.array([[1.0, 1.1], [2.0, 2.1], [0.9, 1.1]])\n",
    "x_big = x*2\n",
    "print(x_big)"
   ]
  },
  {
   "cell_type": "markdown",
   "metadata": {
    "colab_type": "text",
    "id": "wuX8O1A4OYt9"
   },
   "source": [
    "무게만 두 배로 하기"
   ]
  },
  {
   "cell_type": "code",
   "execution_count": null,
   "metadata": {
    "colab": {
     "base_uri": "https://localhost:8080/",
     "height": 68
    },
    "colab_type": "code",
    "id": "xSQHRYEwM7uZ",
    "outputId": "144bf825-11d0-4e8b-acbe-a2170fcc0b50"
   },
   "outputs": [],
   "source": [
    "x_size = x[:, 1:2] # 두번째 열(column)만 추출\n",
    "x_size *= 2\n",
    "x_big2 = x\n",
    "x_big2[:, 1:2] = x_size # 두번째 열 데이터 교체\n",
    "print(x_big2)"
   ]
  },
  {
   "cell_type": "code",
   "execution_count": null,
   "metadata": {
    "colab": {
     "base_uri": "https://localhost:8080/",
     "height": 51
    },
    "colab_type": "code",
    "id": "-laHUJhZnRb-",
    "outputId": "195b3832-8811-48bc-df59-53f343ba1b56"
   },
   "outputs": [],
   "source": [
    "import numpy as np\n",
    "import time\n",
    "\n",
    "n = 20000\n",
    "\n",
    "w = np.random.random((n,n))*0.000001\n",
    "x = np.random.random((n))*0.001\n",
    "#w = np.array([[0, 1],[2, 3]])\n",
    "#x = np.array([1, 2])\n",
    "#print(w)\n",
    "#print(x)\n",
    "tic = time.time()\n",
    "# inner product\n",
    "y1 = np.dot(w,x)\n",
    "y2 = np.dot(w,y1)\n",
    "y3 = np.dot(w,y2)\n",
    "y4 = np.dot(w,y3)\n",
    "y5 = np.dot(w,y4)\n",
    "y6 = np.dot(w,y5)\n",
    "y7 = np.dot(w,y6)\n",
    "y8 = np.dot(w,y7)\n",
    "y9 = np.dot(w,y8)\n",
    "y = np.dot(w,y9)\n",
    "toc = time.time()\n",
    "print('elapsed time =', toc-tic)\n",
    "print(y[0], y[1], y[n-1])"
   ]
  },
  {
   "cell_type": "code",
   "execution_count": null,
   "metadata": {
    "colab": {
     "base_uri": "https://localhost:8080/",
     "height": 88
    },
    "colab_type": "code",
    "id": "kxtjWTwVot8p",
    "outputId": "18f4db2e-ae69-4c0a-a416-c2cf96a43327"
   },
   "outputs": [],
   "source": [
    "import tensorflow as tf\n",
    "from tensorflow import keras\n",
    "from tensorflow.keras.layers import Input, Flatten, Dense, Conv2D\n",
    "from tensorflow.keras.models import Model\n",
    "\n",
    "input_layer = [Input((n,n)), Input(n)]\n",
    "y1 = keras.layers.Dot(axes=(2,1))(input_layer)\n",
    "y2 = keras.layers.Dot(axes=(2,1))(input_layer)\n",
    "y3 = keras.layers.Dot(axes=(2,1))(input_layer)\n",
    "y4 = keras.layers.Dot(axes=(2,1))(input_layer)\n",
    "y5 = keras.layers.Dot(axes=(2,1))(input_layer)\n",
    "y6 = keras.layers.Dot(axes=(2,1))(input_layer)\n",
    "y7 = keras.layers.Dot(axes=(2,1))(input_layer)\n",
    "y8 = keras.layers.Dot(axes=(2,1))(input_layer)\n",
    "y9 = keras.layers.Dot(axes=(2,1))(input_layer)\n",
    "\n",
    "'''\n",
    "y2 = keras.layers.Dot(axes=(2,1))([input_layer[0], y1])\n",
    "y3 = keras.layers.Dot(axes=(2,1))([input_layer[0], y2])\n",
    "y4 = keras.layers.Dot(axes=(2,1))([input_layer[0], y3])\n",
    "y5 = keras.layers.Dot(axes=(2,1))([input_layer[0], y4])\n",
    "y6 = keras.layers.Dot(axes=(2,1))([input_layer[0], y5])\n",
    "y7 = keras.layers.Dot(axes=(2,1))([input_layer[0], y6])\n",
    "y8 = keras.layers.Dot(axes=(2,1))([input_layer[0], y7])\n",
    "y9 = keras.layers.Dot(axes=(2,1))([input_layer[0], y8])\n",
    "output_layer = keras.layers.Dot(axes=(2,1))([input_layer[0], y9])\n",
    "\n",
    "'''\n",
    "output_layer = keras.layers.Add()([y1,y2,y3,y4,y5,y6,y7,y8,y9])\n",
    "\n",
    "model = Model(input_layer, output_layer)\n",
    "\n",
    "#print(model.summary())\n",
    "model.compile()\n",
    "\n",
    "tic = time.time()\n",
    "y = model.predict([w.reshape(1,n,n), x.reshape(1,n)])\n",
    "toc = time.time()\n",
    "print('elapsed time =', toc-tic)\n",
    "print(y[0][0], y[0][1], y[0][n-1])"
   ]
  },
  {
   "cell_type": "code",
   "execution_count": null,
   "metadata": {
    "colab": {
     "base_uri": "https://localhost:8080/",
     "height": 357
    },
    "colab_type": "code",
    "id": "zNSoZPckp40d",
    "outputId": "ead319fc-9a55-493f-e7a9-27fa8943e120"
   },
   "outputs": [],
   "source": [
    "# NVIDIA GPU 확인\n",
    "!nvidia-smi"
   ]
  }
 ],
 "metadata": {
  "accelerator": "GPU",
  "colab": {
   "authorship_tag": "ABX9TyPdJWVX95V44+mkYRLuqfOQ",
   "collapsed_sections": [],
   "include_colab_link": true,
   "name": "02-intro.ipynb",
   "provenance": []
  },
  "kernelspec": {
   "display_name": "Python 3",
   "language": "python",
   "name": "python3"
  },
  "language_info": {
   "codemirror_mode": {
    "name": "ipython",
    "version": 3
   },
   "file_extension": ".py",
   "mimetype": "text/x-python",
   "name": "python",
   "nbconvert_exporter": "python",
   "pygments_lexer": "ipython3",
   "version": "3.7.7"
  }
 },
 "nbformat": 4,
 "nbformat_minor": 1
}
