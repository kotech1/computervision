{
  "nbformat": 4,
  "nbformat_minor": 0,
  "metadata": {
    "accelerator": "GPU",
    "colab": {
      "name": "02-intro.ipynb",
      "provenance": [],
      "collapsed_sections": [],
      "include_colab_link": true
    },
    "kernelspec": {
      "display_name": "Python 3",
      "language": "python",
      "name": "python3"
    },
    "language_info": {
      "codemirror_mode": {
        "name": "ipython",
        "version": 3
      },
      "file_extension": ".py",
      "mimetype": "text/x-python",
      "name": "python",
      "nbconvert_exporter": "python",
      "pygments_lexer": "ipython3",
      "version": "3.7.7"
    }
  },
  "cells": [
    {
      "cell_type": "markdown",
      "metadata": {
        "id": "view-in-github",
        "colab_type": "text"
      },
      "source": [
        "<a href=\"https://colab.research.google.com/github/kotech1/computervision/blob/master/02_local.ipynb\" target=\"_parent\"><img src=\"https://colab.research.google.com/assets/colab-badge.svg\" alt=\"Open In Colab\"/></a>"
      ]
    },
    {
      "cell_type": "markdown",
      "metadata": {
        "colab_type": "text",
        "id": "IjlDibNpW0xU"
      },
      "source": [
        "# 구글 코랩 및 Jupyter 노트북\n",
        "\n",
        "## 로컬 PC환경에서 설치하기\n",
        "\n",
        "### 윈도우 개발환경\n",
        "\n",
        "아나콘다 홈페이지: www.anaconda.com  \n",
        "아나콘다 과거 설치파일 레포지터리: https://repo.anaconda.com  \n",
        "\n",
        "Change log:  \n",
        "- 2020년 8월 기준 윈도우 설치파일: 2020.02버전 - https://repo.anaconda.com/archive/Anaconda3-2020.02-Windows-x86_64.exe "
      ]
    },
    {
      "cell_type": "markdown",
      "metadata": {
        "id": "X0TPGfQCTgzI",
        "colab_type": "text"
      },
      "source": [
        "첫번째 파이썬 코드 실행하기"
      ]
    },
    {
      "cell_type": "code",
      "metadata": {
        "colab_type": "code",
        "id": "Hpdnq8g8v29i",
        "colab": {
          "base_uri": "https://localhost:8080/"
        },
        "outputId": "14307fa0-c7dd-42fa-8212-5b548c122be4"
      },
      "source": [
        "print('hello, world.')"
      ],
      "execution_count": null,
      "outputs": [
        {
          "output_type": "stream",
          "text": [
            "hello, world.\n"
          ],
          "name": "stdout"
        }
      ]
    },
    {
      "cell_type": "markdown",
      "metadata": {
        "colab_type": "text",
        "id": "H_hHTMIPv3YB"
      },
      "source": [
        "먼저 파이썬 버전을 확인해봅시다"
      ]
    },
    {
      "cell_type": "code",
      "metadata": {
        "colab_type": "code",
        "id": "7UYQdPI5WvQH",
        "colab": {
          "base_uri": "https://localhost:8080/",
          "height": 34
        },
        "outputId": "bac5bc41-6522-4252-cd62-819ce50bd965"
      },
      "source": [
        "import sys\n",
        "sys.version_info"
      ],
      "execution_count": null,
      "outputs": [
        {
          "output_type": "execute_result",
          "data": {
            "text/plain": [
              "sys.version_info(major=3, minor=7, micro=7, releaselevel='final', serial=0)"
            ]
          },
          "metadata": {
            "tags": []
          },
          "execution_count": 2
        }
      ]
    },
    {
      "cell_type": "markdown",
      "metadata": {
        "colab_type": "text",
        "id": "szRdHbCpaFy-"
      },
      "source": [
        "파이썬 이스터에그"
      ]
    },
    {
      "cell_type": "code",
      "metadata": {
        "colab_type": "code",
        "id": "b0BBfgceZxxy",
        "colab": {
          "base_uri": "https://localhost:8080/"
        },
        "outputId": "d0de10e2-78d4-4014-80a4-053000ad3147"
      },
      "source": [
        "import this"
      ],
      "execution_count": null,
      "outputs": [
        {
          "output_type": "stream",
          "text": [
            "The Zen of Python, by Tim Peters\n",
            "\n",
            "Beautiful is better than ugly.\n",
            "Explicit is better than implicit.\n",
            "Simple is better than complex.\n",
            "Complex is better than complicated.\n",
            "Flat is better than nested.\n",
            "Sparse is better than dense.\n",
            "Readability counts.\n",
            "Special cases aren't special enough to break the rules.\n",
            "Although practicality beats purity.\n",
            "Errors should never pass silently.\n",
            "Unless explicitly silenced.\n",
            "In the face of ambiguity, refuse the temptation to guess.\n",
            "There should be one-- and preferably only one --obvious way to do it.\n",
            "Although that way may not be obvious at first unless you're Dutch.\n",
            "Now is better than never.\n",
            "Although never is often better than *right* now.\n",
            "If the implementation is hard to explain, it's a bad idea.\n",
            "If the implementation is easy to explain, it may be a good idea.\n",
            "Namespaces are one honking great idea -- let's do more of those!\n"
          ],
          "name": "stdout"
        }
      ]
    },
    {
      "cell_type": "code",
      "metadata": {
        "id": "MgkU_cpZTgzZ",
        "colab_type": "code",
        "colab": {}
      },
      "source": [
        "import antigravity"
      ],
      "execution_count": null,
      "outputs": []
    },
    {
      "cell_type": "markdown",
      "metadata": {
        "colab_type": "text",
        "id": "A007CLqbICjd"
      },
      "source": [
        "텐서플로우 버전 확인"
      ]
    },
    {
      "cell_type": "code",
      "metadata": {
        "colab_type": "code",
        "id": "RqNXYwSEaN0d",
        "colab": {
          "base_uri": "https://localhost:8080/"
        },
        "outputId": "93a8d621-143f-404c-8da7-061bf7ddca79"
      },
      "source": [
        "import tensorflow as tf\n",
        "tf.__version__"
      ],
      "execution_count": null,
      "outputs": [
        {
          "output_type": "execute_result",
          "data": {
            "text/plain": [
              "'2.3.0'"
            ]
          },
          "metadata": {
            "tags": []
          },
          "execution_count": 4
        }
      ]
    },
    {
      "cell_type": "markdown",
      "metadata": {
        "colab_type": "text",
        "id": "2a7yM3e3Vxoj"
      },
      "source": [
        "# 생각해보기"
      ]
    },
    {
      "cell_type": "code",
      "metadata": {
        "colab_type": "code",
        "id": "7daFMcAPOcM0",
        "colab": {}
      },
      "source": [
        "# 갯수 3개, 크기: 1,2,3 무게: 10,20,30  \n",
        "fruit_type1 = [ [ 1, 2, 3], [ 10, 20, 30]]\n",
        "fruit_type2 = [ [1, 10], [2, 20], [3, 30]]"
      ],
      "execution_count": null,
      "outputs": []
    },
    {
      "cell_type": "markdown",
      "metadata": {
        "colab_type": "text",
        "id": "Q44ai_Ko16Yl"
      },
      "source": [
        "## numpy 배열 만들기\n",
        "-1 부터 1까지 step(=0.1) 단위로 숫자 생성  \n",
        "`np.arange`함수(array range)는 파이썬의 `range`와 비슷한 사용법이다.  \n"
      ]
    },
    {
      "cell_type": "code",
      "metadata": {
        "colab_type": "code",
        "id": "zHU7i_vB1Y7k",
        "colab": {}
      },
      "source": [
        "import numpy as np\n",
        "x = np.linspace(-1, 1, num=21)\n",
        "x"
      ],
      "execution_count": null,
      "outputs": []
    },
    {
      "cell_type": "markdown",
      "metadata": {
        "colab_type": "text",
        "id": "s5fbY3Pz3Q8H"
      },
      "source": [
        "$y = x^2$ 데이터를 생성해 보자.  "
      ]
    },
    {
      "cell_type": "markdown",
      "metadata": {
        "colab_type": "text",
        "id": "BV2KPfXg5MAA"
      },
      "source": [
        ""
      ]
    },
    {
      "cell_type": "code",
      "metadata": {
        "colab_type": "code",
        "id": "zPxmiSj43Qe5",
        "colab": {}
      },
      "source": [
        "y = x**2\n",
        "y"
      ],
      "execution_count": null,
      "outputs": []
    },
    {
      "cell_type": "code",
      "metadata": {
        "colab_type": "code",
        "id": "pOKIDPIABWSG",
        "colab": {}
      },
      "source": [
        "print(x.shape, y.shape)"
      ],
      "execution_count": null,
      "outputs": []
    },
    {
      "cell_type": "markdown",
      "metadata": {
        "colab_type": "text",
        "id": "uTK95Ts5CI2m"
      },
      "source": [
        "그래프 그려보기"
      ]
    },
    {
      "cell_type": "code",
      "metadata": {
        "colab_type": "code",
        "id": "K_dOwM8WCIDm",
        "colab": {}
      },
      "source": [
        "from matplotlib import pyplot as plt\n",
        "plt.plot(x, y, '-')\n",
        "plt.show()"
      ],
      "execution_count": null,
      "outputs": []
    },
    {
      "cell_type": "markdown",
      "metadata": {
        "colab_type": "text",
        "id": "_G_4Rmq902nh"
      },
      "source": [
        "## 텐서와 다차원 배열의 차이\n",
        "\n",
        "텐서는 주로 정형화된 수치 배열에 사용한다.\n",
        "텐서는 병렬 연산자를 적용할 수 있다."
      ]
    },
    {
      "cell_type": "code",
      "metadata": {
        "colab_type": "code",
        "id": "QuTO52Qk04wc",
        "colab": {}
      },
      "source": [
        "x = np.array([\n",
        "    [ 1.0, 1.1 ],\n",
        "    [ 2.2, 1.0 ]\n",
        "])\n",
        "y = [\n",
        "    [ 1.0, 1.1 ],\n",
        "    [ 1.0, 3, 2.0 ],\n",
        "\n",
        "]\n",
        "print(x.shape)\n",
        "x = x*2\n",
        "print(x)\n",
        "x = x**2 + 1\n",
        "print(x)\n",
        "\n",
        "# 배열에 2를 곱하는 것은 다른 의미를 가짐.\n",
        "y = y*2  ## same as y = y + y\n",
        "print(y)\n",
        "# 다음 연산은 오류가 남.\n",
        "# y = y**2\n",
        "# y = y + 1\n",
        "\n",
        "print(x[0,1])\n",
        "print(x[0][1])\n",
        "# y[1,2] # 배열에는 tupule 형식을 사용할 수 없다."
      ],
      "execution_count": null,
      "outputs": []
    },
    {
      "cell_type": "markdown",
      "metadata": {
        "colab_type": "text",
        "id": "VNt1W1QrMUfg"
      },
      "source": [
        "## 이미지 읽고 그리기"
      ]
    },
    {
      "cell_type": "code",
      "metadata": {
        "colab_type": "code",
        "id": "yafOeZ0VHdKV",
        "colab": {}
      },
      "source": [
        "from tensorflow import keras\n",
        "import cv2\n",
        "\n",
        "image_path = keras.utils.get_file(\"seoul.jpg\", \"http://data.si.re.kr/photo_ndownload/21555\")\n",
        "image = cv2.imread(image_path)\n",
        "# convert opencv RGB for opencv\n",
        "image = cv2.cvtColor(image, cv2.COLOR_BGR2RGB)\n",
        "plt.imshow(image)\n",
        "plt.show()"
      ],
      "execution_count": null,
      "outputs": []
    },
    {
      "cell_type": "markdown",
      "metadata": {
        "colab_type": "text",
        "id": "t2VvTwoIMBwq"
      },
      "source": [
        "# 확장하기\n",
        "\n",
        "과일의 크기와 무게를 모두 2배로 하기"
      ]
    },
    {
      "cell_type": "code",
      "metadata": {
        "colab_type": "code",
        "id": "n45soNd2MGsU",
        "colab": {}
      },
      "source": [
        "import numpy as np\n",
        "x = np.array([[1.0, 1.1], [2.0, 2.1], [0.9, 1.1]])\n",
        "x_big = x*2\n",
        "print(x_big)"
      ],
      "execution_count": null,
      "outputs": []
    },
    {
      "cell_type": "markdown",
      "metadata": {
        "colab_type": "text",
        "id": "wuX8O1A4OYt9"
      },
      "source": [
        "무게만 두 배로 하기"
      ]
    },
    {
      "cell_type": "code",
      "metadata": {
        "colab_type": "code",
        "id": "xSQHRYEwM7uZ",
        "colab": {}
      },
      "source": [
        "x_size = x[:, 1:2] # 두번째 열(column)만 추출\n",
        "x_size *= 2\n",
        "x_big2 = x\n",
        "x_big2[:, 1:2] = x_size # 두번째 열 데이터 교체\n",
        "print(x_big2)"
      ],
      "execution_count": null,
      "outputs": []
    },
    {
      "cell_type": "code",
      "metadata": {
        "colab_type": "code",
        "id": "-laHUJhZnRb-",
        "colab": {}
      },
      "source": [
        "import numpy as np\n",
        "import time\n",
        "\n",
        "n = 20000\n",
        "\n",
        "w = np.random.random((n,n))*0.000001\n",
        "x = np.random.random((n))*0.001\n",
        "#w = np.array([[0, 1],[2, 3]])\n",
        "#x = np.array([1, 2])\n",
        "#print(w)\n",
        "#print(x)\n",
        "tic = time.time()\n",
        "# inner product\n",
        "y1 = np.dot(w,x)\n",
        "y2 = np.dot(w,y1)\n",
        "y3 = np.dot(w,y2)\n",
        "y4 = np.dot(w,y3)\n",
        "y5 = np.dot(w,y4)\n",
        "y6 = np.dot(w,y5)\n",
        "y7 = np.dot(w,y6)\n",
        "y8 = np.dot(w,y7)\n",
        "y9 = np.dot(w,y8)\n",
        "y = np.dot(w,y9)\n",
        "toc = time.time()\n",
        "print('elapsed time =', toc-tic)\n",
        "print(y[0], y[1], y[n-1])"
      ],
      "execution_count": null,
      "outputs": []
    },
    {
      "cell_type": "code",
      "metadata": {
        "colab_type": "code",
        "id": "kxtjWTwVot8p",
        "colab": {}
      },
      "source": [
        "import tensorflow as tf\n",
        "from tensorflow import keras\n",
        "from tensorflow.keras.layers import Input, Flatten, Dense, Conv2D\n",
        "from tensorflow.keras.models import Model\n",
        "\n",
        "input_layer = [Input((n,n)), Input(n)]\n",
        "y1 = keras.layers.Dot(axes=(2,1))(input_layer)\n",
        "y2 = keras.layers.Dot(axes=(2,1))(input_layer)\n",
        "y3 = keras.layers.Dot(axes=(2,1))(input_layer)\n",
        "y4 = keras.layers.Dot(axes=(2,1))(input_layer)\n",
        "y5 = keras.layers.Dot(axes=(2,1))(input_layer)\n",
        "y6 = keras.layers.Dot(axes=(2,1))(input_layer)\n",
        "y7 = keras.layers.Dot(axes=(2,1))(input_layer)\n",
        "y8 = keras.layers.Dot(axes=(2,1))(input_layer)\n",
        "y9 = keras.layers.Dot(axes=(2,1))(input_layer)\n",
        "\n",
        "'''\n",
        "y2 = keras.layers.Dot(axes=(2,1))([input_layer[0], y1])\n",
        "y3 = keras.layers.Dot(axes=(2,1))([input_layer[0], y2])\n",
        "y4 = keras.layers.Dot(axes=(2,1))([input_layer[0], y3])\n",
        "y5 = keras.layers.Dot(axes=(2,1))([input_layer[0], y4])\n",
        "y6 = keras.layers.Dot(axes=(2,1))([input_layer[0], y5])\n",
        "y7 = keras.layers.Dot(axes=(2,1))([input_layer[0], y6])\n",
        "y8 = keras.layers.Dot(axes=(2,1))([input_layer[0], y7])\n",
        "y9 = keras.layers.Dot(axes=(2,1))([input_layer[0], y8])\n",
        "output_layer = keras.layers.Dot(axes=(2,1))([input_layer[0], y9])\n",
        "\n",
        "'''\n",
        "output_layer = keras.layers.Add()([y1,y2,y3,y4,y5,y6,y7,y8,y9])\n",
        "\n",
        "model = Model(input_layer, output_layer)\n",
        "\n",
        "#print(model.summary())\n",
        "model.compile()\n",
        "\n",
        "tic = time.time()\n",
        "y = model.predict([w.reshape(1,n,n), x.reshape(1,n)])\n",
        "toc = time.time()\n",
        "print('elapsed time =', toc-tic)\n",
        "print(y[0][0], y[0][1], y[0][n-1])"
      ],
      "execution_count": null,
      "outputs": []
    },
    {
      "cell_type": "code",
      "metadata": {
        "colab_type": "code",
        "id": "zNSoZPckp40d",
        "colab": {}
      },
      "source": [
        "# NVIDIA GPU 확인\n",
        "!nvidia-smi"
      ],
      "execution_count": null,
      "outputs": []
    }
  ]
}