{
  "cells": [
    {
      "cell_type": "markdown",
      "id": "valid-sport",
      "metadata": {
        "id": "valid-sport"
      },
      "source": [
        "# Mathjax  \n",
        "\n",
        "[$\\TeX$ Commands available in MathJax](https://www.onemathematicalcat.org/MathJaxDocumentation/TeXSyntax.htm)  \n",
        "[MathJax에서 유용한 $TeX$ 명령어](https://www.onemathematicalcat.org/MathJaxDocumentation/MathJaxKorean/TeXSyntax_ko.html)   \n"
      ]
    },
    {
      "cell_type": "markdown",
      "id": "light-samba",
      "metadata": {
        "id": "light-samba"
      },
      "source": [
        "$$\n",
        "\\left[\\begin{array}{cccc|c}\n",
        "a_{11}&a_{12}&\\cdots &a_{1n}&b_1\\\\\n",
        "a_{21}&a_{22}&\\cdots &a_{2n}&b_2\\\\\n",
        "\\vdots & &\\ddots &\\vdots *\\vdots\\\\\n",
        "a_{n1}&a_{n2}&\\cdots &a_{nn}&b_n\\\\\n",
        "\\end{array}\\right]\n",
        "$$"
      ]
    },
    {
      "cell_type": "markdown",
      "id": "absolute-father",
      "metadata": {
        "id": "absolute-father"
      },
      "source": [
        "[Adding labels to matrix in MathJax?](https://tex.stackexchange.com/questions/339938/adding-labels-to-matrix-in-mathjax)  \n",
        "$$\n",
        "\\begin{array}{ccc}\n",
        " & & \\textit{next state}\\\\\n",
        " & & \\begin{array}{ccc} 1 & \\quad 2 \\quad & 3 \\end{array}\\\\\n",
        "\\textit{current state} & \\begin{array}{c} 1\\\\ 2\\\\ 3\\end{array} &\n",
        "  \\left(\\begin{array}{ccc}\n",
        "    1/2 & 0 & 1/2\\\\\n",
        "    0 & 1/2 & 1/2\\\\\n",
        "    1/4 & 1/4 & 1/2\n",
        "  \\end{array}\\right)\n",
        "\\end{array}\n",
        "$$"
      ]
    },
    {
      "cell_type": "code",
      "execution_count": null,
      "id": "martial-reconstruction",
      "metadata": {
        "id": "martial-reconstruction"
      },
      "outputs": [],
      "source": [
        ""
      ]
    }
  ],
  "metadata": {
    "kernelspec": {
      "display_name": "Python 3",
      "language": "python",
      "name": "python3"
    },
    "language_info": {
      "codemirror_mode": {
        "name": "ipython",
        "version": 3
      },
      "file_extension": ".py",
      "mimetype": "text/x-python",
      "name": "python",
      "nbconvert_exporter": "python",
      "pygments_lexer": "ipython3",
      "version": "3.7.9"
    },
    "colab": {
      "name": "mathjax.ipynb",
      "provenance": []
    }
  },
  "nbformat": 4,
  "nbformat_minor": 5
}