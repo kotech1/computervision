{
  "nbformat": 4,
  "nbformat_minor": 0,
  "metadata": {
    "colab": {
      "name": "05-cnnbasic.ipynb",
      "provenance": [],
      "authorship_tag": "ABX9TyMO1pPpK9XeuTY/xtKKOziK",
      "include_colab_link": true
    },
    "kernelspec": {
      "name": "python3",
      "display_name": "Python 3"
    },
    "accelerator": "GPU"
  },
  "cells": [
    {
      "cell_type": "markdown",
      "metadata": {
        "id": "view-in-github",
        "colab_type": "text"
      },
      "source": [
        "<a href=\"https://colab.research.google.com/github/kotech1/computervision/blob/master/05_cnnbasic.ipynb\" target=\"_parent\"><img src=\"https://colab.research.google.com/assets/colab-badge.svg\" alt=\"Open In Colab\"/></a>"
      ]
    },
    {
      "cell_type": "markdown",
      "metadata": {
        "id": "TIx-nFxYnhkG"
      },
      "source": [
        "#크로스 엔트로피#"
      ]
    },
    {
      "cell_type": "markdown",
      "metadata": {
        "id": "-pqo85YBny75"
      },
      "source": [
        "동전을 100번 던져서 51번이 앞면, 49번이 뒷면이 나왔다고 가정합니다.  \n",
        "앞면과 뒷면이 나올 확률을 각각 (0.5, 0.5)라고 가정했을 때 Likelyhood는 얼마인가요?  \n",
        "\n",
        "$\n",
        "\\text{Likelyhood} =\n",
        "\\prod q_i^{N_i} \n",
        "= q_1^{51}q_2^{49}=0.5^{51}\\cdot0.5^{49}\n",
        "$\n"
      ]
    },
    {
      "cell_type": "code",
      "metadata": {
        "id": "WYCP90DAoW4g",
        "colab": {
          "base_uri": "https://localhost:8080/"
        },
        "outputId": "add6fac8-b463-4ed4-e56e-26402cce33d0"
      },
      "source": [
        "print(0.5**51*0.5**49)"
      ],
      "execution_count": 1,
      "outputs": [
        {
          "output_type": "stream",
          "name": "stdout",
          "text": [
            "7.888609052210118e-31\n"
          ]
        }
      ]
    },
    {
      "cell_type": "markdown",
      "metadata": {
        "id": "rZKuhAOxrVaF"
      },
      "source": [
        "이 경우 실제 확률 $p_1=51/100, p_2=49/100$ 이라고 하면,  \n",
        "교차 엔트로피(Cross Entropy)는 얼마입니까?  \n",
        "\n",
        "$\n",
        "H = -\\sum p_i\\log q_i = -0.51\\log0.5-0.49\\log0.5\n",
        "$"
      ]
    },
    {
      "cell_type": "code",
      "metadata": {
        "id": "3tQFUSR5s5UW",
        "colab": {
          "base_uri": "https://localhost:8080/"
        },
        "outputId": "9d390db7-dacc-455c-c8fb-9fdad8985712"
      },
      "source": [
        "import numpy as np\n",
        "print(-0.51*np.log(0.5)-0.49*np.log(0.5))"
      ],
      "execution_count": 2,
      "outputs": [
        {
          "output_type": "stream",
          "name": "stdout",
          "text": [
            "0.6931471805599453\n"
          ]
        }
      ]
    },
    {
      "cell_type": "markdown",
      "metadata": {
        "id": "DNuV1DXYqwvF"
      },
      "source": [
        "앞면과 뒷면이 나올 확률을 $q_1 = 0.51, q_2 = 0.49$ 로 가정했을 때 Likelyhood는 얼마인가요?   \n",
        "  \n",
        "$\n",
        "q_1^{51}q_2^{49}=0.51^{51}\\cdot0.49^{49}\n",
        "$ "
      ]
    },
    {
      "cell_type": "code",
      "metadata": {
        "id": "CG-0s3p1p-qd",
        "colab": {
          "base_uri": "https://localhost:8080/"
        },
        "outputId": "3d305d8f-5bb6-4ef7-bf38-455f945df2d6"
      },
      "source": [
        "print(0.51**51*0.49**49)"
      ],
      "execution_count": 3,
      "outputs": [
        {
          "output_type": "stream",
          "name": "stdout",
          "text": [
            "8.047980258362417e-31\n"
          ]
        }
      ]
    },
    {
      "cell_type": "markdown",
      "metadata": {
        "id": "3xai_owathfx"
      },
      "source": [
        "이 경우 교차 엔트로피는 얼마입니까?  \n",
        "\n",
        "$\n",
        "H = -\\sum p_i\\log q_i = -0.51\\log0.51-0.49\\log0.49\n",
        "$"
      ]
    },
    {
      "cell_type": "code",
      "metadata": {
        "id": "-8loqzYTtw1N",
        "colab": {
          "base_uri": "https://localhost:8080/"
        },
        "outputId": "a6711d99-18df-45c0-baad-92836f8cb48b"
      },
      "source": [
        "import numpy as np\n",
        "\n",
        "print(-0.51*np.log(0.51)-0.49*np.log(0.49))"
      ],
      "execution_count": 4,
      "outputs": [
        {
          "output_type": "stream",
          "name": "stdout",
          "text": [
            "0.6929471672244782\n"
          ]
        }
      ]
    },
    {
      "cell_type": "markdown",
      "metadata": {
        "id": "csFTN5Y_wgJX"
      },
      "source": [
        "두 경우에 대해 mse (평균 제곱오차)를 계산해 봅시다.  \n",
        "\n",
        "$\n",
        "\\text{mse} = {1\\over N}\\sum\\left(\\hat{y}-y\\right)^2\n",
        "= {1\\over 2} \\sum\\left(q_i-p_i\\right)^2\n",
        "$"
      ]
    },
    {
      "cell_type": "code",
      "metadata": {
        "id": "wD5alIH8wKeh",
        "colab": {
          "base_uri": "https://localhost:8080/"
        },
        "outputId": "be81d616-7783-4154-cbd2-1f6206f99a01"
      },
      "source": [
        "print(((0.5-0.51)**2+(0.5-0.49)**2)/2)\n",
        "print(((0.51-0.51)**2+(0.49-0.49)**2)/2)"
      ],
      "execution_count": 5,
      "outputs": [
        {
          "output_type": "stream",
          "name": "stdout",
          "text": [
            "0.00010000000000000018\n",
            "0.0\n"
          ]
        }
      ]
    },
    {
      "cell_type": "markdown",
      "metadata": {
        "id": "D_w_0_n7xlub"
      },
      "source": [
        "cross entropy와 mse의 차이를 비교해봅시다.  \n"
      ]
    },
    {
      "cell_type": "code",
      "metadata": {
        "id": "ijlM0bbTxs7N",
        "colab": {
          "base_uri": "https://localhost:8080/"
        },
        "outputId": "6add0224-6adf-480c-c8bd-14e112b4ba5c"
      },
      "source": [
        "print('cross entropy difference = ',\n",
        "      -0.51*np.log(0.5)-0.49*np.log(0.5)-(-0.51*np.log(0.51)-0.49*np.log(0.49)))\n",
        "print('mse difference = ', \n",
        "      ((0.51-0.5)**2+(0.49-0.5)**2)/2 - ((0.51-0.51)**2+(0.49-0.49)**2)/2)"
      ],
      "execution_count": 6,
      "outputs": [
        {
          "output_type": "stream",
          "name": "stdout",
          "text": [
            "cross entropy difference =  0.00020001333546704192\n",
            "mse difference =  0.00010000000000000018\n"
          ]
        }
      ]
    },
    {
      "cell_type": "markdown",
      "metadata": {
        "id": "zNYjX0vQyrbJ"
      },
      "source": [
        "참 값이 $p_1 = 1, p_2 = 0$ 입니다.  \n",
        "예측값이 $q_1 = 0.9, q_2 = 0.1$ 인 경우와, $q_1 = 1, q_2=0$ 인 경우의 각각에 대해  \n",
        "cross entropy의 차이와 mse의 차이를 비교해봅시다."
      ]
    },
    {
      "cell_type": "code",
      "metadata": {
        "id": "0DhoUiYx0aGy",
        "colab": {
          "base_uri": "https://localhost:8080/"
        },
        "outputId": "a4f66ed5-fcd3-4b4c-f742-a2dbe8df7763"
      },
      "source": [
        "def cross_entropy(p, q):\n",
        "  p2 = p[p!=0] # p_i가 0일 경우에는 log(0)계산을 피하기 위해 제거하고 계산함.\n",
        "  q2 = q[p!=0]\n",
        "  return (-p2*np.log(q2)).sum()\n",
        "\n",
        "def mse(p, q):\n",
        "  return ((p-q)**2).sum()/len(p)\n",
        "\n",
        "p = np.array([1., 0.])\n",
        "q = np.array([0.9, 0.1])\n",
        "\n",
        "h_a = cross_entropy(p, q)\n",
        "h_b = cross_entropy(p, p)\n",
        "print('cross entropy difference = ', h_a-h_b)\n",
        "l_a = mse(p, q)\n",
        "l_b = mse(p, p)\n",
        "print('mse difference = ', l_a-l_b)"
      ],
      "execution_count": 7,
      "outputs": [
        {
          "output_type": "stream",
          "name": "stdout",
          "text": [
            "cross entropy difference =  0.10536051565782628\n",
            "mse difference =  0.009999999999999998\n"
          ]
        }
      ]
    },
    {
      "cell_type": "markdown",
      "metadata": {
        "id": "JirZErQG7ENL"
      },
      "source": [
        "cross entropy와 mse의 손실함수 비교"
      ]
    },
    {
      "cell_type": "code",
      "metadata": {
        "id": "Nh18qZb46CCk",
        "colab": {
          "base_uri": "https://localhost:8080/",
          "height": 483
        },
        "outputId": "81ec02ae-75b3-4591-9367-38b150524c6d"
      },
      "source": [
        "from matplotlib import pyplot as plt\n",
        "\n",
        "q1 = np.linspace(0.2,1,50)\n",
        "q2 = 1 - q1\n",
        "q = np.vstack((q1.flatten(), q2.flatten())).T\n",
        "h = [cross_entropy(p, q[i]) for i in range(0,50)]\n",
        "l = [mse(p, q[i]) for i in range(0, 50)]\n",
        "\n",
        "fig, ax = plt.subplots(figsize=(8,8))\n",
        "ax.set_aspect('equal')\n",
        "ax.grid(True, which='both')\n",
        "ax.axhline(y=0, color='k')\n",
        "ax.axvline(x=0, color='k')\n",
        "\n",
        "ax.plot(q1, h, label='cross entropy', color='red')\n",
        "ax.plot(q1, l, label='mse')\n",
        "ax.legend()\n",
        "plt.show()"
      ],
      "execution_count": 8,
      "outputs": [
        {
          "output_type": "display_data",
          "data": {
            "image/png": "[encoded data removed]",
            "text/plain": [
              "<Figure size 576x576 with 1 Axes>"
            ]
          },
          "metadata": {
            "needs_background": "light"
          }
        }
      ]
    },
    {
      "cell_type": "markdown",
      "metadata": {
        "id": "m3TN8z_qEkPL"
      },
      "source": [
        "**연습 과제**  \n",
        "1. 실제 출현 확률 $p_i$가 1/2, 1/4, 1/8, 1/16, 1/16인 5종류 데이터의 엔트로피를  계산하십시오. \n",
        "2. 위와 같은 출현 확률을 같는 5종을 표현할 수 있는 이진 데이터를 만들어 보십시오.  \n",
        "3. 각 종류의 비트 수가 $-\\log_2p_i$와 같아졌나요?  \n",
        "4. 1024번 출현했다고 할때 각 종류의 평균 출현 수는 얼마입니까?  \n",
        "   $N_i = Np_i$\n",
        "5. 5종의 예측 출현 확률 $q_i$를 1/5, 1/5, 1/5, 1/5, 1/5라고 할 때  \n",
        "   Likelyhood는 얼마입니까?  \n",
        "   $\\text{Likelyhood} = \\prod q_i^{N_i}=\\prod q_i^{Np_i}$  \n",
        "6. 교차 엔트로피를 계산하십시오.  \n",
        "   $H = -\\sum p_i\\log q_i$  \n",
        "7. 5종의 예측 출현 확률 $q_i$를 $p_i$와 같은 1/2, 1/4, 1/8, 1/16, 1/16 이라고 할 때  \n",
        "   가능도와 교차 엔트로피를 계산하십시오.  \n",
        "8. 계산 하기 전에 어느 쪽이 크거나 작은지 예측해 봅시다. "
      ]
    },
    {
      "cell_type": "markdown",
      "metadata": {
        "id": "W-pNiD_pRGaN"
      },
      "source": [
        "# CNN을 이용한 MNIST 인식"
      ]
    },
    {
      "cell_type": "code",
      "metadata": {
        "id": "G_HxRasTomtZ"
      },
      "source": [
        "# tensorflow와 tf.keras를 임포트합니다\n",
        "import tensorflow as tf\n",
        "from tensorflow import keras\n",
        "\n",
        "# 헬퍼(helper) 라이브러리를 임포트합니다\n",
        "import numpy as np\n",
        "import matplotlib.pyplot as plt\n",
        "\n",
        "mnist = keras.datasets.mnist\n",
        "\n",
        "(train_images, train_labels), (test_images, test_labels) = mnist.load_data()\n",
        "(x_train, y_train), (x_test, y_test) = (train_images, train_labels), (test_images, test_labels)\n",
        "\n",
        "class_names = ['0', '1', '2', '3', '4', '5', '6', '7', '8', '9']\n",
        "NUM_CLASSES = 10"
      ],
      "execution_count": 9,
      "outputs": []
    },
    {
      "cell_type": "code",
      "metadata": {
        "id": "SJ64diTEo5K5",
        "colab": {
          "base_uri": "https://localhost:8080/"
        },
        "outputId": "b2060bd8-19ee-42f1-d5fd-f16b89d652b0"
      },
      "source": [
        "from tensorflow.keras.utils import to_categorical\n",
        "\n",
        "# cnn을 위한 전처리 (channel을 위한 shape 추가)\n",
        "x_train = x_train.reshape((60000, 28, 28, 1))\n",
        "x_test = x_test.reshape((10000, 28, 28, 1))\n",
        "\n",
        "x_train = x_train/255.\n",
        "x_test = x_test/255.\n",
        "\n",
        "y_train = to_categorical(y_train, NUM_CLASSES)\n",
        "y_test = to_categorical(y_test, NUM_CLASSES)\n",
        "print(\"converted x.shape = \", x_train.shape)"
      ],
      "execution_count": 10,
      "outputs": [
        {
          "output_type": "stream",
          "name": "stdout",
          "text": [
            "converted x.shape =  (60000, 28, 28, 1)\n"
          ]
        }
      ]
    },
    {
      "cell_type": "code",
      "metadata": {
        "id": "tdAxDNHwxwGT",
        "colab": {
          "base_uri": "https://localhost:8080/"
        },
        "outputId": "3b7a6358-59e8-4533-e7ac-1c408bf34254"
      },
      "source": [
        "model = keras.Sequential([\n",
        "    keras.layers.Conv2D(32, (3,3), activation='relu', input_shape=(28, 28, 1)),\n",
        "    keras.layers.MaxPooling2D((2,2)),\n",
        "    keras.layers.Conv2D(64, (3,3), activation='relu'),\n",
        "    keras.layers.MaxPooling2D((2,2)),\n",
        "    keras.layers.Conv2D(64, (3,3), activation='relu'),\n",
        "    keras.layers.Flatten(),\n",
        "    keras.layers.Dense(64, activation='relu'),\n",
        "    keras.layers.Dense(10, activation='softmax')\n",
        "])\n",
        "\n",
        "model.summary()\n",
        "\n",
        "#from keras.utils.vis_utils import plot_model\n",
        "#plot_model(model, to_file='model_plot.png', show_shapes=True, show_layer_names=True)"
      ],
      "execution_count": 11,
      "outputs": [
        {
          "output_type": "stream",
          "name": "stdout",
          "text": [
            "Model: \"sequential\"\n",
            "_________________________________________________________________\n",
            "Layer (type)                 Output Shape              Param #   \n",
            "=================================================================\n",
            "conv2d (Conv2D)              (None, 26, 26, 32)        320       \n",
            "_________________________________________________________________\n",
            "max_pooling2d (MaxPooling2D) (None, 13, 13, 32)        0         \n",
            "_________________________________________________________________\n",
            "conv2d_1 (Conv2D)            (None, 11, 11, 64)        18496     \n",
            "_________________________________________________________________\n",
            "max_pooling2d_1 (MaxPooling2 (None, 5, 5, 64)          0         \n",
            "_________________________________________________________________\n",
            "conv2d_2 (Conv2D)            (None, 3, 3, 64)          36928     \n",
            "_________________________________________________________________\n",
            "flatten (Flatten)            (None, 576)               0         \n",
            "_________________________________________________________________\n",
            "dense (Dense)                (None, 64)                36928     \n",
            "_________________________________________________________________\n",
            "dense_1 (Dense)              (None, 10)                650       \n",
            "=================================================================\n",
            "Total params: 93,322\n",
            "Trainable params: 93,322\n",
            "Non-trainable params: 0\n",
            "_________________________________________________________________\n"
          ]
        }
      ]
    },
    {
      "cell_type": "markdown",
      "metadata": {
        "id": "kDkpwQXndJ1O"
      },
      "source": [
        "**학습 전 컨볼루션 커널**"
      ]
    },
    {
      "cell_type": "code",
      "metadata": {
        "id": "GbOMfAnshtFo",
        "colab": {
          "base_uri": "https://localhost:8080/"
        },
        "outputId": "5ffc57b8-fce7-4d08-b1ec-eee67cde50b2"
      },
      "source": [
        "conv2d_1 = model.layers[0]\n",
        "weights = conv2d_1.get_weights()\n",
        "w = weights[0]\n",
        "b = weights[1]\n",
        "print(w.shape, b.shape)\n",
        "filter_id = 0\n",
        "kernel = w[:,:,:,filter_id:filter_id+1]\n",
        "kernel = kernel.reshape(3,3)\n",
        "print(kernel)"
      ],
      "execution_count": 12,
      "outputs": [
        {
          "output_type": "stream",
          "name": "stdout",
          "text": [
            "(3, 3, 1, 32) (32,)\n",
            "[[ 0.11680056  0.05907676  0.01720531]\n",
            " [ 0.07385045 -0.06022872 -0.0771725 ]\n",
            " [ 0.00386207 -0.07578383  0.06230351]]\n"
          ]
        }
      ]
    },
    {
      "cell_type": "markdown",
      "metadata": {
        "id": "kjnmQSQ3dR_L"
      },
      "source": [
        "**모델 학습**"
      ]
    },
    {
      "cell_type": "code",
      "metadata": {
        "id": "u1RjZOMeyFa0",
        "colab": {
          "base_uri": "https://localhost:8080/"
        },
        "outputId": "ae808322-8836-41b6-e04f-da1e4fccfa87"
      },
      "source": [
        "model.compile(optimizer='sgd',\n",
        "              loss='categorical_crossentropy',\n",
        "              metrics=['accuracy'])\n",
        "history = model.fit(x_train, y_train, epochs=10)"
      ],
      "execution_count": 13,
      "outputs": [
        {
          "output_type": "stream",
          "name": "stdout",
          "text": [
            "Epoch 1/10\n",
            "1875/1875 [==============================] - 13s 6ms/step - loss: 0.5499 - accuracy: 0.8405\n",
            "Epoch 2/10\n",
            "1875/1875 [==============================] - 11s 6ms/step - loss: 0.1365 - accuracy: 0.9577\n",
            "Epoch 3/10\n",
            "1875/1875 [==============================] - 11s 6ms/step - loss: 0.0939 - accuracy: 0.9708\n",
            "Epoch 4/10\n",
            "1875/1875 [==============================] - 11s 6ms/step - loss: 0.0739 - accuracy: 0.9770\n",
            "Epoch 5/10\n",
            "1875/1875 [==============================] - 11s 6ms/step - loss: 0.0628 - accuracy: 0.9803\n",
            "Epoch 6/10\n",
            "1875/1875 [==============================] - 11s 6ms/step - loss: 0.0548 - accuracy: 0.9828\n",
            "Epoch 7/10\n",
            "1875/1875 [==============================] - 11s 6ms/step - loss: 0.0476 - accuracy: 0.9852\n",
            "Epoch 8/10\n",
            "1875/1875 [==============================] - 11s 6ms/step - loss: 0.0439 - accuracy: 0.9860\n",
            "Epoch 9/10\n",
            "1875/1875 [==============================] - 11s 6ms/step - loss: 0.0403 - accuracy: 0.9871\n",
            "Epoch 10/10\n",
            "1875/1875 [==============================] - 11s 6ms/step - loss: 0.0363 - accuracy: 0.9889\n"
          ]
        }
      ]
    },
    {
      "cell_type": "code",
      "metadata": {
        "id": "hsxHtZYkzmxe",
        "colab": {
          "base_uri": "https://localhost:8080/",
          "height": 295
        },
        "outputId": "e6402e1f-d80b-4db1-f300-4ad152ea8899"
      },
      "source": [
        "# summarize history for accuracy\n",
        "plt.plot(history.history['accuracy'])\n",
        "plt.plot(history.history['loss'])\n",
        "plt.title('train history')\n",
        "plt.ylabel('accuracy')\n",
        "plt.xlabel('epoch')\n",
        "plt.legend(['accuracy', 'loss'], loc='upper left')\n",
        "plt.show()"
      ],
      "execution_count": 14,
      "outputs": [
        {
          "output_type": "display_data",
          "data": {
            "image/png": "[encoded data removed]",
            "text/plain": [
              "<Figure size 432x288 with 1 Axes>"
            ]
          },
          "metadata": {
            "needs_background": "light"
          }
        }
      ]
    },
    {
      "cell_type": "markdown",
      "metadata": {
        "id": "VqejRC9xJbtP"
      },
      "source": [
        "**테스트 셋 결과 확인**"
      ]
    },
    {
      "cell_type": "code",
      "metadata": {
        "id": "w7tLMknJyiAb",
        "colab": {
          "base_uri": "https://localhost:8080/"
        },
        "outputId": "735f8f48-a9bf-4808-988c-997d7fe780ff"
      },
      "source": [
        "loss, accuracy = model.evaluate(x_test, y_test)"
      ],
      "execution_count": 15,
      "outputs": [
        {
          "output_type": "stream",
          "name": "stdout",
          "text": [
            "313/313 [==============================] - 2s 4ms/step - loss: 0.0378 - accuracy: 0.9881\n"
          ]
        }
      ]
    },
    {
      "cell_type": "markdown",
      "metadata": {
        "id": "WlO1EqIzJfra"
      },
      "source": [
        "**softmax 결과 학인**\n"
      ]
    },
    {
      "cell_type": "code",
      "metadata": {
        "id": "DI9eplm2JlGa",
        "colab": {
          "base_uri": "https://localhost:8080/"
        },
        "outputId": "29d4e46d-e85a-461f-e2ae-b2e91348873d"
      },
      "source": [
        "preds = model.predict(x_train[0:1])\n",
        "print(preds[0])\n",
        "print(preds[0].sum())"
      ],
      "execution_count": 16,
      "outputs": [
        {
          "output_type": "stream",
          "name": "stdout",
          "text": [
            "[1.5419070e-09 4.6471196e-09 2.8632382e-08 4.3158393e-02 5.1923976e-10\n",
            " 9.5682847e-01 1.3677826e-09 8.2369020e-08 9.1288439e-06 3.8548192e-06]\n",
            "0.99999994\n"
          ]
        }
      ]
    },
    {
      "cell_type": "markdown",
      "metadata": {
        "id": "zGpJ2gL9lwtI"
      },
      "source": [
        "**Fully Connected Network과의 비교**"
      ]
    },
    {
      "cell_type": "code",
      "metadata": {
        "id": "xWmIwOH7l2f7",
        "colab": {
          "base_uri": "https://localhost:8080/",
          "height": 883
        },
        "outputId": "53d8cdde-cd59-4804-cf08-0b9c9ebd36b7"
      },
      "source": [
        "modelfc = keras.Sequential([\n",
        "    keras.layers.Flatten(input_shape=(28, 28, 1)),\n",
        "    keras.layers.Dense(128, activation='relu'),\n",
        "    keras.layers.Dense(10, activation='softmax')\n",
        "])\n",
        "\n",
        "modelfc.summary()\n",
        "\n",
        "modelfc.compile(optimizer='sgd',\n",
        "              loss='categorical_crossentropy',\n",
        "              metrics=['accuracy'])\n",
        "history = modelfc.fit(x_train, y_train, epochs=10)\n",
        "\n",
        "# summarize history for accuracy\n",
        "plt.plot(history.history['accuracy'])\n",
        "plt.plot(history.history['loss'])\n",
        "plt.title('train history')\n",
        "plt.ylabel('accuracy')\n",
        "plt.xlabel('epoch')\n",
        "plt.legend(['accuracy', 'loss'], loc='upper left')\n",
        "plt.show()\n",
        "\n",
        "loss, accuracy = modelfc.evaluate(x_test, y_test)"
      ],
      "execution_count": 17,
      "outputs": [
        {
          "output_type": "stream",
          "name": "stdout",
          "text": [
            "Model: \"sequential_1\"\n",
            "_________________________________________________________________\n",
            "Layer (type)                 Output Shape              Param #   \n",
            "=================================================================\n",
            "flatten_1 (Flatten)          (None, 784)               0         \n",
            "_________________________________________________________________\n",
            "dense_2 (Dense)              (None, 128)               100480    \n",
            "_________________________________________________________________\n",
            "dense_3 (Dense)              (None, 10)                1290      \n",
            "=================================================================\n",
            "Total params: 101,770\n",
            "Trainable params: 101,770\n",
            "Non-trainable params: 0\n",
            "_________________________________________________________________\n",
            "Epoch 1/10\n",
            "1875/1875 [==============================] - 5s 3ms/step - loss: 0.6417 - accuracy: 0.8368\n",
            "Epoch 2/10\n",
            "1875/1875 [==============================] - 5s 3ms/step - loss: 0.3393 - accuracy: 0.9064\n",
            "Epoch 3/10\n",
            "1875/1875 [==============================] - 5s 3ms/step - loss: 0.2909 - accuracy: 0.9187\n",
            "Epoch 4/10\n",
            "1875/1875 [==============================] - 5s 3ms/step - loss: 0.2605 - accuracy: 0.9273\n",
            "Epoch 5/10\n",
            "1875/1875 [==============================] - 5s 3ms/step - loss: 0.2370 - accuracy: 0.9339\n",
            "Epoch 6/10\n",
            "1875/1875 [==============================] - 5s 3ms/step - loss: 0.2179 - accuracy: 0.9391\n",
            "Epoch 7/10\n",
            "1875/1875 [==============================] - 5s 3ms/step - loss: 0.2013 - accuracy: 0.9431\n",
            "Epoch 8/10\n",
            "1875/1875 [==============================] - 5s 3ms/step - loss: 0.1877 - accuracy: 0.9477\n",
            "Epoch 9/10\n",
            "1875/1875 [==============================] - 5s 3ms/step - loss: 0.1757 - accuracy: 0.9506\n",
            "Epoch 10/10\n",
            "1875/1875 [==============================] - 5s 3ms/step - loss: 0.1649 - accuracy: 0.9540\n"
          ]
        },
        {
          "output_type": "display_data",
          "data": {
            "image/png": "[encoded data removed]",
            "text/plain": [
              "<Figure size 432x288 with 1 Axes>"
            ]
          },
          "metadata": {
            "needs_background": "light"
          }
        },
        {
          "output_type": "stream",
          "name": "stdout",
          "text": [
            "313/313 [==============================] - 1s 3ms/step - loss: 0.1640 - accuracy: 0.9522\n"
          ]
        }
      ]
    },
    {
      "cell_type": "markdown",
      "metadata": {
        "id": "RTkxWR9_7FZU"
      },
      "source": [
        "**모델의 레이어 출력값 확인**"
      ]
    },
    {
      "cell_type": "markdown",
      "metadata": {
        "id": "70U2VWCG-TqM"
      },
      "source": [
        "모델로 부터 각 레이어의 값을 출력하는 fuctors생성"
      ]
    },
    {
      "cell_type": "code",
      "metadata": {
        "id": "KvHG2FaJzjcT",
        "colab": {
          "base_uri": "https://localhost:8080/",
          "height": 366
        },
        "outputId": "4e87f0c0-3340-4e56-85fb-523688f294c4"
      },
      "source": [
        "from tensorflow.keras import backend as K\n",
        "\n",
        "inp = model.input                                           # input placeholder\n",
        "outputs = [layer.output for layer in model.layers]          # all layer outputs\n",
        "functors = [K.function([inp, keras.Input(shape=())], [out]) for out in outputs]    # evaluation functions\n",
        "\n",
        "layer_id = 0\n",
        "filter_id = 0\n",
        "layerfn = functors[layer_id]\n",
        "learning_phase = 0 # 학습시 1, 추론시 0\n",
        "out = layerfn([x_train[0:2], learning_phase]) # 첫 이미지 두개만 추론\n",
        "# out[출력 parameter 순서][데이터 id][height, width, channel]\n",
        "print('out[0].shape =', out[0].shape)\n",
        "result = out[0][0][:,:,filter_id:filter_id+1]\n",
        "# 채널결과가 포함되어 있다.\n",
        "print('model result shape (with channel) = ', result.shape)\n",
        "# 간편한 형식을 위해서 채널 dimension을 삭제\n",
        "result_as_img = result.reshape((result.shape[0], result.shape[1]))\n",
        "print(result_as_img.shape)\n",
        "\n",
        "# 첫번째 입력 이미지 확인\n",
        "plt.imshow(x_train[0].reshape((28,28)), cmap=plt.cm.binary)\n",
        "plt.show()\n",
        "x_pos = 10\n",
        "y_pos = 5\n",
        "img3x3 = x_train[0][y_pos:y_pos+3, x_pos:x_pos+3, :].reshape((3,3))\n",
        "print(img3x3)\n"
      ],
      "execution_count": 18,
      "outputs": [
        {
          "output_type": "stream",
          "name": "stdout",
          "text": [
            "out[0].shape = (2, 26, 26, 32)\n",
            "model result shape (with channel) =  (26, 26, 1)\n",
            "(26, 26)\n"
          ]
        },
        {
          "output_type": "display_data",
          "data": {
            "image/png": "[encoded data removed]",
            "text/plain": [
              "<Figure size 432x288 with 1 Axes>"
            ]
          },
          "metadata": {
            "needs_background": "light"
          }
        },
        {
          "output_type": "stream",
          "name": "stdout",
          "text": [
            "[[0.         0.         0.01176471]\n",
            " [0.36862745 0.60392157 0.66666667]\n",
            " [0.99215686 0.99215686 0.99215686]]\n"
          ]
        }
      ]
    },
    {
      "cell_type": "markdown",
      "metadata": {
        "id": "rbmqF3l7dXjZ"
      },
      "source": [
        "**학습 후 커널 확인**"
      ]
    },
    {
      "cell_type": "code",
      "metadata": {
        "id": "PaIXG0Xc0Vdt",
        "colab": {
          "base_uri": "https://localhost:8080/"
        },
        "outputId": "1ac89a13-a9cf-46df-8855-e378209a6741"
      },
      "source": [
        "conv2d_1 = model.layers[0]\n",
        "weights = conv2d_1.get_weights()\n",
        "w = weights[0]\n",
        "b = weights[1]\n",
        "print(w.shape, b.shape)\n",
        "filter_id = 0\n",
        "kernel = w[:,:,:,filter_id:filter_id+1]\n",
        "kernel = kernel.reshape(3,3)\n",
        "print(kernel)\n",
        "bias = b[0]\n",
        "print(bias)\n",
        "print(img3x3)"
      ],
      "execution_count": 19,
      "outputs": [
        {
          "output_type": "stream",
          "name": "stdout",
          "text": [
            "(3, 3, 1, 32) (32,)\n",
            "[[ 0.3113472   0.2759877   0.13276903]\n",
            " [ 0.22878383  0.11983205  0.04009848]\n",
            " [ 0.00269908 -0.01099655  0.13775969]]\n",
            "-0.00022450156\n",
            "[[0.         0.         0.01176471]\n",
            " [0.36862745 0.60392157 0.66666667]\n",
            " [0.99215686 0.99215686 0.99215686]]\n"
          ]
        }
      ]
    },
    {
      "cell_type": "code",
      "metadata": {
        "id": "nMKUKD_H0ojf",
        "colab": {
          "base_uri": "https://localhost:8080/"
        },
        "outputId": "a8024d10-e106-4410-8d72-9778b0ab33b9"
      },
      "source": [
        "y = (kernel*img3x3).sum()+bias\n",
        "if y < 0:   # activation = ReLU\n",
        "  y = 0\n",
        "print(y)\n",
        "print(result[y_pos][x_pos])"
      ],
      "execution_count": 20,
      "outputs": [
        {
          "output_type": "stream",
          "name": "stdout",
          "text": [
            "0.3132217975514804\n",
            "[0.3132218]\n"
          ]
        }
      ]
    },
    {
      "cell_type": "markdown",
      "metadata": {
        "id": "e0tAtgJFIWql"
      },
      "source": [
        "**연습과제**  \n",
        "1. MNIST CNN인식에서 이미지와 결과를 표시하는 것을 다시 한번 연습합시다.  \n",
        "2. CNN에서 epoch을 증가시켜 가면서 인식률이 최대 치가 되는 지점을 찾아봅시다.  \n",
        "3. epoch에 따른 test set의 손실과 인식률도 같이 확인해 봅시다.  \n",
        "4. 손실함수를 교차 엔트로피 대신에 mse를 사용하고 epoch에 따른 인식률의 변화를 실험해 봅시다.  \n",
        "   (교차 엔트로피 쪽이 더 빨리 인식률이 좋아졌습니까? 그 이유는 무엇입니까?)  \n",
        "\n"
      ]
    },
    {
      "cell_type": "code",
      "metadata": {
        "id": "-fY2zvrhIZU7"
      },
      "source": [
        ""
      ],
      "execution_count": 20,
      "outputs": []
    }
  ]
}