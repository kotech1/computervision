{
  "nbformat": 4,
  "nbformat_minor": 0,
  "metadata": {
    "colab": {
      "name": "05-cnnbasic.ipynb",
      "provenance": [],
      "authorship_tag": "ABX9TyPA5DE//4f1UgSgTa/plvY2",
      "include_colab_link": true
    },
    "kernelspec": {
      "name": "python3",
      "display_name": "Python 3"
    },
    "accelerator": "GPU"
  },
  "cells": [
    {
      "cell_type": "markdown",
      "metadata": {
        "id": "view-in-github",
        "colab_type": "text"
      },
      "source": [
        "<a href=\"https://colab.research.google.com/github/kotech1/computervision/blob/master/05_cnnbasic.ipynb\" target=\"_parent\"><img src=\"https://colab.research.google.com/assets/colab-badge.svg\" alt=\"Open In Colab\"/></a>"
      ]
    },
    {
      "cell_type": "markdown",
      "metadata": {
        "id": "TIx-nFxYnhkG",
        "colab_type": "text"
      },
      "source": [
        "#크로스 엔트로피#"
      ]
    },
    {
      "cell_type": "markdown",
      "metadata": {
        "id": "-pqo85YBny75",
        "colab_type": "text"
      },
      "source": [
        "동전을 100번 던져서 51번이 앞면, 49번이 뒷면이 나왔다고 가정합니다.  \n",
        "앞면과 뒷면이 나올 확률을 각각 (0.5, 0.5)라고 가정했을 때 Likelyhood는 얼마인가요?  \n",
        "\n",
        "$\n",
        "\\text{Likelyhood} =\n",
        "\\prod q_i^{N_i} \n",
        "= q_1^{51}q_2^{49}=0.5^{51}\\cdot0.5^{49}\n",
        "$\n"
      ]
    },
    {
      "cell_type": "code",
      "metadata": {
        "id": "WYCP90DAoW4g",
        "colab_type": "code",
        "colab": {
          "base_uri": "https://localhost:8080/",
          "height": 34
        },
        "outputId": "18c1999c-497e-4aa7-aca8-4ac5a90c2b69"
      },
      "source": [
        "print(0.5**51*0.5**49)"
      ],
      "execution_count": 93,
      "outputs": [
        {
          "output_type": "stream",
          "text": [
            "7.888609052210118e-31\n"
          ],
          "name": "stdout"
        }
      ]
    },
    {
      "cell_type": "markdown",
      "metadata": {
        "id": "rZKuhAOxrVaF",
        "colab_type": "text"
      },
      "source": [
        "이 경우 실제 확률 $p_1=51/100, p_2=49/100$ 이라고 하면,  \n",
        "교차 엔트로피(Cross Entropy)는 얼마입니까?  \n",
        "\n",
        "$\n",
        "H = -\\sum p_i\\log q_i = -0.51\\log0.5-0.49\\log0.5\n",
        "$"
      ]
    },
    {
      "cell_type": "code",
      "metadata": {
        "id": "3tQFUSR5s5UW",
        "colab_type": "code",
        "colab": {
          "base_uri": "https://localhost:8080/",
          "height": 34
        },
        "outputId": "1c78bd91-d725-400a-c62c-017ad6f4fc52"
      },
      "source": [
        "print(-0.51*np.log(0.5)-0.49*np.log(0.5))"
      ],
      "execution_count": 95,
      "outputs": [
        {
          "output_type": "stream",
          "text": [
            "0.6931471805599453\n"
          ],
          "name": "stdout"
        }
      ]
    },
    {
      "cell_type": "markdown",
      "metadata": {
        "id": "DNuV1DXYqwvF",
        "colab_type": "text"
      },
      "source": [
        "앞면과 뒷면이 나올 확률을 $q_1 = 0.51, q_2 = 0.49$ 로 가정했을 때 Likelyhood는 얼마인가요?   \n",
        "  \n",
        "$\n",
        "q_1^{51}q_2^{49}=0.51^{51}\\cdot0.49^{49}\n",
        "$ "
      ]
    },
    {
      "cell_type": "code",
      "metadata": {
        "id": "CG-0s3p1p-qd",
        "colab_type": "code",
        "colab": {
          "base_uri": "https://localhost:8080/",
          "height": 34
        },
        "outputId": "23bbd179-b35f-42af-ddc3-28d8c16d742f"
      },
      "source": [
        "print(0.51**51*0.49**49)"
      ],
      "execution_count": 96,
      "outputs": [
        {
          "output_type": "stream",
          "text": [
            "8.047980258362417e-31\n"
          ],
          "name": "stdout"
        }
      ]
    },
    {
      "cell_type": "markdown",
      "metadata": {
        "id": "3xai_owathfx",
        "colab_type": "text"
      },
      "source": [
        "이 경우 교차 엔트로피는 얼마입니까?  \n",
        "\n",
        "$\n",
        "H = -\\sum p_i\\log q_i = -0.51\\log0.51-0.49\\log0.49\n",
        "$"
      ]
    },
    {
      "cell_type": "code",
      "metadata": {
        "id": "-8loqzYTtw1N",
        "colab_type": "code",
        "colab": {
          "base_uri": "https://localhost:8080/",
          "height": 34
        },
        "outputId": "d4d0564b-4d09-41a4-87cc-db7af470bfa6"
      },
      "source": [
        "import numpy as np\n",
        "\n",
        "print(-0.51*np.log(0.51)-0.49*np.log(0.49))"
      ],
      "execution_count": 116,
      "outputs": [
        {
          "output_type": "stream",
          "text": [
            "0.6929471672244782\n"
          ],
          "name": "stdout"
        }
      ]
    },
    {
      "cell_type": "markdown",
      "metadata": {
        "id": "csFTN5Y_wgJX",
        "colab_type": "text"
      },
      "source": [
        "두 경우에 대해 mse (평균 제곱오차)를 계산해 봅시다.  \n",
        "\n",
        "$\n",
        "\\text{mse} = {1\\over N}\\sum\\left(\\hat{y}-y\\right)^2\n",
        "= {1\\over 2} \\sum\\left(q_i-p_i\\right)^2\n",
        "$"
      ]
    },
    {
      "cell_type": "code",
      "metadata": {
        "id": "wD5alIH8wKeh",
        "colab_type": "code",
        "colab": {
          "base_uri": "https://localhost:8080/",
          "height": 50
        },
        "outputId": "5ddd33af-da7f-4dcf-cdd2-056709ecbd79"
      },
      "source": [
        "print(((0.5-0.51)**2+(0.5-0.49)**2)/2)\n",
        "print(((0.51-0.51)**2+(0.49-0.49)**2)/2)"
      ],
      "execution_count": 105,
      "outputs": [
        {
          "output_type": "stream",
          "text": [
            "0.00010000000000000018\n",
            "0.0\n"
          ],
          "name": "stdout"
        }
      ]
    },
    {
      "cell_type": "markdown",
      "metadata": {
        "id": "D_w_0_n7xlub",
        "colab_type": "text"
      },
      "source": [
        "cross entropy와 mse의 차이를 비교해봅시다.  \n"
      ]
    },
    {
      "cell_type": "code",
      "metadata": {
        "id": "ijlM0bbTxs7N",
        "colab_type": "code",
        "colab": {
          "base_uri": "https://localhost:8080/",
          "height": 50
        },
        "outputId": "72a4f978-8ba9-453f-bf15-8a486b59ed06"
      },
      "source": [
        "print('cross entropy difference = ',\n",
        "      -0.51*np.log(0.5)-0.49*np.log(0.5)-(-0.51*np.log(0.51)-0.49*np.log(0.49)))\n",
        "print('mse difference = ', \n",
        "      ((0.51-0.5)**2+(0.49-0.5)**2)/2 - ((0.51-0.51)**2+(0.49-0.49)**2)/2)"
      ],
      "execution_count": 104,
      "outputs": [
        {
          "output_type": "stream",
          "text": [
            "cross entropy difference =  0.00020001333546704192\n",
            "mse difference =  0.00010000000000000018\n"
          ],
          "name": "stdout"
        }
      ]
    },
    {
      "cell_type": "markdown",
      "metadata": {
        "id": "zNYjX0vQyrbJ",
        "colab_type": "text"
      },
      "source": [
        "참 값이 $p_1 = 1, p_2 = 0$ 입니다.  \n",
        "예측값이 $q_1 = 0.9, q_2 = 0.1$ 인 경우와, $q_1 = 1, q_2=0$ 인 경우의 각각에 대해  \n",
        "cross entropy의 차이와 mse의 차이를 비교해봅시다."
      ]
    },
    {
      "cell_type": "code",
      "metadata": {
        "id": "0DhoUiYx0aGy",
        "colab_type": "code",
        "colab": {
          "base_uri": "https://localhost:8080/",
          "height": 50
        },
        "outputId": "8935f35e-9721-4655-c1e5-2ad2de49fc36"
      },
      "source": [
        "def cross_entropy(p, q):\n",
        "  p2 = p[p!=0] # p_i가 0일 경우에는 log(0)계산을 피하기 위해 제거하고 계산함.\n",
        "  q2 = q[p!=0]\n",
        "  return (-p2*np.log(q2)).sum()\n",
        "\n",
        "def mse(p, q):\n",
        "  return ((p-q)**2).sum()/len(p)\n",
        "\n",
        "p = np.array([1., 0.])\n",
        "q = np.array([0.9, 0.1])\n",
        "\n",
        "h_a = cross_entropy(p, q)\n",
        "h_b = cross_entropy(p, p)\n",
        "print('cross entropy difference = ', h_a-h_b)\n",
        "l_a = mse(p, q)\n",
        "l_b = mse(p, p)\n",
        "print('mse difference = ', l_a-l_b)"
      ],
      "execution_count": 117,
      "outputs": [
        {
          "output_type": "stream",
          "text": [
            "cross entropy difference =  0.10536051565782628\n",
            "mse difference =  0.009999999999999998\n"
          ],
          "name": "stdout"
        }
      ]
    },
    {
      "cell_type": "markdown",
      "metadata": {
        "id": "JirZErQG7ENL",
        "colab_type": "text"
      },
      "source": [
        "cross entropy와 mse의 손실함수 비교"
      ]
    },
    {
      "cell_type": "code",
      "metadata": {
        "id": "Nh18qZb46CCk",
        "colab_type": "code",
        "colab": {
          "base_uri": "https://localhost:8080/",
          "height": 483
        },
        "outputId": "75a46cd2-e34e-4c1b-c266-f61324f9526a"
      },
      "source": [
        "from matplotlib import pyplot as plt\n",
        "\n",
        "q1 = np.linspace(0.2,1,50)\n",
        "q2 = 1 - q1\n",
        "q = np.vstack((q1.flatten(), q2.flatten())).T\n",
        "h = [cross_entropy(p, q[i]) for i in range(0,50)]\n",
        "l = [mse(p, q[i]) for i in range(0, 50)]\n",
        "\n",
        "fig, ax = plt.subplots(figsize=(8,8))\n",
        "ax.set_aspect('equal')\n",
        "ax.grid(True, which='both')\n",
        "ax.axhline(y=0, color='k')\n",
        "ax.axvline(x=0, color='k')\n",
        "\n",
        "ax.plot(q_1, h, label='cross entropy', color='red')\n",
        "ax.plot(q_1, l, label='mse')\n",
        "ax.legend()\n",
        "plt.show()"
      ],
      "execution_count": 147,
      "outputs": [
        {
          "output_type": "display_data",
          "data": {
            "image/png": "[encoded data removed]",
            "text/plain": [
              "<Figure size 576x576 with 1 Axes>"
            ]
          },
          "metadata": {
            "tags": [],
            "needs_background": "light"
          }
        }
      ]
    },
    {
      "cell_type": "markdown",
      "metadata": {
        "id": "W-pNiD_pRGaN",
        "colab_type": "text"
      },
      "source": [
        "# CNN을 이용한 MNIST 인식"
      ]
    },
    {
      "cell_type": "code",
      "metadata": {
        "id": "G_HxRasTomtZ",
        "colab_type": "code",
        "colab": {
          "base_uri": "https://localhost:8080/",
          "height": 50
        },
        "outputId": "4f41ae2a-3785-44e8-bfbf-221729a590f4"
      },
      "source": [
        "# tensorflow와 tf.keras를 임포트합니다\n",
        "import tensorflow as tf\n",
        "from tensorflow import keras\n",
        "\n",
        "# 헬퍼(helper) 라이브러리를 임포트합니다\n",
        "import numpy as np\n",
        "import matplotlib.pyplot as plt\n",
        "\n",
        "mnist = keras.datasets.mnist\n",
        "\n",
        "(train_images, train_labels), (test_images, test_labels) = mnist.load_data()\n",
        "(x_train, y_train), (x_test, y_test) = (train_images, train_labels), (test_images, test_labels)\n",
        "\n",
        "class_names = ['0', '1', '2', '3', '4', '5', '6', '7', '8', '9']\n",
        "NUM_CLASSES = 10"
      ],
      "execution_count": 1,
      "outputs": [
        {
          "output_type": "stream",
          "text": [
            "Downloading data from https://storage.googleapis.com/tensorflow/tf-keras-datasets/mnist.npz\n",
            "11493376/11490434 [==============================] - 0s 0us/step\n"
          ],
          "name": "stdout"
        }
      ]
    },
    {
      "cell_type": "code",
      "metadata": {
        "id": "SJ64diTEo5K5",
        "colab_type": "code",
        "colab": {
          "base_uri": "https://localhost:8080/",
          "height": 34
        },
        "outputId": "02999795-d73f-4c59-efb2-60a1513f1ae2"
      },
      "source": [
        "from tensorflow.keras.utils import to_categorical\n",
        "\n",
        "# cnn을 위한 전처리 (channel을 위한 shape 추가)\n",
        "x_train = x_train.reshape((60000, 28, 28, 1))\n",
        "x_test = x_test.reshape((10000, 28, 28, 1))\n",
        "\n",
        "x_train = x_train/255.\n",
        "x_test = x_test/255.\n",
        "\n",
        "y_train = to_categorical(y_train, NUM_CLASSES)\n",
        "y_test = to_categorical(y_test, NUM_CLASSES)\n",
        "print(\"converted x.shape = \", x_train.shape)"
      ],
      "execution_count": 2,
      "outputs": [
        {
          "output_type": "stream",
          "text": [
            "converted x.shape =  (60000, 28, 28, 1)\n"
          ],
          "name": "stdout"
        }
      ]
    },
    {
      "cell_type": "code",
      "metadata": {
        "id": "tdAxDNHwxwGT",
        "colab_type": "code",
        "colab": {
          "base_uri": "https://localhost:8080/",
          "height": 420
        },
        "outputId": "26abe464-2de0-431a-e1e6-efcf5f93d433"
      },
      "source": [
        "model = keras.Sequential([\n",
        "    keras.layers.Conv2D(32, (3,3), activation='relu', input_shape=(28, 28, 1)),\n",
        "    keras.layers.MaxPooling2D((2,2)),\n",
        "    keras.layers.Conv2D(64, (3,3), activation='relu'),\n",
        "    keras.layers.MaxPooling2D((2,2)),\n",
        "    keras.layers.Conv2D(64, (3,3), activation='relu'),\n",
        "    keras.layers.Flatten(),\n",
        "    keras.layers.Dense(64, activation='relu'),\n",
        "    keras.layers.Dense(10, activation='softmax')\n",
        "])\n",
        "\n",
        "model.summary()\n",
        "\n",
        "#from keras.utils.vis_utils import plot_model\n",
        "#plot_model(model, to_file='model_plot.png', show_shapes=True, show_layer_names=True)"
      ],
      "execution_count": 78,
      "outputs": [
        {
          "output_type": "stream",
          "text": [
            "Model: \"sequential_4\"\n",
            "_________________________________________________________________\n",
            "Layer (type)                 Output Shape              Param #   \n",
            "=================================================================\n",
            "conv2d_12 (Conv2D)           (None, 26, 26, 32)        320       \n",
            "_________________________________________________________________\n",
            "max_pooling2d_8 (MaxPooling2 (None, 13, 13, 32)        0         \n",
            "_________________________________________________________________\n",
            "conv2d_13 (Conv2D)           (None, 11, 11, 64)        18496     \n",
            "_________________________________________________________________\n",
            "max_pooling2d_9 (MaxPooling2 (None, 5, 5, 64)          0         \n",
            "_________________________________________________________________\n",
            "conv2d_14 (Conv2D)           (None, 3, 3, 64)          36928     \n",
            "_________________________________________________________________\n",
            "flatten_4 (Flatten)          (None, 576)               0         \n",
            "_________________________________________________________________\n",
            "dense_8 (Dense)              (None, 64)                36928     \n",
            "_________________________________________________________________\n",
            "dense_9 (Dense)              (None, 10)                650       \n",
            "=================================================================\n",
            "Total params: 93,322\n",
            "Trainable params: 93,322\n",
            "Non-trainable params: 0\n",
            "_________________________________________________________________\n"
          ],
          "name": "stdout"
        }
      ]
    },
    {
      "cell_type": "code",
      "metadata": {
        "id": "GbOMfAnshtFo",
        "colab_type": "code",
        "colab": {
          "base_uri": "https://localhost:8080/",
          "height": 84
        },
        "outputId": "f804e84f-6e70-48ad-ec4b-659ac259d405"
      },
      "source": [
        "conv2d_1 = model.layers[0]\n",
        "weights = conv2d_1.get_weights()\n",
        "w = weights[0]\n",
        "b = weights[1]\n",
        "print(w.shape, b.shape)\n",
        "filter_id = 0\n",
        "kernel = w[:,:,:,filter_id:filter_id+1]\n",
        "kernel = kernel.reshape(3,3)\n",
        "print(kernel)"
      ],
      "execution_count": 85,
      "outputs": [
        {
          "output_type": "stream",
          "text": [
            "(3, 3, 1, 32) (32,)\n",
            "[[-0.08932558  0.12311997  0.04997042]\n",
            " [ 0.12559615  0.04483671 -0.09872664]\n",
            " [ 0.09862268 -0.06744859 -0.0646313 ]]\n"
          ],
          "name": "stdout"
        }
      ]
    },
    {
      "cell_type": "code",
      "metadata": {
        "id": "u1RjZOMeyFa0",
        "colab_type": "code",
        "colab": {
          "base_uri": "https://localhost:8080/",
          "height": 353
        },
        "outputId": "a4de3182-ec27-4486-9189-1c6f2fffa5b0"
      },
      "source": [
        "model.compile(optimizer='sgd',\n",
        "              loss='categorical_crossentropy',\n",
        "              metrics=['accuracy'])\n",
        "history = model.fit(x_train, y_train, epochs=10)"
      ],
      "execution_count": 86,
      "outputs": [
        {
          "output_type": "stream",
          "text": [
            "Epoch 1/10\n",
            "1875/1875 [==============================] - 11s 6ms/step - loss: 0.5688 - accuracy: 0.8280\n",
            "Epoch 2/10\n",
            "1875/1875 [==============================] - 11s 6ms/step - loss: 0.1338 - accuracy: 0.9590\n",
            "Epoch 3/10\n",
            "1875/1875 [==============================] - 11s 6ms/step - loss: 0.0919 - accuracy: 0.9716\n",
            "Epoch 4/10\n",
            "1875/1875 [==============================] - 11s 6ms/step - loss: 0.0719 - accuracy: 0.9773\n",
            "Epoch 5/10\n",
            "1875/1875 [==============================] - 11s 6ms/step - loss: 0.0607 - accuracy: 0.9809\n",
            "Epoch 6/10\n",
            "1875/1875 [==============================] - 11s 6ms/step - loss: 0.0537 - accuracy: 0.9832\n",
            "Epoch 7/10\n",
            "1875/1875 [==============================] - 11s 6ms/step - loss: 0.0482 - accuracy: 0.9850\n",
            "Epoch 8/10\n",
            "1875/1875 [==============================] - 11s 6ms/step - loss: 0.0427 - accuracy: 0.9868\n",
            "Epoch 9/10\n",
            "1875/1875 [==============================] - 11s 6ms/step - loss: 0.0395 - accuracy: 0.9880\n",
            "Epoch 10/10\n",
            "1875/1875 [==============================] - 11s 6ms/step - loss: 0.0357 - accuracy: 0.9891\n"
          ],
          "name": "stdout"
        }
      ]
    },
    {
      "cell_type": "code",
      "metadata": {
        "id": "w7tLMknJyiAb",
        "colab_type": "code",
        "colab": {
          "base_uri": "https://localhost:8080/",
          "height": 34
        },
        "outputId": "2b5fd437-507e-45dc-a0f1-f031b98272df"
      },
      "source": [
        "loss, accuracy = model.evaluate(x_test, y_test)"
      ],
      "execution_count": 87,
      "outputs": [
        {
          "output_type": "stream",
          "text": [
            "313/313 [==============================] - 1s 4ms/step - loss: 0.0390 - accuracy: 0.9880\n"
          ],
          "name": "stdout"
        }
      ]
    },
    {
      "cell_type": "code",
      "metadata": {
        "id": "hsxHtZYkzmxe",
        "colab_type": "code",
        "colab": {
          "base_uri": "https://localhost:8080/",
          "height": 332
        },
        "outputId": "048485bb-c21f-4b9a-d412-248c5da5c051"
      },
      "source": [
        "# summarize history for accuracy\n",
        "plt.plot(history.history['accuracy'])\n",
        "plt.plot(history.history['loss'])\n",
        "plt.title('train history')\n",
        "plt.ylabel('accuracy')\n",
        "plt.xlabel('epoch')\n",
        "plt.legend(['accuracy', 'loss'], loc='upper left')\n",
        "plt.show()"
      ],
      "execution_count": 88,
      "outputs": [
        {
          "output_type": "stream",
          "text": [
            "{'loss': [0.5687820315361023, 0.1337660700082779, 0.09190244227647781, 0.07186490297317505, 0.0607285238802433, 0.05370797961950302, 0.04817459359765053, 0.042663414031267166, 0.039454586803913116, 0.03574656695127487], 'accuracy': [0.8279833197593689, 0.9589666724205017, 0.9716333150863647, 0.9773333072662354, 0.98089998960495, 0.9832166433334351, 0.9849666953086853, 0.9867666959762573, 0.9880333542823792, 0.9891499876976013]}\n"
          ],
          "name": "stdout"
        },
        {
          "output_type": "display_data",
          "data": {
            "image/png": "[encoded data removed]",
            "text/plain": [
              "<Figure size 432x288 with 1 Axes>"
            ]
          },
          "metadata": {
            "tags": [],
            "needs_background": "light"
          }
        }
      ]
    },
    {
      "cell_type": "markdown",
      "metadata": {
        "id": "zGpJ2gL9lwtI",
        "colab_type": "text"
      },
      "source": [
        "**Fully Connected Network과의 비교**"
      ]
    },
    {
      "cell_type": "code",
      "metadata": {
        "id": "xWmIwOH7l2f7",
        "colab_type": "code",
        "colab": {
          "base_uri": "https://localhost:8080/",
          "height": 883
        },
        "outputId": "9fc35080-4777-4b24-82cd-aea14a0d8cf4"
      },
      "source": [
        "model = keras.Sequential([\n",
        "    keras.layers.Flatten(input_shape=(28, 28, 1)),\n",
        "    keras.layers.Dense(128, activation='relu'),\n",
        "    keras.layers.Dense(10, activation='softmax')\n",
        "])\n",
        "\n",
        "model.summary()\n",
        "\n",
        "model.compile(optimizer='sgd',\n",
        "              loss='categorical_crossentropy',\n",
        "              metrics=['accuracy'])\n",
        "history = model.fit(x_train, y_train, epochs=10)\n",
        "\n",
        "# summarize history for accuracy\n",
        "plt.plot(history.history['accuracy'])\n",
        "plt.plot(history.history['loss'])\n",
        "plt.title('train history')\n",
        "plt.ylabel('accuracy')\n",
        "plt.xlabel('epoch')\n",
        "plt.legend(['accuracy', 'loss'], loc='upper left')\n",
        "plt.show()\n",
        "\n",
        "loss, accuracy = model.evaluate(x_test, y_test)"
      ],
      "execution_count": 92,
      "outputs": [
        {
          "output_type": "stream",
          "text": [
            "Model: \"sequential_7\"\n",
            "_________________________________________________________________\n",
            "Layer (type)                 Output Shape              Param #   \n",
            "=================================================================\n",
            "flatten_7 (Flatten)          (None, 784)               0         \n",
            "_________________________________________________________________\n",
            "dense_14 (Dense)             (None, 128)               100480    \n",
            "_________________________________________________________________\n",
            "dense_15 (Dense)             (None, 10)                1290      \n",
            "=================================================================\n",
            "Total params: 101,770\n",
            "Trainable params: 101,770\n",
            "Non-trainable params: 0\n",
            "_________________________________________________________________\n",
            "Epoch 1/10\n",
            "1875/1875 [==============================] - 5s 2ms/step - loss: 0.6512 - accuracy: 0.8337\n",
            "Epoch 2/10\n",
            "1875/1875 [==============================] - 5s 2ms/step - loss: 0.3355 - accuracy: 0.9066\n",
            "Epoch 3/10\n",
            "1875/1875 [==============================] - 5s 2ms/step - loss: 0.2875 - accuracy: 0.9188\n",
            "Epoch 4/10\n",
            "1875/1875 [==============================] - 5s 3ms/step - loss: 0.2584 - accuracy: 0.9270\n",
            "Epoch 5/10\n",
            "1875/1875 [==============================] - 5s 2ms/step - loss: 0.2358 - accuracy: 0.9345\n",
            "Epoch 6/10\n",
            "1875/1875 [==============================] - 5s 2ms/step - loss: 0.2175 - accuracy: 0.9393\n",
            "Epoch 7/10\n",
            "1875/1875 [==============================] - 5s 3ms/step - loss: 0.2015 - accuracy: 0.9444\n",
            "Epoch 8/10\n",
            "1875/1875 [==============================] - 5s 2ms/step - loss: 0.1880 - accuracy: 0.9479\n",
            "Epoch 9/10\n",
            "1875/1875 [==============================] - 5s 2ms/step - loss: 0.1760 - accuracy: 0.9512\n",
            "Epoch 10/10\n",
            "1875/1875 [==============================] - 5s 3ms/step - loss: 0.1659 - accuracy: 0.9539\n"
          ],
          "name": "stdout"
        },
        {
          "output_type": "display_data",
          "data": {
            "image/png": "[encoded data removed]",
            "text/plain": [
              "<Figure size 432x288 with 1 Axes>"
            ]
          },
          "metadata": {
            "tags": [],
            "needs_background": "light"
          }
        },
        {
          "output_type": "stream",
          "text": [
            "313/313 [==============================] - 1s 3ms/step - loss: 0.1656 - accuracy: 0.9521\n"
          ],
          "name": "stdout"
        }
      ]
    }
  ]
}