{
  "nbformat": 4,
  "nbformat_minor": 0,
  "metadata": {
    "colab": {
      "name": "05-cnnbasic.ipynb",
      "provenance": [],
      "authorship_tag": "ABX9TyPNXWlmQvtcruMNGpJmG9Ad",
      "include_colab_link": true
    },
    "kernelspec": {
      "name": "python3",
      "display_name": "Python 3"
    },
    "accelerator": "GPU"
  },
  "cells": [
    {
      "cell_type": "markdown",
      "metadata": {
        "id": "view-in-github",
        "colab_type": "text"
      },
      "source": [
        "<a href=\"https://colab.research.google.com/github/kotech1/computervision/blob/master/05_cnnbasic.ipynb\" target=\"_parent\"><img src=\"https://colab.research.google.com/assets/colab-badge.svg\" alt=\"Open In Colab\"/></a>"
      ]
    },
    {
      "cell_type": "markdown",
      "metadata": {
        "id": "TIx-nFxYnhkG",
        "colab_type": "text"
      },
      "source": [
        "#크로스 엔트로피#"
      ]
    },
    {
      "cell_type": "markdown",
      "metadata": {
        "id": "-pqo85YBny75",
        "colab_type": "text"
      },
      "source": [
        "동전을 100번 던져서 51번이 앞면, 49번이 뒷면이 나왔다고 가정합니다.  \n",
        "앞면과 뒷면이 나올 확률을 각각 (0.5, 0.5)라고 가정했을 때 Likelyhood는 얼마인가요?  \n",
        "\n",
        "$\n",
        "\\text{Likelyhood} =\n",
        "\\prod q_i^{N_i} \n",
        "= q_1^{51}q_2^{49}=0.5^{51}\\cdot0.5^{49}\n",
        "$\n"
      ]
    },
    {
      "cell_type": "code",
      "metadata": {
        "id": "WYCP90DAoW4g",
        "colab_type": "code",
        "colab": {
          "base_uri": "https://localhost:8080/",
          "height": 35
        },
        "outputId": "e202c72d-2f42-45dd-941a-3d839cebfebc"
      },
      "source": [
        "print(0.5**51*0.5**49)"
      ],
      "execution_count": 1,
      "outputs": [
        {
          "output_type": "stream",
          "text": [
            "7.888609052210118e-31\n"
          ],
          "name": "stdout"
        }
      ]
    },
    {
      "cell_type": "markdown",
      "metadata": {
        "id": "rZKuhAOxrVaF",
        "colab_type": "text"
      },
      "source": [
        "이 경우 실제 확률 $p_1=51/100, p_2=49/100$ 이라고 하면,  \n",
        "교차 엔트로피(Cross Entropy)는 얼마입니까?  \n",
        "\n",
        "$\n",
        "H = -\\sum p_i\\log q_i = -0.51\\log0.5-0.49\\log0.5\n",
        "$"
      ]
    },
    {
      "cell_type": "code",
      "metadata": {
        "id": "3tQFUSR5s5UW",
        "colab_type": "code",
        "colab": {
          "base_uri": "https://localhost:8080/",
          "height": 35
        },
        "outputId": "473f6f84-e6ce-4617-cee7-43aa56ef9f66"
      },
      "source": [
        "import numpy as np\n",
        "print(-0.51*np.log(0.5)-0.49*np.log(0.5))"
      ],
      "execution_count": 3,
      "outputs": [
        {
          "output_type": "stream",
          "text": [
            "0.6931471805599453\n"
          ],
          "name": "stdout"
        }
      ]
    },
    {
      "cell_type": "markdown",
      "metadata": {
        "id": "DNuV1DXYqwvF",
        "colab_type": "text"
      },
      "source": [
        "앞면과 뒷면이 나올 확률을 $q_1 = 0.51, q_2 = 0.49$ 로 가정했을 때 Likelyhood는 얼마인가요?   \n",
        "  \n",
        "$\n",
        "q_1^{51}q_2^{49}=0.51^{51}\\cdot0.49^{49}\n",
        "$ "
      ]
    },
    {
      "cell_type": "code",
      "metadata": {
        "id": "CG-0s3p1p-qd",
        "colab_type": "code",
        "colab": {
          "base_uri": "https://localhost:8080/",
          "height": 35
        },
        "outputId": "cb31a458-f2c5-451c-cfc4-4994354710e7"
      },
      "source": [
        "print(0.51**51*0.49**49)"
      ],
      "execution_count": 4,
      "outputs": [
        {
          "output_type": "stream",
          "text": [
            "8.047980258362417e-31\n"
          ],
          "name": "stdout"
        }
      ]
    },
    {
      "cell_type": "markdown",
      "metadata": {
        "id": "3xai_owathfx",
        "colab_type": "text"
      },
      "source": [
        "이 경우 교차 엔트로피는 얼마입니까?  \n",
        "\n",
        "$\n",
        "H = -\\sum p_i\\log q_i = -0.51\\log0.51-0.49\\log0.49\n",
        "$"
      ]
    },
    {
      "cell_type": "code",
      "metadata": {
        "id": "-8loqzYTtw1N",
        "colab_type": "code",
        "colab": {
          "base_uri": "https://localhost:8080/",
          "height": 35
        },
        "outputId": "75a53f07-525f-462d-d5ad-ef3e57c425b4"
      },
      "source": [
        "import numpy as np\n",
        "\n",
        "print(-0.51*np.log(0.51)-0.49*np.log(0.49))"
      ],
      "execution_count": 5,
      "outputs": [
        {
          "output_type": "stream",
          "text": [
            "0.6929471672244782\n"
          ],
          "name": "stdout"
        }
      ]
    },
    {
      "cell_type": "markdown",
      "metadata": {
        "id": "csFTN5Y_wgJX",
        "colab_type": "text"
      },
      "source": [
        "두 경우에 대해 mse (평균 제곱오차)를 계산해 봅시다.  \n",
        "\n",
        "$\n",
        "\\text{mse} = {1\\over N}\\sum\\left(\\hat{y}-y\\right)^2\n",
        "= {1\\over 2} \\sum\\left(q_i-p_i\\right)^2\n",
        "$"
      ]
    },
    {
      "cell_type": "code",
      "metadata": {
        "id": "wD5alIH8wKeh",
        "colab_type": "code",
        "colab": {
          "base_uri": "https://localhost:8080/",
          "height": 52
        },
        "outputId": "87cd8a07-b0ea-44f4-f487-c9a4b1d60877"
      },
      "source": [
        "print(((0.5-0.51)**2+(0.5-0.49)**2)/2)\n",
        "print(((0.51-0.51)**2+(0.49-0.49)**2)/2)"
      ],
      "execution_count": 6,
      "outputs": [
        {
          "output_type": "stream",
          "text": [
            "0.00010000000000000018\n",
            "0.0\n"
          ],
          "name": "stdout"
        }
      ]
    },
    {
      "cell_type": "markdown",
      "metadata": {
        "id": "D_w_0_n7xlub",
        "colab_type": "text"
      },
      "source": [
        "cross entropy와 mse의 차이를 비교해봅시다.  \n"
      ]
    },
    {
      "cell_type": "code",
      "metadata": {
        "id": "ijlM0bbTxs7N",
        "colab_type": "code",
        "colab": {
          "base_uri": "https://localhost:8080/",
          "height": 52
        },
        "outputId": "3d920d61-9277-4859-c3e6-45218dd5cf25"
      },
      "source": [
        "print('cross entropy difference = ',\n",
        "      -0.51*np.log(0.5)-0.49*np.log(0.5)-(-0.51*np.log(0.51)-0.49*np.log(0.49)))\n",
        "print('mse difference = ', \n",
        "      ((0.51-0.5)**2+(0.49-0.5)**2)/2 - ((0.51-0.51)**2+(0.49-0.49)**2)/2)"
      ],
      "execution_count": 7,
      "outputs": [
        {
          "output_type": "stream",
          "text": [
            "cross entropy difference =  0.00020001333546704192\n",
            "mse difference =  0.00010000000000000018\n"
          ],
          "name": "stdout"
        }
      ]
    },
    {
      "cell_type": "markdown",
      "metadata": {
        "id": "zNYjX0vQyrbJ",
        "colab_type": "text"
      },
      "source": [
        "참 값이 $p_1 = 1, p_2 = 0$ 입니다.  \n",
        "예측값이 $q_1 = 0.9, q_2 = 0.1$ 인 경우와, $q_1 = 1, q_2=0$ 인 경우의 각각에 대해  \n",
        "cross entropy의 차이와 mse의 차이를 비교해봅시다."
      ]
    },
    {
      "cell_type": "code",
      "metadata": {
        "id": "0DhoUiYx0aGy",
        "colab_type": "code",
        "colab": {
          "base_uri": "https://localhost:8080/",
          "height": 52
        },
        "outputId": "62ed38d9-c22a-4a37-8a94-2317787fa5ef"
      },
      "source": [
        "def cross_entropy(p, q):\n",
        "  p2 = p[p!=0] # p_i가 0일 경우에는 log(0)계산을 피하기 위해 제거하고 계산함.\n",
        "  q2 = q[p!=0]\n",
        "  return (-p2*np.log(q2)).sum()\n",
        "\n",
        "def mse(p, q):\n",
        "  return ((p-q)**2).sum()/len(p)\n",
        "\n",
        "p = np.array([1., 0.])\n",
        "q = np.array([0.9, 0.1])\n",
        "\n",
        "h_a = cross_entropy(p, q)\n",
        "h_b = cross_entropy(p, p)\n",
        "print('cross entropy difference = ', h_a-h_b)\n",
        "l_a = mse(p, q)\n",
        "l_b = mse(p, p)\n",
        "print('mse difference = ', l_a-l_b)"
      ],
      "execution_count": 8,
      "outputs": [
        {
          "output_type": "stream",
          "text": [
            "cross entropy difference =  0.10536051565782628\n",
            "mse difference =  0.009999999999999998\n"
          ],
          "name": "stdout"
        }
      ]
    },
    {
      "cell_type": "markdown",
      "metadata": {
        "id": "JirZErQG7ENL",
        "colab_type": "text"
      },
      "source": [
        "cross entropy와 mse의 손실함수 비교"
      ]
    },
    {
      "cell_type": "code",
      "metadata": {
        "id": "Nh18qZb46CCk",
        "colab_type": "code",
        "colab": {
          "base_uri": "https://localhost:8080/",
          "height": 483
        },
        "outputId": "89e60209-8e88-4842-a9d0-4f3268d9bb42"
      },
      "source": [
        "from matplotlib import pyplot as plt\n",
        "\n",
        "q1 = np.linspace(0.2,1,50)\n",
        "q2 = 1 - q1\n",
        "q = np.vstack((q1.flatten(), q2.flatten())).T\n",
        "h = [cross_entropy(p, q[i]) for i in range(0,50)]\n",
        "l = [mse(p, q[i]) for i in range(0, 50)]\n",
        "\n",
        "fig, ax = plt.subplots(figsize=(8,8))\n",
        "ax.set_aspect('equal')\n",
        "ax.grid(True, which='both')\n",
        "ax.axhline(y=0, color='k')\n",
        "ax.axvline(x=0, color='k')\n",
        "\n",
        "ax.plot(q1, h, label='cross entropy', color='red')\n",
        "ax.plot(q1, l, label='mse')\n",
        "ax.legend()\n",
        "plt.show()"
      ],
      "execution_count": 10,
      "outputs": [
        {
          "output_type": "display_data",
          "data": {
            "image/png": "[encoded data removed]",
            "text/plain": [
              "<Figure size 576x576 with 1 Axes>"
            ]
          },
          "metadata": {
            "tags": [],
            "needs_background": "light"
          }
        }
      ]
    },
    {
      "cell_type": "markdown",
      "metadata": {
        "id": "m3TN8z_qEkPL",
        "colab_type": "text"
      },
      "source": [
        "**연습 과제**  \n",
        "1. 실제 출현 확률 $p_i$가 1/2, 1/4, 1/8, 1/16, 1/16인 5종류 데이터의 엔트로피를  계산하십시오. \n",
        "2. 위와 같은 출현 확률을 같는 5종을 표현할 수 있는 이진 데이터를 만들어 보십시오.  \n",
        "3. 각 종류의 비트 수가 $-\\log_2p_i$와 같아졌나요?  \n",
        "4. 1024번 출현했다고 할때 각 종류의 평균 출현 수는 얼마입니까?  \n",
        "   $N_i = Np_i$\n",
        "5. 5종의 예측 출현 확률 $q_i$를 1/5, 1/5, 1/5, 1/5, 1/5라고 할 때  \n",
        "   Likelyhood는 얼마입니까?  \n",
        "   $\\text{Likelyhood} = \\prod q_i^{N_i}=\\prod q_i^{Np_i}$  \n",
        "6. 교차 엔트로피를 계산하십시오.  \n",
        "   $H = -\\sum p_i\\log q_i$  \n",
        "7. 5종의 예측 출현 확률 $q_i$를 $p_i$와 같은 1/2, 1/4, 1/8, 1/16, 1/16 이라고 할 때  \n",
        "   가능도와 교차 엔트로피를 계산하십시오.  \n",
        "8. 계산 하기 전에 어느 쪽이 크거나 작은지 예측해 봅시다. "
      ]
    },
    {
      "cell_type": "markdown",
      "metadata": {
        "id": "W-pNiD_pRGaN",
        "colab_type": "text"
      },
      "source": [
        "# CNN을 이용한 MNIST 인식"
      ]
    },
    {
      "cell_type": "code",
      "metadata": {
        "id": "G_HxRasTomtZ",
        "colab_type": "code",
        "colab": {}
      },
      "source": [
        "# tensorflow와 tf.keras를 임포트합니다\n",
        "import tensorflow as tf\n",
        "from tensorflow import keras\n",
        "\n",
        "# 헬퍼(helper) 라이브러리를 임포트합니다\n",
        "import numpy as np\n",
        "import matplotlib.pyplot as plt\n",
        "\n",
        "mnist = keras.datasets.mnist\n",
        "\n",
        "(train_images, train_labels), (test_images, test_labels) = mnist.load_data()\n",
        "(x_train, y_train), (x_test, y_test) = (train_images, train_labels), (test_images, test_labels)\n",
        "\n",
        "class_names = ['0', '1', '2', '3', '4', '5', '6', '7', '8', '9']\n",
        "NUM_CLASSES = 10"
      ],
      "execution_count": 11,
      "outputs": []
    },
    {
      "cell_type": "code",
      "metadata": {
        "id": "SJ64diTEo5K5",
        "colab_type": "code",
        "colab": {
          "base_uri": "https://localhost:8080/",
          "height": 35
        },
        "outputId": "eecea0ea-a573-4a42-ce36-2afdb3d006fa"
      },
      "source": [
        "from tensorflow.keras.utils import to_categorical\n",
        "\n",
        "# cnn을 위한 전처리 (channel을 위한 shape 추가)\n",
        "x_train = x_train.reshape((60000, 28, 28, 1))\n",
        "x_test = x_test.reshape((10000, 28, 28, 1))\n",
        "\n",
        "x_train = x_train/255.\n",
        "x_test = x_test/255.\n",
        "\n",
        "y_train = to_categorical(y_train, NUM_CLASSES)\n",
        "y_test = to_categorical(y_test, NUM_CLASSES)\n",
        "print(\"converted x.shape = \", x_train.shape)"
      ],
      "execution_count": 12,
      "outputs": [
        {
          "output_type": "stream",
          "text": [
            "converted x.shape =  (60000, 28, 28, 1)\n"
          ],
          "name": "stdout"
        }
      ]
    },
    {
      "cell_type": "code",
      "metadata": {
        "id": "tdAxDNHwxwGT",
        "colab_type": "code",
        "colab": {
          "base_uri": "https://localhost:8080/",
          "height": 442
        },
        "outputId": "d65aff08-7ce9-465c-af86-b40b70a6f70c"
      },
      "source": [
        "model = keras.Sequential([\n",
        "    keras.layers.Conv2D(32, (3,3), activation='relu', input_shape=(28, 28, 1)),\n",
        "    keras.layers.MaxPooling2D((2,2)),\n",
        "    keras.layers.Conv2D(64, (3,3), activation='relu'),\n",
        "    keras.layers.MaxPooling2D((2,2)),\n",
        "    keras.layers.Conv2D(64, (3,3), activation='relu'),\n",
        "    keras.layers.Flatten(),\n",
        "    keras.layers.Dense(64, activation='relu'),\n",
        "    keras.layers.Dense(10, activation='softmax')\n",
        "])\n",
        "\n",
        "model.summary()\n",
        "\n",
        "#from keras.utils.vis_utils import plot_model\n",
        "#plot_model(model, to_file='model_plot.png', show_shapes=True, show_layer_names=True)"
      ],
      "execution_count": 15,
      "outputs": [
        {
          "output_type": "stream",
          "text": [
            "Model: \"sequential_2\"\n",
            "_________________________________________________________________\n",
            "Layer (type)                 Output Shape              Param #   \n",
            "=================================================================\n",
            "conv2d_6 (Conv2D)            (None, 26, 26, 32)        320       \n",
            "_________________________________________________________________\n",
            "max_pooling2d_4 (MaxPooling2 (None, 13, 13, 32)        0         \n",
            "_________________________________________________________________\n",
            "conv2d_7 (Conv2D)            (None, 11, 11, 64)        18496     \n",
            "_________________________________________________________________\n",
            "max_pooling2d_5 (MaxPooling2 (None, 5, 5, 64)          0         \n",
            "_________________________________________________________________\n",
            "conv2d_8 (Conv2D)            (None, 3, 3, 64)          36928     \n",
            "_________________________________________________________________\n",
            "flatten_2 (Flatten)          (None, 576)               0         \n",
            "_________________________________________________________________\n",
            "dense_4 (Dense)              (None, 64)                36928     \n",
            "_________________________________________________________________\n",
            "dense_5 (Dense)              (None, 10)                650       \n",
            "=================================================================\n",
            "Total params: 93,322\n",
            "Trainable params: 93,322\n",
            "Non-trainable params: 0\n",
            "_________________________________________________________________\n"
          ],
          "name": "stdout"
        }
      ]
    },
    {
      "cell_type": "markdown",
      "metadata": {
        "id": "kDkpwQXndJ1O",
        "colab_type": "text"
      },
      "source": [
        "**학습 전 컨볼루션 커널**"
      ]
    },
    {
      "cell_type": "code",
      "metadata": {
        "id": "GbOMfAnshtFo",
        "colab_type": "code",
        "colab": {
          "base_uri": "https://localhost:8080/",
          "height": 88
        },
        "outputId": "319179da-1278-44d7-8c3a-b19115525ea2"
      },
      "source": [
        "conv2d_1 = model.layers[0]\n",
        "weights = conv2d_1.get_weights()\n",
        "w = weights[0]\n",
        "b = weights[1]\n",
        "print(w.shape, b.shape)\n",
        "filter_id = 0\n",
        "kernel = w[:,:,:,filter_id:filter_id+1]\n",
        "kernel = kernel.reshape(3,3)\n",
        "print(kernel)"
      ],
      "execution_count": 16,
      "outputs": [
        {
          "output_type": "stream",
          "text": [
            "(3, 3, 1, 32) (32,)\n",
            "[[ 0.10737272 -0.052602   -0.05787772]\n",
            " [-0.09733306  0.03173313  0.00815025]\n",
            " [-0.06406531 -0.07728188  0.05162168]]\n"
          ],
          "name": "stdout"
        }
      ]
    },
    {
      "cell_type": "markdown",
      "metadata": {
        "id": "kjnmQSQ3dR_L",
        "colab_type": "text"
      },
      "source": [
        "**모델 학습**"
      ]
    },
    {
      "cell_type": "code",
      "metadata": {
        "id": "u1RjZOMeyFa0",
        "colab_type": "code",
        "colab": {
          "base_uri": "https://localhost:8080/",
          "height": 371
        },
        "outputId": "ef3541d1-1d52-4ca1-c305-585e549f970c"
      },
      "source": [
        "model.compile(optimizer='sgd',\n",
        "              loss='categorical_crossentropy',\n",
        "              metrics=['accuracy'])\n",
        "history = model.fit(x_train, y_train, epochs=10)"
      ],
      "execution_count": 17,
      "outputs": [
        {
          "output_type": "stream",
          "text": [
            "Epoch 1/10\n",
            "1875/1875 [==============================] - 5s 3ms/step - loss: 0.5959 - accuracy: 0.8140\n",
            "Epoch 2/10\n",
            "1875/1875 [==============================] - 5s 2ms/step - loss: 0.1364 - accuracy: 0.9582\n",
            "Epoch 3/10\n",
            "1875/1875 [==============================] - 5s 3ms/step - loss: 0.0935 - accuracy: 0.9715\n",
            "Epoch 4/10\n",
            "1875/1875 [==============================] - 5s 3ms/step - loss: 0.0742 - accuracy: 0.9773\n",
            "Epoch 5/10\n",
            "1875/1875 [==============================] - 5s 2ms/step - loss: 0.0626 - accuracy: 0.9809\n",
            "Epoch 6/10\n",
            "1875/1875 [==============================] - 5s 2ms/step - loss: 0.0551 - accuracy: 0.9833\n",
            "Epoch 7/10\n",
            "1875/1875 [==============================] - 5s 3ms/step - loss: 0.0497 - accuracy: 0.9845\n",
            "Epoch 8/10\n",
            "1875/1875 [==============================] - 4s 2ms/step - loss: 0.0450 - accuracy: 0.9859\n",
            "Epoch 9/10\n",
            "1875/1875 [==============================] - 5s 2ms/step - loss: 0.0404 - accuracy: 0.9877\n",
            "Epoch 10/10\n",
            "1875/1875 [==============================] - 5s 2ms/step - loss: 0.0372 - accuracy: 0.9884\n"
          ],
          "name": "stdout"
        }
      ]
    },
    {
      "cell_type": "code",
      "metadata": {
        "id": "hsxHtZYkzmxe",
        "colab_type": "code",
        "colab": {
          "base_uri": "https://localhost:8080/",
          "height": 295
        },
        "outputId": "0d5c5a87-6a2d-4551-ce57-2361af247148"
      },
      "source": [
        "# summarize history for accuracy\n",
        "plt.plot(history.history['accuracy'])\n",
        "plt.plot(history.history['loss'])\n",
        "plt.title('train history')\n",
        "plt.ylabel('accuracy')\n",
        "plt.xlabel('epoch')\n",
        "plt.legend(['accuracy', 'loss'], loc='upper left')\n",
        "plt.show()"
      ],
      "execution_count": 18,
      "outputs": [
        {
          "output_type": "display_data",
          "data": {
            "image/png": "[encoded data removed]",
            "text/plain": [
              "<Figure size 432x288 with 1 Axes>"
            ]
          },
          "metadata": {
            "tags": [],
            "needs_background": "light"
          }
        }
      ]
    },
    {
      "cell_type": "markdown",
      "metadata": {
        "id": "VqejRC9xJbtP",
        "colab_type": "text"
      },
      "source": [
        "**테스트 셋 결과 확인**"
      ]
    },
    {
      "cell_type": "code",
      "metadata": {
        "id": "w7tLMknJyiAb",
        "colab_type": "code",
        "colab": {
          "base_uri": "https://localhost:8080/",
          "height": 35
        },
        "outputId": "e8af4f54-62c9-475c-dad5-5ff9d0c1b2ce"
      },
      "source": [
        "loss, accuracy = model.evaluate(x_test, y_test)"
      ],
      "execution_count": 19,
      "outputs": [
        {
          "output_type": "stream",
          "text": [
            "313/313 [==============================] - 1s 2ms/step - loss: 0.0347 - accuracy: 0.9897\n"
          ],
          "name": "stdout"
        }
      ]
    },
    {
      "cell_type": "markdown",
      "metadata": {
        "id": "WlO1EqIzJfra",
        "colab_type": "text"
      },
      "source": [
        "**softmax 결과 학인**\n"
      ]
    },
    {
      "cell_type": "code",
      "metadata": {
        "id": "DI9eplm2JlGa",
        "colab_type": "code",
        "colab": {
          "base_uri": "https://localhost:8080/",
          "height": 70
        },
        "outputId": "225480f7-6a06-4620-8e67-ac3ed4970fe7"
      },
      "source": [
        "preds = model.predict(x_train[0:1])\n",
        "print(preds[0])\n",
        "print(preds[0].sum())"
      ],
      "execution_count": 20,
      "outputs": [
        {
          "output_type": "stream",
          "text": [
            "[5.7287215e-09 1.2477169e-08 5.6389813e-09 2.6290538e-03 2.5768027e-10\n",
            " 9.9736589e-01 4.0867812e-10 8.3029503e-09 1.8123884e-06 3.1434290e-06]\n",
            "0.99999994\n"
          ],
          "name": "stdout"
        }
      ]
    },
    {
      "cell_type": "markdown",
      "metadata": {
        "id": "zGpJ2gL9lwtI",
        "colab_type": "text"
      },
      "source": [
        "**Fully Connected Network과의 비교**"
      ]
    },
    {
      "cell_type": "code",
      "metadata": {
        "id": "xWmIwOH7l2f7",
        "colab_type": "code",
        "colab": {
          "base_uri": "https://localhost:8080/",
          "height": 915
        },
        "outputId": "1978a90f-8764-4351-893a-aca6ce42415d"
      },
      "source": [
        "modelfc = keras.Sequential([\n",
        "    keras.layers.Flatten(input_shape=(28, 28, 1)),\n",
        "    keras.layers.Dense(128, activation='relu'),\n",
        "    keras.layers.Dense(10, activation='softmax')\n",
        "])\n",
        "\n",
        "modelfc.summary()\n",
        "\n",
        "modelfc.compile(optimizer='sgd',\n",
        "              loss='categorical_crossentropy',\n",
        "              metrics=['accuracy'])\n",
        "history = modelfc.fit(x_train, y_train, epochs=10)\n",
        "\n",
        "# summarize history for accuracy\n",
        "plt.plot(history.history['accuracy'])\n",
        "plt.plot(history.history['loss'])\n",
        "plt.title('train history')\n",
        "plt.ylabel('accuracy')\n",
        "plt.xlabel('epoch')\n",
        "plt.legend(['accuracy', 'loss'], loc='upper left')\n",
        "plt.show()\n",
        "\n",
        "loss, accuracy = modelfc.evaluate(x_test, y_test)"
      ],
      "execution_count": 21,
      "outputs": [
        {
          "output_type": "stream",
          "text": [
            "Model: \"sequential_3\"\n",
            "_________________________________________________________________\n",
            "Layer (type)                 Output Shape              Param #   \n",
            "=================================================================\n",
            "flatten_3 (Flatten)          (None, 784)               0         \n",
            "_________________________________________________________________\n",
            "dense_6 (Dense)              (None, 128)               100480    \n",
            "_________________________________________________________________\n",
            "dense_7 (Dense)              (None, 10)                1290      \n",
            "=================================================================\n",
            "Total params: 101,770\n",
            "Trainable params: 101,770\n",
            "Non-trainable params: 0\n",
            "_________________________________________________________________\n",
            "Epoch 1/10\n",
            "1875/1875 [==============================] - 3s 2ms/step - loss: 0.6591 - accuracy: 0.8367\n",
            "Epoch 2/10\n",
            "1875/1875 [==============================] - 3s 2ms/step - loss: 0.3400 - accuracy: 0.9051\n",
            "Epoch 3/10\n",
            "1875/1875 [==============================] - 3s 2ms/step - loss: 0.2913 - accuracy: 0.9179\n",
            "Epoch 4/10\n",
            "1875/1875 [==============================] - 3s 2ms/step - loss: 0.2610 - accuracy: 0.9270\n",
            "Epoch 5/10\n",
            "1875/1875 [==============================] - 3s 2ms/step - loss: 0.2383 - accuracy: 0.9342\n",
            "Epoch 6/10\n",
            "1875/1875 [==============================] - 3s 2ms/step - loss: 0.2195 - accuracy: 0.9384\n",
            "Epoch 7/10\n",
            "1875/1875 [==============================] - 3s 2ms/step - loss: 0.2035 - accuracy: 0.9431\n",
            "Epoch 8/10\n",
            "1875/1875 [==============================] - 3s 2ms/step - loss: 0.1900 - accuracy: 0.9472\n",
            "Epoch 9/10\n",
            "1875/1875 [==============================] - 3s 2ms/step - loss: 0.1781 - accuracy: 0.9506\n",
            "Epoch 10/10\n",
            "1875/1875 [==============================] - 3s 2ms/step - loss: 0.1673 - accuracy: 0.9536\n"
          ],
          "name": "stdout"
        },
        {
          "output_type": "display_data",
          "data": {
            "image/png": "[encoded data removed]",
            "text/plain": [
              "<Figure size 432x288 with 1 Axes>"
            ]
          },
          "metadata": {
            "tags": [],
            "needs_background": "light"
          }
        },
        {
          "output_type": "stream",
          "text": [
            "313/313 [==============================] - 1s 2ms/step - loss: 0.1644 - accuracy: 0.9540\n"
          ],
          "name": "stdout"
        }
      ]
    },
    {
      "cell_type": "markdown",
      "metadata": {
        "id": "RTkxWR9_7FZU",
        "colab_type": "text"
      },
      "source": [
        "**모델의 레이어 출력값 확인**"
      ]
    },
    {
      "cell_type": "markdown",
      "metadata": {
        "id": "70U2VWCG-TqM",
        "colab_type": "text"
      },
      "source": [
        "모델로 부터 각 레이어의 값을 출력하는 fuctors생성"
      ]
    },
    {
      "cell_type": "code",
      "metadata": {
        "id": "KvHG2FaJzjcT",
        "colab_type": "code",
        "colab": {
          "base_uri": "https://localhost:8080/",
          "height": 371
        },
        "outputId": "ad06cdfc-52a8-43d6-87ab-49b2e628d465"
      },
      "source": [
        "from tensorflow.keras import backend as K\n",
        "\n",
        "inp = model.input                                           # input placeholder\n",
        "outputs = [layer.output for layer in model.layers]          # all layer outputs\n",
        "functors = [K.function([inp, keras.Input(shape=())], [out]) for out in outputs]    # evaluation functions\n",
        "\n",
        "layer_id = 0\n",
        "filter_id = 0\n",
        "layerfn = functors[layer_id]\n",
        "learning_phase = 0 # 학습시 1, 추론시 0\n",
        "out = layerfn([x_train[0:2], learning_phase]) # 첫 이미지 두개만 추론\n",
        "# out[출력 parameter 순서][데이터 id][height, width, channel]\n",
        "print('out[0].shape =', out[0].shape)\n",
        "result = out[0][0][:,:,filter_id:filter_id+1]\n",
        "# 채널결과가 포함되어 있다.\n",
        "print('model result shape (with channel) = ', result.shape)\n",
        "# 간편한 형식을 위해서 채널 dimension을 삭제\n",
        "result_as_img = result.reshape((result.shape[0], result.shape[1]))\n",
        "print(result_as_img.shape)\n",
        "\n",
        "# 첫번째 입력 이미지 확인\n",
        "plt.imshow(x_train[0].reshape((28,28)), cmap=plt.cm.binary)\n",
        "plt.show()\n",
        "x_pos = 10\n",
        "y_pos = 5\n",
        "img3x3 = x_train[0][y_pos:y_pos+3, x_pos:x_pos+3, :].reshape((3,3))\n",
        "print(img3x3)\n"
      ],
      "execution_count": 22,
      "outputs": [
        {
          "output_type": "stream",
          "text": [
            "out[0].shape = (2, 26, 26, 32)\n",
            "model result shape (with channel) =  (26, 26, 1)\n",
            "(26, 26)\n"
          ],
          "name": "stdout"
        },
        {
          "output_type": "display_data",
          "data": {
            "image/png": "[encoded data removed]",
            "text/plain": [
              "<Figure size 432x288 with 1 Axes>"
            ]
          },
          "metadata": {
            "tags": [],
            "needs_background": "light"
          }
        },
        {
          "output_type": "stream",
          "text": [
            "[[0.         0.         0.01176471]\n",
            " [0.36862745 0.60392157 0.66666667]\n",
            " [0.99215686 0.99215686 0.99215686]]\n"
          ],
          "name": "stdout"
        }
      ]
    },
    {
      "cell_type": "markdown",
      "metadata": {
        "id": "rbmqF3l7dXjZ",
        "colab_type": "text"
      },
      "source": [
        "**학습 후 커널 확인**"
      ]
    },
    {
      "cell_type": "code",
      "metadata": {
        "id": "PaIXG0Xc0Vdt",
        "colab_type": "code",
        "colab": {
          "base_uri": "https://localhost:8080/",
          "height": 159
        },
        "outputId": "1f61b204-fcb9-47d3-b8a1-779e463d676a"
      },
      "source": [
        "conv2d_1 = model.layers[0]\n",
        "weights = conv2d_1.get_weights()\n",
        "w = weights[0]\n",
        "b = weights[1]\n",
        "print(w.shape, b.shape)\n",
        "filter_id = 0\n",
        "kernel = w[:,:,:,filter_id:filter_id+1]\n",
        "kernel = kernel.reshape(3,3)\n",
        "print(kernel)\n",
        "bios = b[0]\n",
        "print(bios)\n",
        "print(img3x3)"
      ],
      "execution_count": 23,
      "outputs": [
        {
          "output_type": "stream",
          "text": [
            "(3, 3, 1, 32) (32,)\n",
            "[[ 0.13702536 -0.00973372 -0.06936665]\n",
            " [-0.07251323  0.10686051  0.04600269]\n",
            " [-0.06281894 -0.04446428  0.09032123]]\n",
            "-0.00051402603\n",
            "[[0.         0.         0.01176471]\n",
            " [0.36862745 0.60392157 0.66666667]\n",
            " [0.99215686 0.99215686 0.99215686]]\n"
          ],
          "name": "stdout"
        }
      ]
    },
    {
      "cell_type": "code",
      "metadata": {
        "id": "nMKUKD_H0ojf",
        "colab_type": "code",
        "colab": {
          "base_uri": "https://localhost:8080/",
          "height": 52
        },
        "outputId": "13f86418-0296-4b0a-919c-6f002454c549"
      },
      "source": [
        "y = (kernel*img3x3).sum()+bios\n",
        "if y < 0:   # activation = ReLU\n",
        "  y = 0\n",
        "print(y)\n",
        "print(result[y_pos][x_pos])"
      ],
      "execution_count": 24,
      "outputs": [
        {
          "output_type": "stream",
          "text": [
            "0.050314400473828694\n",
            "[0.0503144]\n"
          ],
          "name": "stdout"
        }
      ]
    },
    {
      "cell_type": "markdown",
      "metadata": {
        "id": "e0tAtgJFIWql",
        "colab_type": "text"
      },
      "source": [
        "**연습과제**  \n",
        "1. MNIST CNN인식에서 이미지와 결과를 표시하는 것을 다시 한번 연습합시다.  \n",
        "2. CNN에서 epoch을 증가시켜 가면서 인식률이 최대 치가 되는 지점을 찾아봅시다.  \n",
        "3. epoch에 따른 test set의 손실과 인식률도 같이 확인해 봅시다.  \n",
        "4. 손실함수를 교차 엔트로피 대신에 mse를 사용하고 epoch에 따른 인식률의 변화를 실험해 봅시다.  \n",
        "   (교차 엔트로피 쪽이 더 빨리 인식률이 좋아졌습니까? 그 이유는 무엇입니까?)  \n",
        "\n"
      ]
    },
    {
      "cell_type": "code",
      "metadata": {
        "id": "-fY2zvrhIZU7",
        "colab_type": "code",
        "colab": {}
      },
      "source": [
        ""
      ],
      "execution_count": null,
      "outputs": []
    }
  ]
}