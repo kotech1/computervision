{
  "nbformat": 4,
  "nbformat_minor": 0,
  "metadata": {
    "colab": {
      "name": "03-image.ipynb",
      "provenance": [],
      "authorship_tag": "ABX9TyNbosfMWz4Q8LmhrRUI12kR",
      "include_colab_link": true
    },
    "kernelspec": {
      "name": "python3",
      "display_name": "Python 3"
    }
  },
  "cells": [
    {
      "cell_type": "markdown",
      "metadata": {
        "id": "view-in-github",
        "colab_type": "text"
      },
      "source": [
        "<a href=\"https://colab.research.google.com/github/kotech1/computervision/blob/master/03_image.ipynb\" target=\"_parent\"><img src=\"https://colab.research.google.com/assets/colab-badge.svg\" alt=\"Open In Colab\"/></a>"
      ]
    },
    {
      "cell_type": "code",
      "metadata": {
        "id": "FoK5Yn5rEYvQ",
        "colab_type": "code",
        "colab": {
          "base_uri": "https://localhost:8080/",
          "height": 85
        },
        "outputId": "1b01379d-b479-40ae-dece-593a3ba3297b"
      },
      "source": [
        "import numpy as np\n",
        "  \n",
        "w = np.array([ [ 2, 1 ],\n",
        "               [ 0, 1 ] ])\n",
        "x = np.array([ 3, 4 ])\n",
        "y = np.dot(w,x)\n",
        "print(y)"
      ],
      "execution_count": null,
      "outputs": [
        {
          "output_type": "stream",
          "text": [
            "[[2 1]\n",
            " [0 1]]\n",
            "[3 4]\n",
            "[10  4]\n"
          ],
          "name": "stdout"
        }
      ]
    },
    {
      "cell_type": "markdown",
      "metadata": {
        "id": "XCu67N60AQkn",
        "colab_type": "text"
      },
      "source": [
        "## Affine 변환"
      ]
    },
    {
      "cell_type": "code",
      "metadata": {
        "id": "PRrRQUi0ATWp",
        "colab_type": "code",
        "colab": {
          "base_uri": "https://localhost:8080/",
          "height": 250
        },
        "outputId": "ca7945a0-c36c-498f-a862-04c3e28df6ba"
      },
      "source": [
        "import cv2\n",
        "import numpy as np\n",
        "from matplotlib import pyplot as plt\n",
        "from tensorflow import keras\n",
        "\n",
        "img_url = 'https://upload.wikimedia.org/wikipedia/commons/thumb/4/44/Checkerboard_identity.svg/800px-Checkerboard_identity.svg.png'\n",
        "img_path = keras.utils.get_file(\"checkerboard.jpg\", img_url)\n",
        "img = cv2.imread(img_path)\n",
        "\n",
        "rows, cols, ch = img.shape\n",
        "\n",
        "# 점3개를 변환 전과 변환 후로 나누어 지정\n",
        "pts1 = np.float32([[200,100],[400,100],[200,200]])\n",
        "pts2 = np.float32([[200,300],[400,200],[200,400]])\n",
        "\n",
        "# pts1의 좌표에 표시. Affine 변환 후 이동 점 확인.\n",
        "cv2.circle(img, (200,100), 10, (255,0,0),-1)\n",
        "cv2.circle(img, (400,100), 10, (0,255,0),-1)\n",
        "cv2.circle(img, (200,200), 10, (0,0,255),-1)\n",
        "\n",
        "# Affine 변환 텐서 얻기\n",
        "M = cv2.getAffineTransform(pts1, pts2)\n",
        "\n",
        "# Affine 변환하기\n",
        "dst = cv2.warpAffine(img, M, (cols,rows))\n",
        "\n",
        "plt.subplot(121),plt.imshow(img),plt.title('image')\n",
        "plt.subplot(122),plt.imshow(dst),plt.title('Affine')\n",
        "plt.show()"
      ],
      "execution_count": 1,
      "outputs": [
        {
          "output_type": "stream",
          "text": [
            "Downloading data from https://upload.wikimedia.org/wikipedia/commons/thumb/4/44/Checkerboard_identity.svg/800px-Checkerboard_identity.svg.png\n",
            "\r8192/2823 [=======================================================================================] - 0s 0us/step\n"
          ],
          "name": "stdout"
        },
        {
          "output_type": "display_data",
          "data": {
            "image/png": "[encoded data removed]",
            "text/plain": [
              "<Figure size 432x288 with 2 Axes>"
            ]
          },
          "metadata": {
            "tags": [],
            "needs_background": "light"
          }
        }
      ]
    },
    {
      "cell_type": "code",
      "metadata": {
        "id": "XMvHMXAvB76a",
        "colab_type": "code",
        "colab": {
          "base_uri": "https://localhost:8080/",
          "height": 216
        },
        "outputId": "5bbd961f-32d1-4453-eb4b-8e3589ec4748"
      },
      "source": [
        "center = (cols/2, rows/2)\n",
        "angle = 90\n",
        "scale = 1\n",
        "# 회전 변환\n",
        "M = cv2.getRotationMatrix2D(center, angle, scale)\n",
        "# Affine 변환하기\n",
        "dst = cv2.warpAffine(img, M, (cols,rows))\n",
        "plt.subplot(121),plt.imshow(img),plt.title('image')\n",
        "plt.subplot(122),plt.imshow(dst),plt.title('Affine')\n",
        "plt.show()"
      ],
      "execution_count": 2,
      "outputs": [
        {
          "output_type": "display_data",
          "data": {
            "image/png": "[encoded data removed]",
            "text/plain": [
              "<Figure size 432x288 with 2 Axes>"
            ]
          },
          "metadata": {
            "tags": [],
            "needs_background": "light"
          }
        }
      ]
    },
    {
      "cell_type": "code",
      "metadata": {
        "id": "wv9R_DJkEqjn",
        "colab_type": "code",
        "colab": {}
      },
      "source": [
        "from matplotlib import image as mp_image\n",
        "img = mp_image.imread('filename.png')"
      ],
      "execution_count": null,
      "outputs": []
    },
    {
      "cell_type": "code",
      "metadata": {
        "id": "PfR72yObbfqh",
        "colab_type": "code",
        "colab": {}
      },
      "source": [
        "# tensorflow와 tf.keras를 임포트합니다\n",
        "import tensorflow as tf\n",
        "from tensorflow import keras\n",
        "\n",
        "# 헬퍼(helper) 라이브러리를 임포트합니다\n",
        "import numpy as np\n",
        "import matplotlib.pyplot as plt\n",
        "\n",
        "fashion_mnist = keras.datasets.fashion_mnist\n",
        "\n",
        "(train_images, train_labels), (test_images, test_labels) = fashion_mnist.load_data()\n",
        "(x_train, y_train), (x_test, y_test) = (train_images, train_labels), (test_images, test_labels)\n",
        "\n",
        "class_names = ['T-shirt/top', 'Trouser', 'Pullover', 'Dress', 'Coat',\n",
        "               'Sandal', 'Shirt', 'Sneaker', 'Bag', 'Ankle boot']"
      ],
      "execution_count": null,
      "outputs": []
    },
    {
      "cell_type": "code",
      "metadata": {
        "id": "uu8hKCDvb1wp",
        "colab_type": "code",
        "colab": {}
      },
      "source": [
        "from PIL import Image\n",
        "\n",
        "img = Image.open('myImage.png') # use Image.open(image_location) \n",
        "image_data = np.array(img) # to convert img object to array value use np.array"
      ],
      "execution_count": null,
      "outputs": []
    }
  ]
}