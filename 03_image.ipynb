{
  "nbformat": 4,
  "nbformat_minor": 0,
  "metadata": {
    "colab": {
      "name": "03-image.ipynb",
      "provenance": [],
      "authorship_tag": "ABX9TyOd9ORJAfO56BEj+l1XUHWR",
      "include_colab_link": true
    },
    "kernelspec": {
      "name": "python3",
      "display_name": "Python 3"
    }
  },
  "cells": [
    {
      "cell_type": "markdown",
      "metadata": {
        "id": "view-in-github",
        "colab_type": "text"
      },
      "source": [
        "<a href=\"https://colab.research.google.com/github/kotech1/computervision/blob/master/03_image.ipynb\" target=\"_parent\"><img src=\"https://colab.research.google.com/assets/colab-badge.svg\" alt=\"Open In Colab\"/></a>"
      ]
    },
    {
      "cell_type": "code",
      "metadata": {
        "id": "FoK5Yn5rEYvQ",
        "colab_type": "code",
        "colab": {
          "base_uri": "https://localhost:8080/",
          "height": 85
        },
        "outputId": "1b01379d-b479-40ae-dece-593a3ba3297b"
      },
      "source": [
        "import numpy as np\n",
        "  \n",
        "w = np.array([ [ 2, 1 ],\n",
        "               [ 0, 1 ] ])\n",
        "x = np.array([ 3, 4 ])\n",
        "y = np.dot(w,x)\n",
        "print(y)"
      ],
      "execution_count": 1,
      "outputs": [
        {
          "output_type": "stream",
          "text": [
            "[[2 1]\n",
            " [0 1]]\n",
            "[3 4]\n",
            "[10  4]\n"
          ],
          "name": "stdout"
        }
      ]
    },
    {
      "cell_type": "code",
      "metadata": {
        "id": "wv9R_DJkEqjn",
        "colab_type": "code",
        "colab": {}
      },
      "source": [
        ""
      ],
      "execution_count": null,
      "outputs": []
    }
  ]
}