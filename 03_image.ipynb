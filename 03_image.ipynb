{
  "nbformat": 4,
  "nbformat_minor": 0,
  "metadata": {
    "colab": {
      "name": "03-image.ipynb",
      "provenance": [],
      "authorship_tag": "ABX9TyM5BqlUsF6gRVoz+KECHGNX",
      "include_colab_link": true
    },
    "kernelspec": {
      "name": "python3",
      "display_name": "Python 3"
    }
  },
  "cells": [
    {
      "cell_type": "markdown",
      "metadata": {
        "id": "view-in-github",
        "colab_type": "text"
      },
      "source": [
        "<a href=\"https://colab.research.google.com/github/kotech1/computervision/blob/master/03_image.ipynb\" target=\"_parent\"><img src=\"https://colab.research.google.com/assets/colab-badge.svg\" alt=\"Open In Colab\"/></a>"
      ]
    },
    {
      "cell_type": "code",
      "metadata": {
        "id": "FoK5Yn5rEYvQ",
        "colab_type": "code",
        "colab": {
          "base_uri": "https://localhost:8080/",
          "height": 85
        },
        "outputId": "1b01379d-b479-40ae-dece-593a3ba3297b"
      },
      "source": [
        "import numpy as np\n",
        "  \n",
        "w = np.array([ [ 2, 1 ],\n",
        "               [ 0, 1 ] ])\n",
        "x = np.array([ 3, 4 ])\n",
        "y = np.dot(w,x)\n",
        "print(y)"
      ],
      "execution_count": null,
      "outputs": [
        {
          "output_type": "stream",
          "text": [
            "[[2 1]\n",
            " [0 1]]\n",
            "[3 4]\n",
            "[10  4]\n"
          ],
          "name": "stdout"
        }
      ]
    },
    {
      "cell_type": "code",
      "metadata": {
        "id": "wv9R_DJkEqjn",
        "colab_type": "code",
        "colab": {}
      },
      "source": [
        "from matplotlib import image as mp_image\n",
        "img = mp_image.imread('filename.png')"
      ],
      "execution_count": null,
      "outputs": []
    },
    {
      "cell_type": "code",
      "metadata": {
        "id": "PfR72yObbfqh",
        "colab_type": "code",
        "colab": {}
      },
      "source": [
        "# tensorflow와 tf.keras를 임포트합니다\n",
        "import tensorflow as tf\n",
        "from tensorflow import keras\n",
        "\n",
        "# 헬퍼(helper) 라이브러리를 임포트합니다\n",
        "import numpy as np\n",
        "import matplotlib.pyplot as plt\n",
        "\n",
        "fashion_mnist = keras.datasets.fashion_mnist\n",
        "\n",
        "(train_images, train_labels), (test_images, test_labels) = fashion_mnist.load_data()\n",
        "(x_train, y_train), (x_test, y_test) = (train_images, train_labels), (test_images, test_labels)\n",
        "\n",
        "class_names = ['T-shirt/top', 'Trouser', 'Pullover', 'Dress', 'Coat',\n",
        "               'Sandal', 'Shirt', 'Sneaker', 'Bag', 'Ankle boot']"
      ],
      "execution_count": null,
      "outputs": []
    },
    {
      "cell_type": "code",
      "metadata": {
        "id": "uu8hKCDvb1wp",
        "colab_type": "code",
        "colab": {}
      },
      "source": [
        "from PIL import Image\n",
        "\n",
        "img = Image.open('myImage.png') # use Image.open(image_location) \n",
        "image_data = np.array(img) # to convert img object to array value use np.array"
      ],
      "execution_count": null,
      "outputs": []
    }
  ]
}