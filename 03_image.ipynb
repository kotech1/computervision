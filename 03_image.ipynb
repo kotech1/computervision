{
  "nbformat": 4,
  "nbformat_minor": 0,
  "metadata": {
    "colab": {
      "name": "03-image.ipynb",
      "provenance": [],
      "authorship_tag": "ABX9TyPeDIdSPqUjq4iH+UljZeFt",
      "include_colab_link": true
    },
    "kernelspec": {
      "name": "python3",
      "display_name": "Python 3"
    }
  },
  "cells": [
    {
      "cell_type": "markdown",
      "metadata": {
        "id": "view-in-github",
        "colab_type": "text"
      },
      "source": [
        "<a href=\"https://colab.research.google.com/github/kotech1/computervision/blob/master/03_image.ipynb\" target=\"_parent\"><img src=\"https://colab.research.google.com/assets/colab-badge.svg\" alt=\"Open In Colab\"/></a>"
      ]
    },
    {
      "cell_type": "markdown",
      "metadata": {
        "id": "D4TOAwSyf2dS",
        "colab_type": "text"
      },
      "source": [
        "# 이미지를 읽어들이기"
      ]
    },
    {
      "cell_type": "code",
      "metadata": {
        "id": "HnxOPXiK5v64",
        "colab_type": "code",
        "colab": {}
      },
      "source": [
        "from tensorflow import keras\n",
        "import numpy as np\n",
        "from matplotlib import pyplot as plt\n",
        "\n",
        "# URL로부터 이미지 파일 저장\n",
        "\n",
        "img_url = 'http://sipi.usc.edu/database/preview/misc/4.2.01.png'\n",
        "filename = 'milk.png'\n",
        "#img_url = 'http://data.si.re.kr/photo_ndownload/21555'\n",
        "#filename = 'seoul.jpg'\n",
        "\n",
        "img_path = keras.utils.get_file(filename, img_url)\n",
        "img_path"
      ],
      "execution_count": null,
      "outputs": []
    },
    {
      "cell_type": "markdown",
      "metadata": {
        "id": "5w99BNQbhX1v",
        "colab_type": "text"
      },
      "source": [
        "**PIL**"
      ]
    },
    {
      "cell_type": "code",
      "metadata": {
        "id": "GIaKv-Prf5gZ",
        "colab_type": "code",
        "colab": {}
      },
      "source": [
        "# Python Image Library\n",
        "from PIL import Image\n",
        "\n",
        "img = Image.open(img_path) # use Image.open(image_location)\n",
        "image = np.array(img.convert('RGB')) # to convert img object to array value use np.array\n",
        "\n",
        "plt.imshow(image)"
      ],
      "execution_count": null,
      "outputs": []
    },
    {
      "cell_type": "code",
      "metadata": {
        "id": "sk_UtfrX6AKj",
        "colab_type": "code",
        "colab": {}
      },
      "source": [
        "print(image[0][0])"
      ],
      "execution_count": null,
      "outputs": []
    },
    {
      "cell_type": "markdown",
      "metadata": {
        "id": "vZ6OGrZg2s_K",
        "colab_type": "text"
      },
      "source": [
        "**OpenCV**"
      ]
    },
    {
      "cell_type": "code",
      "metadata": {
        "id": "uwQWhH3phjIM",
        "colab_type": "code",
        "colab": {}
      },
      "source": [
        "import cv2\n",
        "\n",
        "image = cv2.imread(img_path)\n",
        "#print(image[0][0])\n",
        "# convert opencv RGB for opencv\n",
        "image = cv2.cvtColor(image, cv2.COLOR_BGR2RGB)\n",
        "#print(image[0][0])\n",
        "plt.imshow(image)"
      ],
      "execution_count": null,
      "outputs": []
    },
    {
      "cell_type": "code",
      "metadata": {
        "id": "wv9R_DJkEqjn",
        "colab_type": "code",
        "colab": {}
      },
      "source": [
        "from matplotlib import image as mp_image\n",
        "img = mp_image.imread(img_path)\n",
        "plt.imshow(img)\n",
        "img[0][0]"
      ],
      "execution_count": null,
      "outputs": []
    },
    {
      "cell_type": "markdown",
      "metadata": {
        "id": "bOJnorcOq3L2",
        "colab_type": "text"
      },
      "source": [
        "MNIST 데이터"
      ]
    },
    {
      "cell_type": "code",
      "metadata": {
        "id": "N-JQd0Plq5X0",
        "colab_type": "code",
        "colab": {}
      },
      "source": [
        "from tensorflow import keras\n",
        "import matplotlib.pyplot as plt\n",
        "\n",
        "fashion_mnist = keras.datasets.fashion_mnist\n",
        "(train_images, train_labels), (test_images, test_labels) = fashion_mnist.load_data()\n",
        "plt.imshow(train_images[0], cmap=plt.cm.binary)\n",
        "#plt.imshow(train_images[0], cmap=plt.cm.gray)"
      ],
      "execution_count": null,
      "outputs": []
    },
    {
      "cell_type": "code",
      "metadata": {
        "id": "aYq4zxkqUR94",
        "colab_type": "code",
        "colab": {}
      },
      "source": [
        "class_names = ['T-shirt/top', 'Trouser', 'Pullover', 'Dress', 'Coat',\n",
        "               'Sandal', 'Shirt', 'Sneaker', 'Bag', 'Ankle boot']\n",
        "plt.figure(figsize=(10,10))\n",
        "for i in range(25):\n",
        "    plt.subplot(5,5,i+1)\n",
        "    plt.xticks([])\n",
        "    plt.yticks([])\n",
        "    plt.grid(False)\n",
        "    plt.imshow(train_images[i], cmap=plt.cm.binary)\n",
        "    plt.xlabel(class_names[train_labels[i]])\n",
        "plt.show()"
      ],
      "execution_count": null,
      "outputs": []
    },
    {
      "cell_type": "markdown",
      "metadata": {
        "id": "_VEg3mlAuRhf",
        "colab_type": "text"
      },
      "source": [
        "# 이미지 저장"
      ]
    },
    {
      "cell_type": "code",
      "metadata": {
        "id": "CzHtF5DCTWhy",
        "colab_type": "code",
        "colab": {}
      },
      "source": [
        "image = cv2.imread(img_path)\n",
        "image = cv2.cvtColor(image, cv2.COLOR_BGR2RGB)"
      ],
      "execution_count": null,
      "outputs": []
    },
    {
      "cell_type": "code",
      "metadata": {
        "id": "sgwzeQW5uUqw",
        "colab_type": "code",
        "colab": {}
      },
      "source": [
        "# PIL\n",
        "from PIL import Image\n",
        "import numpy as np\n",
        "\n",
        "PIL_image = Image.fromarray(np.uint8(image)).convert('RGB')\n",
        "PIL_image.save('test.png')"
      ],
      "execution_count": null,
      "outputs": []
    },
    {
      "cell_type": "code",
      "metadata": {
        "id": "BUireTUswc9o",
        "colab_type": "code",
        "colab": {}
      },
      "source": [
        "# opencv\n",
        "import cv2\n",
        "\n",
        "# convert opencv RGB for opencv\n",
        "image2 = cv2.cvtColor(image, cv2.COLOR_BGR2RGB)\n",
        "cv2.imwrite('test.png', image2)"
      ],
      "execution_count": null,
      "outputs": []
    },
    {
      "cell_type": "code",
      "metadata": {
        "id": "t2RuElrKwIHS",
        "colab_type": "code",
        "colab": {}
      },
      "source": [
        "# matplotlib\n",
        "from matplotlib import pyplot as plt\n",
        "plt.imsave('test.png', image)"
      ],
      "execution_count": null,
      "outputs": []
    },
    {
      "cell_type": "code",
      "metadata": {
        "id": "C6iKDT3N46f8",
        "colab_type": "code",
        "colab": {}
      },
      "source": [
        "! ls -l test.png"
      ],
      "execution_count": null,
      "outputs": []
    },
    {
      "cell_type": "code",
      "metadata": {
        "id": "4SAY1lrgveLU",
        "colab_type": "code",
        "colab": {}
      },
      "source": [
        "from matplotlib import image as mp_image\n",
        "image3 = mp_image.imread('test.png')\n",
        "plt.imshow(image3)"
      ],
      "execution_count": null,
      "outputs": []
    },
    {
      "cell_type": "markdown",
      "metadata": {
        "id": "pSjWt_5pft8b",
        "colab_type": "text"
      },
      "source": [
        "# 매트릭스 dot product"
      ]
    },
    {
      "cell_type": "markdown",
      "metadata": {
        "id": "lqlbo6Cc-V1f",
        "colab_type": "text"
      },
      "source": [
        "**매트릭스 연산**\n",
        "\n",
        "![](https://latex.codecogs.com/gif.latex?%5Cbegin%7Bbmatrix%7D%2010%5C%5C4%20%5Cend%7Bbmatrix%7D%20%3D%20%5Cbegin%7Bbmatrix%7D%202%20%26%201%5C%5C%200%20%26%201%20%5Cend%7Bbmatrix%7D%20%5Cbegin%7Bbmatrix%7D%203%5C%5C%204%20%5Cend%7Bbmatrix%7D)\n"
      ]
    },
    {
      "cell_type": "code",
      "metadata": {
        "id": "FoK5Yn5rEYvQ",
        "colab_type": "code",
        "colab": {}
      },
      "source": [
        "import numpy as np\n",
        "  \n",
        "w = np.array([ [ 2, 1 ],\n",
        "               [ 0, 1 ] ])\n",
        "x = np.array(  [3, 4]  )\n",
        "y = np.dot(w,x)\n",
        "print(y)"
      ],
      "execution_count": null,
      "outputs": []
    },
    {
      "cell_type": "code",
      "metadata": {
        "id": "kF6LkNPtz_QP",
        "colab_type": "code",
        "colab": {}
      },
      "source": [
        "# 컬럼 벡터 (수식과 같은 모양)\n",
        "x = np.array([ [3], \n",
        "               [4] ])\n",
        "y = np.dot(w,x)\n",
        "print(y)\n",
        "print(y.shape)"
      ],
      "execution_count": null,
      "outputs": []
    },
    {
      "cell_type": "markdown",
      "metadata": {
        "id": "WkY8S_BL0dTE",
        "colab_type": "text"
      },
      "source": [
        "**매트릭스 곱하기**  \n",
        "![](https://latex.codecogs.com/gif.latex?%5Cfn_jvn%20%5CLARGE%20%28m%2Cl%29%20%3D%20%28m%2Cn%29%5Ccdot%28n%2Cl%29)\n"
      ]
    },
    {
      "cell_type": "code",
      "metadata": {
        "id": "g6x12xltw0Mf",
        "colab_type": "code",
        "colab": {}
      },
      "source": [
        "# (2,2)=(2,2).(2,2)\n",
        "x = np.array([ [ 3, 3 ],\n",
        "               [ 4, 4 ] ])\n",
        "y = np.dot(w,x)\n",
        "y"
      ],
      "execution_count": null,
      "outputs": []
    },
    {
      "cell_type": "code",
      "metadata": {
        "id": "FjGD8-CDz0qT",
        "colab_type": "code",
        "colab": {}
      },
      "source": [
        "x = np.array([ [ 3, 4 ],\n",
        "               [ 3, 4 ],\n",
        "               [ 3, 4 ] ])\n",
        "# 다음 줄을 실행하면 오류가 납니다. 왜 그런지 생각해봅시다.\n",
        "#y = np.dot(w,x)\n",
        "y"
      ],
      "execution_count": null,
      "outputs": []
    },
    {
      "cell_type": "markdown",
      "metadata": {
        "id": "6h-VUff73svv",
        "colab_type": "text"
      },
      "source": [
        "**전치행렬**  \n",
        "  \n",
        "  ![](https://latex.codecogs.com/gif.latex?%5Cfn_jvn%20%5CLARGE%20%5Cleft%28w%5ET%5Cright%29_%7Bij%7D%3Dw_%7Bji%7D)"
      ]
    },
    {
      "cell_type": "code",
      "metadata": {
        "id": "jziogxfp3Zp_",
        "colab_type": "code",
        "colab": {}
      },
      "source": [
        "# transpose (전치 행렬)\n",
        "x2 = x.T\n",
        "print(x2)\n",
        "y = np.dot(w,x2)\n",
        "print(y)"
      ],
      "execution_count": null,
      "outputs": []
    },
    {
      "cell_type": "markdown",
      "metadata": {
        "id": "szXKs81D5Vi4",
        "colab_type": "text"
      },
      "source": [
        "![](https://latex.codecogs.com/gif.latex?%5Clarge%20%5Cbegin%7Bbmatrix%7D%2010%20%26%2010%20%26%2010%5C%5C4%20%26%204%26%204%20%5Cend%7Bbmatrix%7D%20%3D%20%5Cbegin%7Bbmatrix%7D%202%20%26%201%5C%5C%200%20%26%201%20%5Cend%7Bbmatrix%7D%20%5Cbegin%7Bbmatrix%7D%203%20%26%203%263%5C%5C%204%264%264%20%5Cend%7Bbmatrix%7D)"
      ]
    },
    {
      "cell_type": "markdown",
      "metadata": {
        "id": "XCu67N60AQkn",
        "colab_type": "text"
      },
      "source": [
        "# Affine 변환"
      ]
    },
    {
      "cell_type": "code",
      "metadata": {
        "id": "PRrRQUi0ATWp",
        "colab_type": "code",
        "colab": {}
      },
      "source": [
        "import cv2\n",
        "import numpy as np\n",
        "from matplotlib import pyplot as plt\n",
        "from tensorflow import keras\n",
        "\n",
        "img_url = 'https://upload.wikimedia.org/wikipedia/commons/thumb/4/44/Checkerboard_identity.svg/800px-Checkerboard_identity.svg.png'\n",
        "img_path = keras.utils.get_file(\"checkerboard.jpg\", img_url)\n",
        "img = cv2.imread(img_path)\n",
        "\n",
        "rows, cols, ch = img.shape\n",
        "\n",
        "# 점3개를 변환 전과 변환 후로 나누어 지정\n",
        "pts1 = np.float32([[200,100],[400,100],[200,200]])\n",
        "pts2 = np.float32([[200,300],[400,200],[200,400]])\n",
        "\n",
        "# pts1의 좌표에 표시. Affine 변환 후 이동 점 확인.\n",
        "cv2.circle(img, (200,100), 10, (255,0,0),-1)\n",
        "cv2.circle(img, (400,100), 10, (0,255,0),-1)\n",
        "cv2.circle(img, (200,200), 10, (0,0,255),-1)\n",
        "\n",
        "# Affine 변환 텐서 얻기\n",
        "M = cv2.getAffineTransform(pts1, pts2)\n",
        "\n",
        "# Affine 변환하기\n",
        "dst = cv2.warpAffine(img, M, (cols,rows))\n",
        "\n",
        "plt.subplot(121),plt.imshow(img),plt.title('image')\n",
        "plt.subplot(122),plt.imshow(dst),plt.title('Affine')\n",
        "plt.show()"
      ],
      "execution_count": null,
      "outputs": []
    },
    {
      "cell_type": "code",
      "metadata": {
        "id": "a3Bv_nCD9KQM",
        "colab_type": "code",
        "colab": {}
      },
      "source": [
        "print(M)\n",
        "A = M[:, :2] # same as a=M[:, 0:2]\n",
        "b = M[:, 2:]\n",
        "print(A)\n",
        "print(b)\n"
      ],
      "execution_count": null,
      "outputs": []
    },
    {
      "cell_type": "markdown",
      "metadata": {
        "id": "4hY_LxoPNwOq",
        "colab_type": "text"
      },
      "source": [
        "**직접 Affine Matrix 설정하기**"
      ]
    },
    {
      "cell_type": "code",
      "metadata": {
        "id": "qa2L3IYU-KcZ",
        "colab_type": "code",
        "colab": {}
      },
      "source": [
        "M = np.array([ [np.cos(np.pi/6), -np.sin(np.pi/6), 100],\n",
        "               [np.sin(np.pi/6),  np.cos(np.pi/6), -100] ])\n",
        "# Affine 변환하기\n",
        "dst = cv2.warpAffine(img, M, (cols,rows))\n",
        "\n",
        "plt.subplot(121),plt.imshow(img),plt.title('image')\n",
        "plt.subplot(122),plt.imshow(dst),plt.title('Affine')\n",
        "plt.show()"
      ],
      "execution_count": null,
      "outputs": []
    },
    {
      "cell_type": "code",
      "metadata": {
        "id": "XMvHMXAvB76a",
        "colab_type": "code",
        "colab": {}
      },
      "source": [
        "center = (cols/2, rows/2)\n",
        "angle = 90\n",
        "scale = 1\n",
        "# 회전 변환\n",
        "M = cv2.getRotationMatrix2D(center, angle, scale)\n",
        "# Affine 변환하기\n",
        "dst = cv2.warpAffine(img, M, (cols,rows))\n",
        "plt.subplot(121),plt.imshow(img),plt.title('image')\n",
        "plt.subplot(122),plt.imshow(dst),plt.title('Affine')\n",
        "plt.show()"
      ],
      "execution_count": null,
      "outputs": []
    },
    {
      "cell_type": "markdown",
      "metadata": {
        "id": "YAmXRIXaASaL",
        "colab_type": "text"
      },
      "source": [
        "#컨볼루션 필터"
      ]
    },
    {
      "cell_type": "code",
      "metadata": {
        "id": "toilxKPLAVnZ",
        "colab_type": "code",
        "colab": {}
      },
      "source": [
        "x = np.array([[1, 1, 1, 0, 0],\n",
        "              [0, 1, 1, 1, 0],\n",
        "              [0, 0, 1, 1, 1],\n",
        "              [0, 0, 1, 1, 0],\n",
        "              [0, 1, 1, 0, 0]],dtype=float)\n",
        "kernel = np.array([[1, 1, 1],\n",
        "                   [1, 1, 1],\n",
        "                   [1, 1, 1],],)\n",
        "# borderType=cv2.BORDER_CONSTANT padding with zero\n",
        "y = cv2.filter2D(x, -1, kernel, borderType=cv2.BORDER_CONSTANT)\n",
        "print(y)"
      ],
      "execution_count": null,
      "outputs": []
    },
    {
      "cell_type": "code",
      "metadata": {
        "id": "6FxO5swVAbkM",
        "colab_type": "code",
        "colab": {}
      },
      "source": [
        "img_url = 'http://sipi.usc.edu/database/preview/misc/4.1.06.png'\n",
        "filename = 'tree.png'\n",
        "\n",
        "img_path = keras.utils.get_file(filename, img_url)\n",
        "\n",
        "src = cv2.imread(img_path)\n",
        "src = cv2.cvtColor(src, cv2.COLOR_BGR2RGB)\n",
        "image = cv2.resize(src, dsize=(80, 80), interpolation=cv2.INTER_AREA)\n",
        "\n",
        "box_blur = np.array([[1, 1, 1],\n",
        "                     [1, 1, 1],\n",
        "                     [1, 1, 1] ])/9.\n",
        "dst = cv2.filter2D(image, -1, box_blur)\n",
        "plt.figure(figsize=(10, 4))\n",
        "plt.subplot(121),plt.imshow(image),plt.title('original')\n",
        "plt.subplot(122),plt.imshow(dst),plt.title('box blur')\n",
        "plt.show()"
      ],
      "execution_count": null,
      "outputs": []
    },
    {
      "cell_type": "code",
      "metadata": {
        "id": "2OD9aBs7BeD1",
        "colab_type": "code",
        "colab": {}
      },
      "source": [
        "edge_detect = np.array([[-1, -1, -1],\n",
        "                        [-1,  8, -1],\n",
        "                        [-1, -1, -1] ])\n",
        "kernel = edge_detect\n",
        "dst = cv2.filter2D(image, -1, kernel)\n",
        "plt.figure(figsize=(10, 4))\n",
        "plt.subplot(121),plt.imshow(image),plt.title('original')\n",
        "plt.subplot(122),plt.imshow(dst),plt.title('edge detect')\n",
        "plt.show()"
      ],
      "execution_count": null,
      "outputs": []
    },
    {
      "cell_type": "code",
      "metadata": {
        "id": "SnquaW_BJyzD",
        "colab_type": "code",
        "colab": {}
      },
      "source": [
        "sharpen = np.array([[ 0, -1,  0],\n",
        "                    [-1,  5, -1],\n",
        "                    [ 0, -1,  0] ])\n",
        "kernel = sharpen\n",
        "dst = cv2.filter2D(image, -1, kernel)\n",
        "plt.figure(figsize=(10, 4))\n",
        "plt.subplot(121),plt.imshow(image),plt.title('original')\n",
        "plt.subplot(122),plt.imshow(dst),plt.title('sharpen')\n",
        "plt.show()"
      ],
      "execution_count": null,
      "outputs": []
    }
  ]
}