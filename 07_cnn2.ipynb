{
  "nbformat": 4,
  "nbformat_minor": 0,
  "metadata": {
    "colab": {
      "name": "07-cnn2",
      "provenance": [],
      "authorship_tag": "ABX9TyN4UKtaA9UJxDkRmrKidMZT",
      "include_colab_link": true
    },
    "kernelspec": {
      "name": "python3",
      "display_name": "Python 3"
    },
    "accelerator": "GPU"
  },
  "cells": [
    {
      "cell_type": "markdown",
      "metadata": {
        "id": "view-in-github",
        "colab_type": "text"
      },
      "source": [
        "<a href=\"https://colab.research.google.com/github/kotech1/computervision/blob/master/07_cnn2.ipynb\" target=\"_parent\"><img src=\"https://colab.research.google.com/assets/colab-badge.svg\" alt=\"Open In Colab\"/></a>"
      ]
    },
    {
      "cell_type": "code",
      "metadata": {
        "id": "bWvICGU4phLm",
        "colab_type": "code",
        "colab": {
          "base_uri": "https://localhost:8080/",
          "height": 71
        },
        "outputId": "9feaeddb-6bd1-4a37-e267-654267c72fa2"
      },
      "source": [
        "from keras.applications.vgg16 import VGG16\n",
        "from keras.preprocessing import image\n",
        "from keras.applications.vgg16 import preprocess_input, decode_predictions\n",
        "import numpy as np\n",
        "\n",
        "model = VGG16(weights='imagenet', include_top=True)\n",
        "\n",
        "img_path = 'dog.jpg'\n",
        "img = image.load_img(img_path, target_size=(224, 224))\n",
        "x = image.img_to_array(img)\n",
        "x = np.expand_dims(x, axis=0)\n",
        "x = preprocess_input(x)\n",
        "\n",
        "preds = model.predict(x)\n",
        "print('Predicted:', decode_predictions(preds, top=3)[0])"
      ],
      "execution_count": null,
      "outputs": [
        {
          "output_type": "stream",
          "text": [
            "WARNING:tensorflow:7 out of the last 7 calls to <function Model.make_predict_function.<locals>.predict_function at 0x7f3139551598> triggered tf.function retracing. Tracing is expensive and the excessive number of tracings could be due to (1) creating @tf.function repeatedly in a loop, (2) passing tensors with different shapes, (3) passing Python objects instead of tensors. For (1), please define your @tf.function outside of the loop. For (2), @tf.function has experimental_relax_shapes=True option that relaxes argument shapes that can avoid unnecessary retracing. For (3), please refer to https://www.tensorflow.org/tutorials/customization/performance#python_or_tensor_args and https://www.tensorflow.org/api_docs/python/tf/function for  more details.\n",
            "Predicted: [('n02110063', 'malamute', 0.3237268), ('n02110185', 'Siberian_husky', 0.21747053), ('n02109961', 'Eskimo_dog', 0.15270932)]\n"
          ],
          "name": "stdout"
        }
      ]
    },
    {
      "cell_type": "code",
      "metadata": {
        "id": "yCwtb5yMqu4X",
        "colab_type": "code",
        "colab": {
          "base_uri": "https://localhost:8080/",
          "height": 1000
        },
        "outputId": "d7821ef2-37db-4eb2-f641-220f9601614c"
      },
      "source": [
        "from keras.applications.vgg16 import VGG16\n",
        "from keras.preprocessing import image\n",
        "from keras.applications.vgg16 import preprocess_input, decode_predictions\n",
        "from tensorflow import keras\n",
        "import numpy as np\n",
        "\n",
        "SAVE_DIR = '/mydrive'\n",
        "model = VGG16(weights=None, classes=10)\n",
        "try:\n",
        "  model.load_weights(SAVE_DIR+'/best_model.h5')\n",
        "  print('load done')\n",
        "except:\n",
        "  pass\n",
        "#print(model.summary())\n",
        "from tensorflow.keras.optimizers import Adam\n",
        "model.compile(loss='categorical_crossentropy', optimizer=Adam(lr=0.0005), metrics=['accuracy'])\n",
        "\n",
        "from tensorflow.keras.preprocessing.image import ImageDataGenerator\n",
        "from tensorflow.keras.callbacks import ModelCheckpoint\n",
        "\n",
        "# create a data generator\n",
        "datagen = ImageDataGenerator()\n",
        "\n",
        "DATA_DIR = 'imagenette2-320'\n",
        "\n",
        "# load and iterate training dataset\n",
        "train_it = datagen.flow_from_directory(DATA_DIR+'/train/', target_size=(224, 224), class_mode='categorical', batch_size=64)\n",
        "# load and iterate validation dataset\n",
        "val_it = datagen.flow_from_directory(DATA_DIR+'/val/', target_size=(224, 224), class_mode='categorical', batch_size=64)\n",
        "# load and iterate test dataset\n",
        "#test_it = datagen.flow_from_directory(DATA_DIR+'/test/', class_mode='binary', batch_size=64)\n",
        "\n",
        "checkpoint = ModelCheckpoint(SAVE_DIR+\"/best_model.h5\", monitor='loss', verbose=1,\n",
        "    save_best_only=True, mode='auto', period=1)\n",
        "\n",
        "from tensorflow.keras.callbacks import Callback\n",
        "\n",
        "class LrReducer(Callback):\n",
        "    def __init__(self, patience=0, reduce_rate=0.5, reduce_nb=10, verbose=1):\n",
        "        super(Callback, self).__init__()\n",
        "        self.patience = patience\n",
        "        self.wait = 0\n",
        "        self.best_score = -1.\n",
        "        self.reduce_rate = reduce_rate\n",
        "        self.current_reduce_nb = 0\n",
        "        self.reduce_nb = reduce_nb\n",
        "        self.verbose = verbose\n",
        "\n",
        "    def on_epoch_end(self, epoch, logs={}):\n",
        "        #current_score = logs.get('val_accuracy')\n",
        "        current_score = logs.get('accuracy')\n",
        "        if current_score > self.best_score:\n",
        "            self.best_score = current_score\n",
        "            self.wait = 0\n",
        "            if self.verbose > 0:\n",
        "                print('---current best score: %.3f' % current_score)\n",
        "        else:\n",
        "            if self.wait >= self.patience:\n",
        "                self.current_reduce_nb += 1\n",
        "                if self.current_reduce_nb <= 10:\n",
        "                    lr = keras.backend.get_value(self.model.optimizer.lr)\n",
        "                    keras.backend.set_value(self.model.optimizer.lr, lr*self.reduce_rate)\n",
        "                    if self.verbose > 0:\n",
        "                        print('---lr decreasing: %.3f' % (lr*self.reduce_rate))\n",
        "                else:\n",
        "                    if self.verbose > 0:\n",
        "                        print(\"Epoch %d: early stopping\" % (epoch))\n",
        "                    self.model.stop_training = True\n",
        "            self.wait += 1\n",
        "lrreducer = LrReducer(patience=5)\n",
        "# fit model\n",
        "#model.fit_generator(train_it, steps_per_epoch=16, validation_data=val_it, validation_steps=8)\n",
        "history = model.fit(train_it, steps_per_epoch=16, validation_data=val_it, \n",
        "          validation_steps=8, \n",
        "          epochs=100, callbacks=[checkpoint,lrreducer])\n"
      ],
      "execution_count": 1,
      "outputs": [
        {
          "output_type": "stream",
          "text": [
            "load done\n",
            "Found 9469 images belonging to 10 classes.\n",
            "Found 3925 images belonging to 10 classes.\n",
            "WARNING:tensorflow:`period` argument is deprecated. Please use `save_freq` to specify the frequency in number of batches seen.\n",
            "Epoch 1/100\n",
            " 2/16 [==>...........................] - ETA: 11s - loss: 0.3382 - accuracy: 0.9062WARNING:tensorflow:Callbacks method `on_train_batch_end` is slow compared to the batch time (batch time: 0.4532s vs `on_train_batch_end` time: 1.1726s). Check your callbacks.\n",
            "16/16 [==============================] - ETA: 0s - loss: 0.3328 - accuracy: 0.9023\n",
            "Epoch 00001: loss improved from inf to 0.33279, saving model to /mydrive/best_model.h5\n",
            "---current best score: 0.902\n",
            "16/16 [==============================] - 37s 2s/step - loss: 0.3328 - accuracy: 0.9023 - val_loss: 2.0553 - val_accuracy: 0.5195\n",
            "Epoch 2/100\n",
            "16/16 [==============================] - ETA: 0s - loss: 0.2978 - accuracy: 0.8975\n",
            "Epoch 00002: loss improved from 0.33279 to 0.29782, saving model to /mydrive/best_model.h5\n",
            "16/16 [==============================] - 36s 2s/step - loss: 0.2978 - accuracy: 0.8975 - val_loss: 2.6532 - val_accuracy: 0.5410\n",
            "Epoch 3/100\n",
            "16/16 [==============================] - ETA: 0s - loss: 0.2541 - accuracy: 0.9209\n",
            "Epoch 00003: loss improved from 0.29782 to 0.25413, saving model to /mydrive/best_model.h5\n",
            "---current best score: 0.921\n",
            "16/16 [==============================] - 37s 2s/step - loss: 0.2541 - accuracy: 0.9209 - val_loss: 2.3753 - val_accuracy: 0.5625\n",
            "Epoch 4/100\n",
            "16/16 [==============================] - ETA: 0s - loss: 0.2538 - accuracy: 0.9277\n",
            "Epoch 00004: loss improved from 0.25413 to 0.25383, saving model to /mydrive/best_model.h5\n",
            "---current best score: 0.928\n",
            "16/16 [==============================] - 40s 2s/step - loss: 0.2538 - accuracy: 0.9277 - val_loss: 2.0741 - val_accuracy: 0.5293\n",
            "Epoch 5/100\n",
            "16/16 [==============================] - ETA: 0s - loss: 0.2505 - accuracy: 0.9297\n",
            "Epoch 00005: loss improved from 0.25383 to 0.25055, saving model to /mydrive/best_model.h5\n",
            "---current best score: 0.930\n",
            "16/16 [==============================] - 36s 2s/step - loss: 0.2505 - accuracy: 0.9297 - val_loss: 2.0894 - val_accuracy: 0.5742\n",
            "Epoch 6/100\n",
            "16/16 [==============================] - ETA: 0s - loss: 0.2639 - accuracy: 0.9229\n",
            "Epoch 00006: loss did not improve from 0.25055\n",
            "16/16 [==============================] - 30s 2s/step - loss: 0.2639 - accuracy: 0.9229 - val_loss: 3.1045 - val_accuracy: 0.5195\n",
            "Epoch 7/100\n",
            "16/16 [==============================] - ETA: 0s - loss: 0.2502 - accuracy: 0.9246\n",
            "Epoch 00007: loss improved from 0.25055 to 0.25021, saving model to /mydrive/best_model.h5\n",
            "16/16 [==============================] - 48s 3s/step - loss: 0.2502 - accuracy: 0.9246 - val_loss: 2.4889 - val_accuracy: 0.5332\n",
            "Epoch 8/100\n",
            "16/16 [==============================] - ETA: 0s - loss: 0.2478 - accuracy: 0.9209\n",
            "Epoch 00008: loss improved from 0.25021 to 0.24780, saving model to /mydrive/best_model.h5\n",
            "16/16 [==============================] - 37s 2s/step - loss: 0.2478 - accuracy: 0.9209 - val_loss: 2.6386 - val_accuracy: 0.5000\n",
            "Epoch 9/100\n",
            "16/16 [==============================] - ETA: 0s - loss: 0.2430 - accuracy: 0.9229\n",
            "Epoch 00009: loss improved from 0.24780 to 0.24296, saving model to /mydrive/best_model.h5\n",
            "16/16 [==============================] - 38s 2s/step - loss: 0.2430 - accuracy: 0.9229 - val_loss: 2.5387 - val_accuracy: 0.5371\n",
            "Epoch 10/100\n",
            "16/16 [==============================] - ETA: 0s - loss: 0.2443 - accuracy: 0.9277\n",
            "Epoch 00010: loss did not improve from 0.24296\n",
            "16/16 [==============================] - 28s 2s/step - loss: 0.2443 - accuracy: 0.9277 - val_loss: 2.6815 - val_accuracy: 0.5059\n",
            "Epoch 11/100\n",
            "16/16 [==============================] - ETA: 0s - loss: 0.2065 - accuracy: 0.9326\n",
            "Epoch 00011: loss improved from 0.24296 to 0.20646, saving model to /mydrive/best_model.h5\n",
            "---current best score: 0.933\n",
            "16/16 [==============================] - 36s 2s/step - loss: 0.2065 - accuracy: 0.9326 - val_loss: 2.7013 - val_accuracy: 0.5332\n",
            "Epoch 12/100\n",
            "16/16 [==============================] - ETA: 0s - loss: 0.2055 - accuracy: 0.9375\n",
            "Epoch 00012: loss improved from 0.20646 to 0.20549, saving model to /mydrive/best_model.h5\n",
            "---current best score: 0.938\n",
            "16/16 [==============================] - 36s 2s/step - loss: 0.2055 - accuracy: 0.9375 - val_loss: 2.5314 - val_accuracy: 0.5469\n",
            "Epoch 13/100\n",
            "16/16 [==============================] - ETA: 0s - loss: 0.1643 - accuracy: 0.9541\n",
            "Epoch 00013: loss improved from 0.20549 to 0.16429, saving model to /mydrive/best_model.h5\n",
            "---current best score: 0.954\n",
            "16/16 [==============================] - 36s 2s/step - loss: 0.1643 - accuracy: 0.9541 - val_loss: 2.1406 - val_accuracy: 0.5586\n",
            "Epoch 14/100\n",
            "16/16 [==============================] - ETA: 0s - loss: 0.1713 - accuracy: 0.9424\n",
            "Epoch 00014: loss did not improve from 0.16429\n",
            "16/16 [==============================] - 29s 2s/step - loss: 0.1713 - accuracy: 0.9424 - val_loss: 2.6660 - val_accuracy: 0.5742\n",
            "Epoch 15/100\n",
            "16/16 [==============================] - ETA: 0s - loss: 0.2089 - accuracy: 0.9326\n",
            "Epoch 00015: loss did not improve from 0.16429\n",
            "16/16 [==============================] - 28s 2s/step - loss: 0.2089 - accuracy: 0.9326 - val_loss: 2.4652 - val_accuracy: 0.5566\n",
            "Epoch 16/100\n",
            "16/16 [==============================] - ETA: 0s - loss: 0.1834 - accuracy: 0.9473\n",
            "Epoch 00016: loss did not improve from 0.16429\n",
            "16/16 [==============================] - 28s 2s/step - loss: 0.1834 - accuracy: 0.9473 - val_loss: 2.5870 - val_accuracy: 0.5957\n",
            "Epoch 17/100\n",
            "16/16 [==============================] - ETA: 0s - loss: 0.1415 - accuracy: 0.9551\n",
            "Epoch 00017: loss improved from 0.16429 to 0.14145, saving model to /mydrive/best_model.h5\n",
            "---current best score: 0.955\n",
            "16/16 [==============================] - 37s 2s/step - loss: 0.1415 - accuracy: 0.9551 - val_loss: 2.9631 - val_accuracy: 0.4902\n",
            "Epoch 18/100\n",
            "16/16 [==============================] - ETA: 0s - loss: 0.1758 - accuracy: 0.9502\n",
            "Epoch 00018: loss did not improve from 0.14145\n",
            "16/16 [==============================] - 30s 2s/step - loss: 0.1758 - accuracy: 0.9502 - val_loss: 2.7658 - val_accuracy: 0.5332\n",
            "Epoch 19/100\n",
            "16/16 [==============================] - ETA: 0s - loss: 0.2337 - accuracy: 0.9248\n",
            "Epoch 00019: loss did not improve from 0.14145\n",
            "16/16 [==============================] - 28s 2s/step - loss: 0.2337 - accuracy: 0.9248 - val_loss: 2.3824 - val_accuracy: 0.5039\n",
            "Epoch 20/100\n",
            "16/16 [==============================] - ETA: 0s - loss: 0.1871 - accuracy: 0.9521\n",
            "Epoch 00020: loss did not improve from 0.14145\n",
            "16/16 [==============================] - 28s 2s/step - loss: 0.1871 - accuracy: 0.9521 - val_loss: 2.3094 - val_accuracy: 0.5312\n",
            "Epoch 21/100\n",
            "16/16 [==============================] - ETA: 0s - loss: 0.1844 - accuracy: 0.9424\n",
            "Epoch 00021: loss did not improve from 0.14145\n",
            "16/16 [==============================] - 28s 2s/step - loss: 0.1844 - accuracy: 0.9424 - val_loss: 2.5560 - val_accuracy: 0.5664\n",
            "Epoch 22/100\n",
            "16/16 [==============================] - ETA: 0s - loss: 0.1278 - accuracy: 0.9629\n",
            "Epoch 00022: loss improved from 0.14145 to 0.12777, saving model to /mydrive/best_model.h5\n",
            "---current best score: 0.963\n",
            "16/16 [==============================] - 36s 2s/step - loss: 0.1278 - accuracy: 0.9629 - val_loss: 3.1188 - val_accuracy: 0.5098\n",
            "Epoch 23/100\n",
            "16/16 [==============================] - ETA: 0s - loss: 0.1365 - accuracy: 0.9658\n",
            "Epoch 00023: loss did not improve from 0.12777\n",
            "---current best score: 0.966\n",
            "16/16 [==============================] - 28s 2s/step - loss: 0.1365 - accuracy: 0.9658 - val_loss: 2.4419 - val_accuracy: 0.5352\n",
            "Epoch 24/100\n",
            "16/16 [==============================] - ETA: 0s - loss: 0.1305 - accuracy: 0.9551\n",
            "Epoch 00024: loss did not improve from 0.12777\n",
            "16/16 [==============================] - 28s 2s/step - loss: 0.1305 - accuracy: 0.9551 - val_loss: 3.1452 - val_accuracy: 0.5547\n",
            "Epoch 25/100\n",
            "16/16 [==============================] - ETA: 0s - loss: 0.1496 - accuracy: 0.9541\n",
            "Epoch 00025: loss did not improve from 0.12777\n",
            "16/16 [==============================] - 28s 2s/step - loss: 0.1496 - accuracy: 0.9541 - val_loss: 2.8252 - val_accuracy: 0.5215\n",
            "Epoch 26/100\n",
            "16/16 [==============================] - ETA: 0s - loss: 0.1236 - accuracy: 0.9600\n",
            "Epoch 00026: loss improved from 0.12777 to 0.12362, saving model to /mydrive/best_model.h5\n",
            "16/16 [==============================] - 39s 2s/step - loss: 0.1236 - accuracy: 0.9600 - val_loss: 3.0568 - val_accuracy: 0.5547\n",
            "Epoch 27/100\n",
            "16/16 [==============================] - ETA: 0s - loss: 0.1222 - accuracy: 0.9609\n",
            "Epoch 00027: loss improved from 0.12362 to 0.12216, saving model to /mydrive/best_model.h5\n",
            "16/16 [==============================] - 36s 2s/step - loss: 0.1222 - accuracy: 0.9609 - val_loss: 3.3787 - val_accuracy: 0.5371\n",
            "Epoch 28/100\n",
            "16/16 [==============================] - ETA: 0s - loss: 0.2115 - accuracy: 0.9336\n",
            "Epoch 00028: loss did not improve from 0.12216\n",
            "16/16 [==============================] - 29s 2s/step - loss: 0.2115 - accuracy: 0.9336 - val_loss: 2.8515 - val_accuracy: 0.5176\n",
            "Epoch 29/100\n",
            "16/16 [==============================] - ETA: 0s - loss: 0.1359 - accuracy: 0.9600\n",
            "Epoch 00029: loss did not improve from 0.12216\n"
          ],
          "name": "stdout"
        },
        {
          "output_type": "error",
          "ename": "TypeError",
          "evalue": "ignored",
          "traceback": [
            "\u001b[0;31m---------------------------------------------------------------------------\u001b[0m",
            "\u001b[0;31mTypeError\u001b[0m                                 Traceback (most recent call last)",
            "\u001b[0;32m<ipython-input-1-171e40b26c7a>\u001b[0m in \u001b[0;36m<module>\u001b[0;34m()\u001b[0m\n\u001b[1;32m     73\u001b[0m history = model.fit(train_it, steps_per_epoch=16, validation_data=val_it, \n\u001b[1;32m     74\u001b[0m           \u001b[0mvalidation_steps\u001b[0m\u001b[0;34m=\u001b[0m\u001b[0;36m8\u001b[0m\u001b[0;34m,\u001b[0m\u001b[0;34m\u001b[0m\u001b[0;34m\u001b[0m\u001b[0m\n\u001b[0;32m---> 75\u001b[0;31m           epochs=100, callbacks=[checkpoint,lrreducer])\n\u001b[0m",
            "\u001b[0;32m/usr/local/lib/python3.6/dist-packages/tensorflow/python/keras/engine/training.py\u001b[0m in \u001b[0;36m_method_wrapper\u001b[0;34m(self, *args, **kwargs)\u001b[0m\n\u001b[1;32m    106\u001b[0m   \u001b[0;32mdef\u001b[0m \u001b[0m_method_wrapper\u001b[0m\u001b[0;34m(\u001b[0m\u001b[0mself\u001b[0m\u001b[0;34m,\u001b[0m \u001b[0;34m*\u001b[0m\u001b[0margs\u001b[0m\u001b[0;34m,\u001b[0m \u001b[0;34m**\u001b[0m\u001b[0mkwargs\u001b[0m\u001b[0;34m)\u001b[0m\u001b[0;34m:\u001b[0m\u001b[0;34m\u001b[0m\u001b[0;34m\u001b[0m\u001b[0m\n\u001b[1;32m    107\u001b[0m     \u001b[0;32mif\u001b[0m \u001b[0;32mnot\u001b[0m \u001b[0mself\u001b[0m\u001b[0;34m.\u001b[0m\u001b[0m_in_multi_worker_mode\u001b[0m\u001b[0;34m(\u001b[0m\u001b[0;34m)\u001b[0m\u001b[0;34m:\u001b[0m  \u001b[0;31m# pylint: disable=protected-access\u001b[0m\u001b[0;34m\u001b[0m\u001b[0;34m\u001b[0m\u001b[0m\n\u001b[0;32m--> 108\u001b[0;31m       \u001b[0;32mreturn\u001b[0m \u001b[0mmethod\u001b[0m\u001b[0;34m(\u001b[0m\u001b[0mself\u001b[0m\u001b[0;34m,\u001b[0m \u001b[0;34m*\u001b[0m\u001b[0margs\u001b[0m\u001b[0;34m,\u001b[0m \u001b[0;34m**\u001b[0m\u001b[0mkwargs\u001b[0m\u001b[0;34m)\u001b[0m\u001b[0;34m\u001b[0m\u001b[0;34m\u001b[0m\u001b[0m\n\u001b[0m\u001b[1;32m    109\u001b[0m \u001b[0;34m\u001b[0m\u001b[0m\n\u001b[1;32m    110\u001b[0m     \u001b[0;31m# Running inside `run_distribute_coordinator` already.\u001b[0m\u001b[0;34m\u001b[0m\u001b[0;34m\u001b[0m\u001b[0;34m\u001b[0m\u001b[0m\n",
            "\u001b[0;32m/usr/local/lib/python3.6/dist-packages/tensorflow/python/keras/engine/training.py\u001b[0m in \u001b[0;36mfit\u001b[0;34m(self, x, y, batch_size, epochs, verbose, callbacks, validation_split, validation_data, shuffle, class_weight, sample_weight, initial_epoch, steps_per_epoch, validation_steps, validation_batch_size, validation_freq, max_queue_size, workers, use_multiprocessing)\u001b[0m\n\u001b[1;32m   1135\u001b[0m           \u001b[0mepoch_logs\u001b[0m\u001b[0;34m.\u001b[0m\u001b[0mupdate\u001b[0m\u001b[0;34m(\u001b[0m\u001b[0mval_logs\u001b[0m\u001b[0;34m)\u001b[0m\u001b[0;34m\u001b[0m\u001b[0;34m\u001b[0m\u001b[0m\n\u001b[1;32m   1136\u001b[0m \u001b[0;34m\u001b[0m\u001b[0m\n\u001b[0;32m-> 1137\u001b[0;31m         \u001b[0mcallbacks\u001b[0m\u001b[0;34m.\u001b[0m\u001b[0mon_epoch_end\u001b[0m\u001b[0;34m(\u001b[0m\u001b[0mepoch\u001b[0m\u001b[0;34m,\u001b[0m \u001b[0mepoch_logs\u001b[0m\u001b[0;34m)\u001b[0m\u001b[0;34m\u001b[0m\u001b[0;34m\u001b[0m\u001b[0m\n\u001b[0m\u001b[1;32m   1138\u001b[0m         \u001b[0mtraining_logs\u001b[0m \u001b[0;34m=\u001b[0m \u001b[0mepoch_logs\u001b[0m\u001b[0;34m\u001b[0m\u001b[0;34m\u001b[0m\u001b[0m\n\u001b[1;32m   1139\u001b[0m         \u001b[0;32mif\u001b[0m \u001b[0mself\u001b[0m\u001b[0;34m.\u001b[0m\u001b[0mstop_training\u001b[0m\u001b[0;34m:\u001b[0m\u001b[0;34m\u001b[0m\u001b[0;34m\u001b[0m\u001b[0m\n",
            "\u001b[0;32m/usr/local/lib/python3.6/dist-packages/tensorflow/python/keras/callbacks.py\u001b[0m in \u001b[0;36mon_epoch_end\u001b[0;34m(self, epoch, logs)\u001b[0m\n\u001b[1;32m    414\u001b[0m         \u001b[0;32mif\u001b[0m \u001b[0mnumpy_logs\u001b[0m \u001b[0;32mis\u001b[0m \u001b[0;32mNone\u001b[0m\u001b[0;34m:\u001b[0m  \u001b[0;31m# Only convert once.\u001b[0m\u001b[0;34m\u001b[0m\u001b[0;34m\u001b[0m\u001b[0m\n\u001b[1;32m    415\u001b[0m           \u001b[0mnumpy_logs\u001b[0m \u001b[0;34m=\u001b[0m \u001b[0mtf_utils\u001b[0m\u001b[0;34m.\u001b[0m\u001b[0mto_numpy_or_python_type\u001b[0m\u001b[0;34m(\u001b[0m\u001b[0mlogs\u001b[0m\u001b[0;34m)\u001b[0m\u001b[0;34m\u001b[0m\u001b[0;34m\u001b[0m\u001b[0m\n\u001b[0;32m--> 416\u001b[0;31m         \u001b[0mcallback\u001b[0m\u001b[0;34m.\u001b[0m\u001b[0mon_epoch_end\u001b[0m\u001b[0;34m(\u001b[0m\u001b[0mepoch\u001b[0m\u001b[0;34m,\u001b[0m \u001b[0mnumpy_logs\u001b[0m\u001b[0;34m)\u001b[0m\u001b[0;34m\u001b[0m\u001b[0;34m\u001b[0m\u001b[0m\n\u001b[0m\u001b[1;32m    417\u001b[0m \u001b[0;34m\u001b[0m\u001b[0m\n\u001b[1;32m    418\u001b[0m   \u001b[0;32mdef\u001b[0m \u001b[0mon_train_batch_begin\u001b[0m\u001b[0;34m(\u001b[0m\u001b[0mself\u001b[0m\u001b[0;34m,\u001b[0m \u001b[0mbatch\u001b[0m\u001b[0;34m,\u001b[0m \u001b[0mlogs\u001b[0m\u001b[0;34m=\u001b[0m\u001b[0;32mNone\u001b[0m\u001b[0;34m)\u001b[0m\u001b[0;34m:\u001b[0m\u001b[0;34m\u001b[0m\u001b[0;34m\u001b[0m\u001b[0m\n",
            "\u001b[0;32m<ipython-input-1-171e40b26c7a>\u001b[0m in \u001b[0;36mon_epoch_end\u001b[0;34m(self, epoch, logs)\u001b[0m\n\u001b[1;32m     62\u001b[0m                     \u001b[0mkeras\u001b[0m\u001b[0;34m.\u001b[0m\u001b[0mbackend\u001b[0m\u001b[0;34m.\u001b[0m\u001b[0mset_value\u001b[0m\u001b[0;34m(\u001b[0m\u001b[0mself\u001b[0m\u001b[0;34m.\u001b[0m\u001b[0mmodel\u001b[0m\u001b[0;34m.\u001b[0m\u001b[0moptimizer\u001b[0m\u001b[0;34m.\u001b[0m\u001b[0mlr\u001b[0m\u001b[0;34m,\u001b[0m \u001b[0mlr\u001b[0m\u001b[0;34m*\u001b[0m\u001b[0mself\u001b[0m\u001b[0;34m.\u001b[0m\u001b[0mreduce_rate\u001b[0m\u001b[0;34m)\u001b[0m\u001b[0;34m\u001b[0m\u001b[0;34m\u001b[0m\u001b[0m\n\u001b[1;32m     63\u001b[0m                     \u001b[0;32mif\u001b[0m \u001b[0mself\u001b[0m\u001b[0;34m.\u001b[0m\u001b[0mverbose\u001b[0m \u001b[0;34m>\u001b[0m \u001b[0;36m0\u001b[0m\u001b[0;34m:\u001b[0m\u001b[0;34m\u001b[0m\u001b[0;34m\u001b[0m\u001b[0m\n\u001b[0;32m---> 64\u001b[0;31m                         \u001b[0mprint\u001b[0m\u001b[0;34m(\u001b[0m\u001b[0;34m'---lr decreasing: %.3f'\u001b[0m \u001b[0;34m%\u001b[0m \u001b[0mlr\u001b[0m\u001b[0;34m*\u001b[0m\u001b[0mself\u001b[0m\u001b[0;34m.\u001b[0m\u001b[0mreduce_rate\u001b[0m\u001b[0;34m)\u001b[0m\u001b[0;34m\u001b[0m\u001b[0;34m\u001b[0m\u001b[0m\n\u001b[0m\u001b[1;32m     65\u001b[0m                 \u001b[0;32melse\u001b[0m\u001b[0;34m:\u001b[0m\u001b[0;34m\u001b[0m\u001b[0;34m\u001b[0m\u001b[0m\n\u001b[1;32m     66\u001b[0m                     \u001b[0;32mif\u001b[0m \u001b[0mself\u001b[0m\u001b[0;34m.\u001b[0m\u001b[0mverbose\u001b[0m \u001b[0;34m>\u001b[0m \u001b[0;36m0\u001b[0m\u001b[0;34m:\u001b[0m\u001b[0;34m\u001b[0m\u001b[0;34m\u001b[0m\u001b[0m\n",
            "\u001b[0;31mTypeError\u001b[0m: can't multiply sequence by non-int of type 'float'"
          ]
        }
      ]
    },
    {
      "cell_type": "code",
      "metadata": {
        "id": "aRrITHbAdDmC",
        "colab_type": "code",
        "colab": {
          "base_uri": "https://localhost:8080/",
          "height": 915
        },
        "outputId": "3e6d5b26-21c8-4f3e-d31a-fd93793db2f2"
      },
      "source": [
        "history.history"
      ],
      "execution_count": 6,
      "outputs": [
        {
          "output_type": "execute_result",
          "data": {
            "text/plain": [
              "{'accuracy': [0.8916015625,\n",
              "  0.8818359375,\n",
              "  0.9140625,\n",
              "  0.931640625,\n",
              "  0.9404296875,\n",
              "  0.9482421875,\n",
              "  0.9521484375,\n",
              "  0.9599609375,\n",
              "  0.9501953125,\n",
              "  0.9501953125,\n",
              "  0.953125,\n",
              "  0.9560546875,\n",
              "  0.9541015625],\n",
              " 'loss': [0.3450586497783661,\n",
              "  0.38263922929763794,\n",
              "  0.28850334882736206,\n",
              "  0.2326890379190445,\n",
              "  0.20077776908874512,\n",
              "  0.1876901239156723,\n",
              "  0.17775705456733704,\n",
              "  0.1484491229057312,\n",
              "  0.17039915919303894,\n",
              "  0.16273608803749084,\n",
              "  0.15368404984474182,\n",
              "  0.14832033216953278,\n",
              "  0.1632329225540161],\n",
              " 'val_accuracy': [0.564453125,\n",
              "  0.5390625,\n",
              "  0.513671875,\n",
              "  0.546875,\n",
              "  0.587890625,\n",
              "  0.529296875,\n",
              "  0.548828125,\n",
              "  0.580078125,\n",
              "  0.5625,\n",
              "  0.556640625,\n",
              "  0.572265625,\n",
              "  0.576171875,\n",
              "  0.5390625],\n",
              " 'val_loss': [2.0568630695343018,\n",
              "  2.096158981323242,\n",
              "  2.2784550189971924,\n",
              "  2.3080766201019287,\n",
              "  1.9001349210739136,\n",
              "  2.29915452003479,\n",
              "  2.257049083709717,\n",
              "  2.1322591304779053,\n",
              "  2.3959884643554688,\n",
              "  2.2066664695739746,\n",
              "  2.2292568683624268,\n",
              "  2.2070472240448,\n",
              "  2.309908866882324]}"
            ]
          },
          "metadata": {
            "tags": []
          },
          "execution_count": 6
        }
      ]
    },
    {
      "cell_type": "markdown",
      "metadata": {
        "id": "CL_SCS0cXQHQ",
        "colab_type": "text"
      },
      "source": [
        ""
      ]
    },
    {
      "cell_type": "code",
      "metadata": {
        "id": "hLycrsKREzwe",
        "colab_type": "code",
        "colab": {
          "base_uri": "https://localhost:8080/",
          "height": 72
        },
        "outputId": "ea6089ce-108d-43ed-a700-29aaba1efc86"
      },
      "source": [
        "# Check if NVIDIA GPU is enabled\n",
        "!nvidia-smi"
      ],
      "execution_count": null,
      "outputs": [
        {
          "output_type": "stream",
          "text": [
            "NVIDIA-SMI has failed because it couldn't communicate with the NVIDIA driver. Make sure that the latest NVIDIA driver is installed and running.\n",
            "\n"
          ],
          "name": "stdout"
        }
      ]
    },
    {
      "cell_type": "code",
      "metadata": {
        "id": "QF6BUvjhqv6o",
        "colab_type": "code",
        "colab": {
          "base_uri": "https://localhost:8080/",
          "height": 173
        },
        "outputId": "653114b9-39eb-4b7f-9e09-4ade741c8385"
      },
      "source": [
        "from google.colab import drive\n",
        "drive.mount('/content/gdrive')\n",
        "!ln -s /content/gdrive/My\\ Drive/ /mydrive\n",
        "!ls /mydrive"
      ],
      "execution_count": 3,
      "outputs": [
        {
          "output_type": "stream",
          "text": [
            "Mounted at /content/gdrive\n",
            " 01_yolo\t\t\t\t\t       집.gslides\n",
            "'Awesome Note'\t\t\t\t\t       시사.gslides\n",
            "'Colab Notebooks'\t\t\t\t       imagenette2-320.tar.gz\n",
            "'Copy of K-MOOC 한글화 용어사전.gsheet'\t\t       Physics\n",
            "'Copy of kmooc survey copied.gform'\t\t       practice.gdoc\n",
            " data\t\t\t\t\t\t       saved_model\n",
            " extracted_chris.zip\t\t\t\t      'Untitled Document.gdoc'\n",
            "'Google 노트에서 가져온 문서 - 내 첫 번째 노트.gdoc'   yolov3\n"
          ],
          "name": "stdout"
        }
      ]
    },
    {
      "cell_type": "code",
      "metadata": {
        "id": "CAODcvSRqw-g",
        "colab_type": "code",
        "colab": {}
      },
      "source": [
        "!mv /mydrivebest_model.h5 /mydrive/best_model.h5"
      ],
      "execution_count": 19,
      "outputs": []
    },
    {
      "cell_type": "code",
      "metadata": {
        "id": "7_YoD9d_GOEc",
        "colab_type": "code",
        "colab": {
          "base_uri": "https://localhost:8080/",
          "height": 35
        },
        "outputId": "9bfd6e17-641e-4c13-e2bc-076f9c7c56e3"
      },
      "source": [
        "!ls -l /*.h5"
      ],
      "execution_count": 20,
      "outputs": [
        {
          "output_type": "stream",
          "text": [
            "ls: cannot access '/*.h5': No such file or directory\n"
          ],
          "name": "stdout"
        }
      ]
    },
    {
      "cell_type": "code",
      "metadata": {
        "id": "ivd6_0JWGQ2P",
        "colab_type": "code",
        "colab": {
          "base_uri": "https://localhost:8080/",
          "height": 35
        },
        "outputId": "94c6a01a-482c-4127-a897-ab8cd1e55bba"
      },
      "source": [
        "!mv best_model.h5 /mydrive\n"
      ],
      "execution_count": 10,
      "outputs": [
        {
          "output_type": "stream",
          "text": [
            "\n"
          ],
          "name": "stdout"
        }
      ]
    },
    {
      "cell_type": "code",
      "metadata": {
        "id": "Mw4wov6BGdJX",
        "colab_type": "code",
        "colab": {}
      },
      "source": [
        "!tar xfvz /mydrive/imagenette2-320.tar.gz"
      ],
      "execution_count": null,
      "outputs": []
    },
    {
      "cell_type": "code",
      "metadata": {
        "id": "WYMb7H6LGitz",
        "colab_type": "code",
        "colab": {
          "base_uri": "https://localhost:8080/",
          "height": 35
        },
        "outputId": "c5aaa280-e21c-4834-bbdd-a5be8e1a809d"
      },
      "source": [
        "!ls"
      ],
      "execution_count": 6,
      "outputs": [
        {
          "output_type": "stream",
          "text": [
            "gdrive\timagenette2-320  sample_data\n"
          ],
          "name": "stdout"
        }
      ]
    },
    {
      "cell_type": "code",
      "metadata": {
        "id": "q5rhHO1Oabl2",
        "colab_type": "code",
        "colab": {
          "base_uri": "https://localhost:8080/",
          "height": 35
        },
        "outputId": "83f08520-e6ef-4ee1-ea3a-74cb830b7921"
      },
      "source": [
        "!ls -a"
      ],
      "execution_count": 7,
      "outputs": [
        {
          "output_type": "stream",
          "text": [
            ".  ..  .config\tgdrive\timagenette2-320  sample_data\n"
          ],
          "name": "stdout"
        }
      ]
    },
    {
      "cell_type": "code",
      "metadata": {
        "id": "yRuVTg61af9i",
        "colab_type": "code",
        "colab": {
          "base_uri": "https://localhost:8080/",
          "height": 104
        },
        "outputId": "706803f9-927f-4bd8-f6d7-c15d8ab6c2a6"
      },
      "source": [
        "!ls -a /\n"
      ],
      "execution_count": 9,
      "outputs": [
        {
          "output_type": "stream",
          "text": [
            ".\t datalab     lib    mydrive\t\t  run\t tensorflow-1.15.2\n",
            "..\t dev\t     lib32  mydrivebest_model.h5  sbin\t tmp\n",
            "bin\t .dockerenv  lib64  opt\t\t\t  srv\t tools\n",
            "boot\t etc\t     media  proc\t\t  swift  usr\n",
            "content  home\t     mnt    root\t\t  sys\t var\n"
          ],
          "name": "stdout"
        }
      ]
    },
    {
      "cell_type": "code",
      "metadata": {
        "id": "2UafpwXkaicZ",
        "colab_type": "code",
        "colab": {
          "base_uri": "https://localhost:8080/",
          "height": 173
        },
        "outputId": "846400a8-40cc-4c5f-fb51-8867fbcb92ed"
      },
      "source": [
        "!ls /mydrive"
      ],
      "execution_count": 10,
      "outputs": [
        {
          "output_type": "stream",
          "text": [
            " 01_yolo\t\t\t\t\t       집.gslides\n",
            "'Awesome Note'\t\t\t\t\t       시사.gslides\n",
            " best_model.h5\t\t\t\t\t       imagenette2-320.tar.gz\n",
            "'Colab Notebooks'\t\t\t\t       Physics\n",
            "'Copy of K-MOOC 한글화 용어사전.gsheet'\t\t       practice.gdoc\n",
            "'Copy of kmooc survey copied.gform'\t\t       saved_model\n",
            " data\t\t\t\t\t\t      'Untitled Document.gdoc'\n",
            " extracted_chris.zip\t\t\t\t       yolov3\n",
            "'Google 노트에서 가져온 문서 - 내 첫 번째 노트.gdoc'\n"
          ],
          "name": "stdout"
        }
      ]
    },
    {
      "cell_type": "code",
      "metadata": {
        "id": "wTXBMyo3apL3",
        "colab_type": "code",
        "colab": {
          "base_uri": "https://localhost:8080/",
          "height": 35
        },
        "outputId": "fcba251b-924d-4df7-d8a9-858aef142135"
      },
      "source": [
        "!ls -a /root/.keras"
      ],
      "execution_count": 16,
      "outputs": [
        {
          "output_type": "stream",
          "text": [
            ".  ..  keras.json\n"
          ],
          "name": "stdout"
        }
      ]
    },
    {
      "cell_type": "code",
      "metadata": {
        "id": "FIkSzeTsayb6",
        "colab_type": "code",
        "colab": {}
      },
      "source": [
        ""
      ],
      "execution_count": null,
      "outputs": []
    }
  ]
}