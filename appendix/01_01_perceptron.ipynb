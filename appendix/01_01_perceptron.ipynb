{
  "nbformat": 4,
  "nbformat_minor": 0,
  "metadata": {
    "colab": {
      "name": "01-01-perceptron.ipynb",
      "provenance": [],
      "authorship_tag": "ABX9TyNJpy5F69YrPyiHfZYou4pl",
      "include_colab_link": true
    },
    "kernelspec": {
      "name": "python3",
      "display_name": "Python 3"
    },
    "language_info": {
      "name": "python"
    }
  },
  "cells": [
    {
      "cell_type": "markdown",
      "metadata": {
        "id": "view-in-github",
        "colab_type": "text"
      },
      "source": [
        "<a href=\"https://colab.research.google.com/github/kotech1/computervision/blob/master/appendix/01_01_perceptron.ipynb\" target=\"_parent\"><img src=\"https://colab.research.google.com/assets/colab-badge.svg\" alt=\"Open In Colab\"/></a>"
      ]
    },
    {
      "cell_type": "markdown",
      "metadata": {
        "id": "3P0HPV4rbEct"
      },
      "source": [
        "# numpy tensor로 구현한 perceptron"
      ]
    },
    {
      "cell_type": "code",
      "metadata": {
        "colab": {
          "base_uri": "https://localhost:8080/"
        },
        "id": "xMEEWmO4bTBt",
        "outputId": "62d41fe4-b254-4479-b859-3b64806b720f"
      },
      "source": [
        "import numpy as np\n",
        "\n",
        "x_train = np.array([[1, -1], [-1, 1]], dtype='float32')\n",
        "#x_train = np.array([[1, -1], [-0.9, 0.9]], dtype='float32')\n",
        "y_train = np.array([1, -1], dtype='float32')\n",
        "\n",
        "# weights 초기값\n",
        "W = np.array([-1, 1], dtype='float32')\n",
        "b = np.array(0, dtype='float32')\n",
        "\n",
        "# learning rate\n",
        "lr = 0.1\n",
        "\n",
        "epochs = 4\n",
        "\n",
        "print('batch_size: 1')\n",
        "for epoch in range(epochs):\n",
        "    for batch in range(2):\n",
        "        # batch에서 한개씩 데이터를 꺼내옴\n",
        "        x = x_train[batch]\n",
        "        y = y_train[batch]\n",
        "\n",
        "        # 추론 값을 hypothesis라고도 부름\n",
        "        hypothesis = np.sign(np.matmul(W, x) + b)\n",
        "\n",
        "        # 손실 함수(참고용)\n",
        "        cost = ((hypothesis - y) ** 2)/2\n",
        "\n",
        "        # gradient 계산\n",
        "        gradient_W = (hypothesis - y) * x\n",
        "        gradient_b = (hypothesis - y)\n",
        "\n",
        "        # weights의 갱신\n",
        "        W -= lr * gradient_W\n",
        "        b -= lr * gradient_b\n",
        "\n",
        "    print('epoch %i: '%(epoch+1), W, b)\n",
        "\n",
        "\n",
        "# weights 초기값\n",
        "W = np.array([-1, 1], dtype='float32')\n",
        "b = np.array(0, dtype='float32')\n",
        "\n",
        "print('batch_size: 2')\n",
        "for epoch in range(epochs):\n",
        "    # 추론 값을 hypothesis라고도 부름\n",
        "    hypothesis = np.sign(np.matmul(W, x_train.transpose()) + b)\n",
        "\n",
        "    # 손실 함수(참고용)\n",
        "    cost = np.sum(((hypothesis - y_train) ** 2)/2)\n",
        "\n",
        "    # gradient 계산\n",
        "    gradient_W = np.matmul(hypothesis - y_train, x_train.transpose())\n",
        "    gradient_b = np.sum(hypothesis - y_train)\n",
        "\n",
        "    # weights의 갱신\n",
        "    W -= lr * gradient_W\n",
        "    b -= lr * gradient_b\n",
        "    print('epoch %i: '%(epoch+1), W, b)\n"
      ],
      "execution_count": 1,
      "outputs": [
        {
          "output_type": "stream",
          "name": "stdout",
          "text": [
            "batch_size: 1\n",
            "epoch 1:  [-0.6  0.6] 2.9802323e-09\n",
            "epoch 2:  [-0.20000003  0.20000003] 2.9802323e-09\n",
            "epoch 3:  [ 0.19999997 -0.19999997] 2.9802323e-09\n",
            "epoch 4:  [ 0.19999997 -0.19999997] 2.9802323e-09\n",
            "batch_size: 2\n",
            "epoch 1:  [-0.6  0.6] 0.0\n",
            "epoch 2:  [-0.20000002  0.20000002] 0.0\n",
            "epoch 3:  [ 0.19999999 -0.19999999] 0.0\n",
            "epoch 4:  [ 0.19999999 -0.19999999] 0.0\n"
          ]
        }
      ]
    },
    {
      "cell_type": "markdown",
      "metadata": {
        "id": "Ejb7171aeH3E"
      },
      "source": [
        "#keras tensor로 구현한 perceptron\n"
      ]
    },
    {
      "cell_type": "code",
      "metadata": {
        "colab": {
          "base_uri": "https://localhost:8080/"
        },
        "id": "NGiy5rGCeMgu",
        "outputId": "452b81ba-ac35-44f9-d5fa-dd79b54f89a1"
      },
      "source": [
        "import numpy as np\n",
        "import tensorflow as tf\n",
        "import tensorflow.keras.backend as K\n",
        "\n",
        "x_train = tf.convert_to_tensor(np.array([[1, -1], [-1, 1]], dtype='float32'))\n",
        "#x_train = tf.convert_to_tensor(np.array([[1, -1], [-0.9, 0.9]], dtype='float32'))\n",
        "y_train = tf.convert_to_tensor(np.array([1, -1], dtype='float32'))\n",
        "\n",
        "# weights 초기값\n",
        "W = tf.convert_to_tensor(np.array([-1, 1], dtype='float32'))\n",
        "b = tf.convert_to_tensor(np.array(0, dtype='float32'))\n",
        "\n",
        "# learning rate\n",
        "lr = 0.1\n",
        "\n",
        "epochs = 4\n",
        "\n",
        "print('batch_size: 1')\n",
        "for epoch in range(epochs):\n",
        "    for batch in range(2):\n",
        "        # batch에서 한개씩 데이터를 꺼내옴\n",
        "        x = x_train[batch]\n",
        "        y = y_train[batch]\n",
        "\n",
        "        # 추론 값을 hypothesis라고도 부름\n",
        "        hypothesis = tf.sign(tf.tensordot(W, x, axes=1) + b)\n",
        "\n",
        "        # 손실 함수(참고용)\n",
        "        cost = ((hypothesis - y) ** 2)/2\n",
        "\n",
        "        # gradient 계산\n",
        "        gradient_W = (hypothesis - y) * x\n",
        "        gradient_b = (hypothesis - y)\n",
        "\n",
        "        # weights의 갱신\n",
        "        W -= lr * gradient_W\n",
        "        b -= lr * gradient_b\n",
        "\n",
        "    print('epoch %i: '%(epoch+1), W.numpy(), b.numpy())\n",
        "\n",
        "\n",
        "# weights 초기값\n",
        "W = tf.convert_to_tensor(np.array([-1, 1], dtype='float32'))\n",
        "b = tf.convert_to_tensor(np.array(0, dtype='float32'))\n",
        "\n",
        "print('batch_size: 2')\n",
        "for epoch in range(epochs):\n",
        "    # 추론 값을 hypothesis라고도 부름\n",
        "    hypothesis = tf.sign(tf.tensordot(W, tf.transpose(x_train), axes=1) + b)\n",
        "    #hypothesis = tf.tensordot(W, tf.transpose(x_train), axes=1) + b\n",
        "    \n",
        "    # 손실 함수(참고용)\n",
        "    cost = tf.reduce_sum(((hypothesis - y_train) ** 2)/2)\n",
        "\n",
        "    # gradient 계산\n",
        "    gradient_W = tf.tensordot(hypothesis - y_train, tf.transpose(x_train), axes=1)\n",
        "    gradient_b = tf.reduce_sum(hypothesis - y_train)\n",
        "\n",
        "    # weights의 갱신\n",
        "    W -= lr * gradient_W\n",
        "    b -= lr * gradient_b\n",
        "    print('epoch %i: '%(epoch+1), W.numpy(), b.numpy())"
      ],
      "execution_count": 2,
      "outputs": [
        {
          "output_type": "stream",
          "name": "stdout",
          "text": [
            "batch_size: 1\n",
            "epoch 1:  [-0.6  0.6] 0.0\n",
            "epoch 2:  [-0.20000003  0.20000003] 0.0\n",
            "epoch 3:  [ 0.19999997 -0.19999997] 0.0\n",
            "epoch 4:  [ 0.19999997 -0.19999997] 0.0\n",
            "batch_size: 2\n",
            "epoch 1:  [-0.6  0.6] 0.0\n",
            "epoch 2:  [-0.20000002  0.20000002] 0.0\n",
            "epoch 3:  [ 0.19999999 -0.19999999] 0.0\n",
            "epoch 4:  [ 0.19999999 -0.19999999] 0.0\n"
          ]
        }
      ]
    },
    {
      "cell_type": "markdown",
      "metadata": {
        "id": "0YzneyrJa8lV"
      },
      "source": [
        "## PyTorch로 구현한 perceptron"
      ]
    },
    {
      "cell_type": "code",
      "metadata": {
        "id": "c9O5MzfLWwWp",
        "colab": {
          "base_uri": "https://localhost:8080/"
        },
        "outputId": "6f73e47d-a1c7-4f69-8c39-07245cc0880c"
      },
      "source": [
        "import torch\n",
        "x_train = torch.FloatTensor([[1, -1], [-1, 1]])\n",
        "#x_train = torch.FloatTensor([[1, -1], [-0.9, 0.9]])\n",
        "\n",
        "y_train = torch.FloatTensor([1, -1])\n",
        "\n",
        "# weights 초기값\n",
        "W = torch.FloatTensor([-1, 1])\n",
        "b = 0\n",
        "\n",
        "# learning rate\n",
        "lr = 0.1\n",
        "\n",
        "epochs = 4\n",
        "\n",
        "print('batch_size: 1')\n",
        "for epoch in range(epochs):\n",
        "    for batch in range(2):\n",
        "        # batch에서 한개씩 데이터를 꺼내옴\n",
        "        x = x_train[batch]\n",
        "        y = y_train[batch]\n",
        "\n",
        "        # 추론 값을 hypothesis라고도 부름\n",
        "        hypothesis = torch.sign(torch.matmul(W,x) + b)\n",
        "\n",
        "        # 손실 함수(참고용)\n",
        "        cost = ((hypothesis - y) ** 2)/2\n",
        "\n",
        "        # gradient 계산\n",
        "        gradient_W = (hypothesis - y) * x\n",
        "        gradient_b = (hypothesis - y)\n",
        "\n",
        "        # weights의 갱신\n",
        "        W -= lr * gradient_W\n",
        "        b -= lr * gradient_b\n",
        "\n",
        "    print('epoch %i: '%(epoch+1), W.numpy(), b.numpy())\n",
        "\n",
        "# weights 초기값\n",
        "W = torch.FloatTensor([-1, 1])\n",
        "b = 0\n",
        "\n",
        "print('batch_size: 2')\n",
        "for epoch in range(epochs):\n",
        "    # 추론 값을 hypothesis라고도 부름\n",
        "    hypothesis = torch.sign(torch.matmul(W, torch.transpose(x_train, 0, 1)) + b)\n",
        "    #hypothesis = torch.matmul(W, torch.transpose(x_train, 0, 1)) + b\n",
        "\n",
        "    # 손실 함수(참고용)\n",
        "    cost = torch.sum(((hypothesis - y_train) ** 2)/2)\n",
        "\n",
        "    # gradient 계산\n",
        "    gradient_W = torch.matmul(hypothesis - y_train, torch.transpose(x_train, 0, 1))\n",
        "    gradient_b = torch.sum(hypothesis - y_train)\n",
        "\n",
        "    # weights의 갱신\n",
        "    W -= lr * gradient_W\n",
        "    b -= lr * gradient_b\n",
        "    print('epoch %i: '%(epoch+1), W.numpy(), b.numpy())"
      ],
      "execution_count": 3,
      "outputs": [
        {
          "output_type": "stream",
          "name": "stdout",
          "text": [
            "batch_size: 1\n",
            "epoch 1:  [-0.6  0.6] 0.0\n",
            "epoch 2:  [-0.20000003  0.20000003] 0.0\n",
            "epoch 3:  [ 0.19999997 -0.19999997] 0.0\n",
            "epoch 4:  [ 0.19999997 -0.19999997] 0.0\n",
            "batch_size: 2\n",
            "epoch 1:  [-0.6  0.6] 0.0\n",
            "epoch 2:  [-0.20000002  0.20000002] 0.0\n",
            "epoch 3:  [ 0.19999999 -0.19999999] 0.0\n",
            "epoch 4:  [ 0.19999999 -0.19999999] 0.0\n"
          ]
        }
      ]
    },
    {
      "cell_type": "markdown",
      "metadata": {
        "id": "S-myDekCwDyt"
      },
      "source": [
        "sign 활성함수를 사용하지 않았을 경우"
      ]
    },
    {
      "cell_type": "code",
      "metadata": {
        "id": "T41jJB2XtQ16",
        "colab": {
          "base_uri": "https://localhost:8080/"
        },
        "outputId": "5989a007-b69e-418c-ca06-4130dc18eb8e"
      },
      "source": [
        "# weights 초기값\n",
        "W = torch.FloatTensor([-1, 1])\n",
        "b = 0\n",
        "\n",
        "epochs = 20\n",
        "print('batch_size: 2')\n",
        "for epoch in range(epochs):\n",
        "    # 추론 값을 hypothesis라고도 부름\n",
        "    #hypothesis = torch.sign(torch.matmul(W, torch.transpose(x_train, 0, 1)) + b)\n",
        "    hypothesis = torch.matmul(W, torch.transpose(x_train, 0, 1)) + b\n",
        "\n",
        "    # 손실 함수(참고용)\n",
        "    cost = torch.sum(((hypothesis - y_train) ** 2)/2)\n",
        "\n",
        "    # gradient 계산\n",
        "    gradient_W = torch.matmul(hypothesis - y_train, torch.transpose(x_train, 0, 1))\n",
        "    gradient_b = torch.sum(hypothesis - y_train)\n",
        "\n",
        "    # weights의 갱신\n",
        "    W -= lr * gradient_W\n",
        "    b -= lr * gradient_b\n",
        "    print('epoch %i: '%(epoch+1), W.numpy(), b.numpy())"
      ],
      "execution_count": 4,
      "outputs": [
        {
          "output_type": "stream",
          "name": "stdout",
          "text": [
            "batch_size: 2\n",
            "epoch 1:  [-0.39999998  0.39999998] 0.0\n",
            "epoch 2:  [-0.03999999  0.03999999] 0.0\n",
            "epoch 3:  [ 0.176 -0.176] 0.0\n",
            "epoch 4:  [ 0.3056 -0.3056] 0.0\n",
            "epoch 5:  [ 0.38336 -0.38336] 0.0\n",
            "epoch 6:  [ 0.430016 -0.430016] 0.0\n",
            "epoch 7:  [ 0.4580096 -0.4580096] 0.0\n",
            "epoch 8:  [ 0.47480577 -0.47480577] 0.0\n",
            "epoch 9:  [ 0.48488346 -0.48488346] 0.0\n",
            "epoch 10:  [ 0.49093008 -0.49093008] 0.0\n",
            "epoch 11:  [ 0.49455804 -0.49455804] 0.0\n",
            "epoch 12:  [ 0.49673483 -0.49673483] 0.0\n",
            "epoch 13:  [ 0.49804088 -0.49804088] 0.0\n",
            "epoch 14:  [ 0.49882454 -0.49882454] 0.0\n",
            "epoch 15:  [ 0.49929473 -0.49929473] 0.0\n",
            "epoch 16:  [ 0.49957684 -0.49957684] 0.0\n",
            "epoch 17:  [ 0.4997461 -0.4997461] 0.0\n",
            "epoch 18:  [ 0.49984768 -0.49984768] 0.0\n",
            "epoch 19:  [ 0.4999086 -0.4999086] 0.0\n",
            "epoch 20:  [ 0.49994516 -0.49994516] 0.0\n"
          ]
        }
      ]
    },
    {
      "cell_type": "code",
      "metadata": {
        "id": "T8vqFm9wwKo_"
      },
      "source": [
        ""
      ],
      "execution_count": 4,
      "outputs": []
    }
  ]
}