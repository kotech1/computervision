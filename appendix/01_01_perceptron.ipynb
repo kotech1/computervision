{
  "nbformat": 4,
  "nbformat_minor": 0,
  "metadata": {
    "colab": {
      "name": "01-01-perceptron.ipynb",
      "provenance": [],
      "authorship_tag": "ABX9TyMsana7WKk7F963OdR9doh2",
      "include_colab_link": true
    },
    "kernelspec": {
      "name": "python3",
      "display_name": "Python 3"
    },
    "language_info": {
      "name": "python"
    }
  },
  "cells": [
    {
      "cell_type": "markdown",
      "metadata": {
        "id": "view-in-github",
        "colab_type": "text"
      },
      "source": [
        "<a href=\"https://colab.research.google.com/github/kotech1/computervision/blob/master/appendix/01_01_perceptron.ipynb\" target=\"_parent\"><img src=\"https://colab.research.google.com/assets/colab-badge.svg\" alt=\"Open In Colab\"/></a>"
      ]
    },
    {
      "cell_type": "markdown",
      "metadata": {
        "id": "3P0HPV4rbEct"
      },
      "source": [
        "# numpy tensor로 구현한 perceptron"
      ]
    },
    {
      "cell_type": "code",
      "metadata": {
        "id": "xMEEWmO4bTBt",
        "outputId": "24488951-2c1d-472a-82fb-ef6ff9ee72fd",
        "colab": {
          "base_uri": "https://localhost:8080/"
        }
      },
      "source": [
        "import numpy as np\n",
        "\n",
        "x_train = np.array([[1, -1], [-1, 1]], dtype='float32')\n",
        "#x_train = np.array([[1, -1], [-0.9, 0.9]], dtype='float32')\n",
        "y_train = np.array([1, -1], dtype='float32')\n",
        "\n",
        "# weights 초기값\n",
        "W = np.array([-1, 1], dtype='float32')\n",
        "b = np.array(0, dtype='float32')\n",
        "\n",
        "# learning rate\n",
        "lr = 0.1\n",
        "\n",
        "epochs = 4\n",
        "\n",
        "print('batch_size: 1')\n",
        "for epoch in range(epochs):\n",
        "    for batch in range(2):\n",
        "        # batch에서 한개씩 데이터를 꺼내옴\n",
        "        x = x_train[batch]\n",
        "        y = y_train[batch]\n",
        "\n",
        "        # 추론 값을 hypothesis라고도 부름\n",
        "        hypothesis = np.sign(np.matmul(W, x) + b)\n",
        "\n",
        "        # 손실 함수(참고용)\n",
        "        cost = ((hypothesis - y) ** 2)/2\n",
        "\n",
        "        # gradient 계산\n",
        "        gradient_W = (hypothesis - y) * x\n",
        "        gradient_b = (hypothesis - y)\n",
        "\n",
        "        # weights의 갱신\n",
        "        W -= lr * gradient_W\n",
        "        b -= lr * gradient_b\n",
        "\n",
        "    print('epoch %i: '%epoch, W, b)\n",
        "\n",
        "\n",
        "# weights 초기값\n",
        "W = np.array([-1, 1], dtype='float32')\n",
        "b = np.array(0, dtype='float32')\n",
        "\n",
        "print('batch_size: 2')\n",
        "for epoch in range(epochs):\n",
        "    # 추론 값을 hypothesis라고도 부름\n",
        "    hypothesis = np.sign(np.matmul(W, x_train.transpose()) + b)\n",
        "    #print(torch.matmul(W, torch.transpose(x_train, 0, 1)) + b)\n",
        "\n",
        "    # 손실 함수(참고용)\n",
        "    cost = np.sum(((hypothesis - y_train) ** 2)/2)\n",
        "\n",
        "    # gradient 계산\n",
        "    gradient_W = np.matmul(hypothesis - y_train, x_train.transpose())\n",
        "    gradient_b = np.sum(hypothesis - y_train)\n",
        "\n",
        "    # weights의 갱신\n",
        "    W -= lr * gradient_W\n",
        "    b -= lr * gradient_b\n",
        "    print('epoch %i: '%epoch, W, b)\n"
      ],
      "execution_count": 1,
      "outputs": [
        {
          "output_type": "stream",
          "name": "stdout",
          "text": [
            "batch_size: 1\n",
            "epoch 0:  [-0.6  0.6] 2.9802323e-09\n",
            "epoch 1:  [-0.20000003  0.20000003] 2.9802323e-09\n",
            "epoch 2:  [ 0.19999997 -0.19999997] 2.9802323e-09\n",
            "epoch 3:  [ 0.19999997 -0.19999997] 2.9802323e-09\n",
            "batch_size: 2\n",
            "epoch 0:  [-0.6  0.6] 0.0\n",
            "epoch 1:  [-0.20000002  0.20000002] 0.0\n",
            "epoch 2:  [ 0.19999999 -0.19999999] 0.0\n",
            "epoch 3:  [ 0.19999999 -0.19999999] 0.0\n"
          ]
        }
      ]
    },
    {
      "cell_type": "markdown",
      "metadata": {
        "id": "Ejb7171aeH3E"
      },
      "source": [
        "#keras tensor로 구현한 perceptron\n"
      ]
    },
    {
      "cell_type": "code",
      "metadata": {
        "id": "NGiy5rGCeMgu",
        "outputId": "d990705a-ec00-431b-e5d7-74757ec89cd9",
        "colab": {
          "base_uri": "https://localhost:8080/"
        }
      },
      "source": [
        "import numpy as np\n",
        "import tensorflow as tf\n",
        "import tensorflow.keras.backend as K\n",
        "\n",
        "x_train = tf.convert_to_tensor(np.array([[1, -1], [-1, 1]], dtype='float32'))\n",
        "#x_train = tf.convert_to_tensor(np.array([[1, -1], [-0.9, 0.9]], dtype='float32'))\n",
        "y_train = tf.convert_to_tensor(np.array([1, -1], dtype='float32'))\n",
        "\n",
        "# weights 초기값\n",
        "W = tf.convert_to_tensor(np.array([-1, 1], dtype='float32'))\n",
        "b = tf.convert_to_tensor(np.array(0, dtype='float32'))\n",
        "\n",
        "# learning rate\n",
        "lr = 0.1\n",
        "\n",
        "epochs = 4\n",
        "\n",
        "print('batch_size: 1')\n",
        "for epoch in range(epochs):\n",
        "    for batch in range(2):\n",
        "        # batch에서 한개씩 데이터를 꺼내옴\n",
        "        x = x_train[batch]\n",
        "        y = y_train[batch]\n",
        "\n",
        "        # 추론 값을 hypothesis라고도 부름\n",
        "        hypothesis = tf.sign(tf.tensordot(W, x, axes=1) + b)\n",
        "\n",
        "        # 손실 함수(참고용)\n",
        "        cost = ((hypothesis - y) ** 2)/2\n",
        "\n",
        "        # gradient 계산\n",
        "        gradient_W = (hypothesis - y) * x\n",
        "        gradient_b = (hypothesis - y)\n",
        "\n",
        "        # weights의 갱신\n",
        "        W -= lr * gradient_W\n",
        "        b -= lr * gradient_b\n",
        "\n",
        "    print('epoch %i: '%epoch, W.numpy(), b.numpy())\n",
        "\n",
        "\n",
        "# weights 초기값\n",
        "W = tf.convert_to_tensor(np.array([-1, 1], dtype='float32'))\n",
        "b = tf.convert_to_tensor(np.array(0, dtype='float32'))\n",
        "\n",
        "print('batch_size: 2')\n",
        "for epoch in range(epochs):\n",
        "    # 추론 값을 hypothesis라고도 부름\n",
        "    hypothesis = tf.sign(tf.tensordot(W, tf.transpose(x_train), axes=1) + b)\n",
        "    #hypothesis = tf.tensordot(W, tf.transpose(x_train), axes=1) + b\n",
        "    \n",
        "    # 손실 함수(참고용)\n",
        "    cost = tf.reduce_sum(((hypothesis - y_train) ** 2)/2)\n",
        "\n",
        "    # gradient 계산\n",
        "    gradient_W = tf.tensordot(hypothesis - y_train, tf.transpose(x_train), axes=1)\n",
        "    gradient_b = tf.reduce_sum(hypothesis - y_train)\n",
        "\n",
        "    # weights의 갱신\n",
        "    W -= lr * gradient_W\n",
        "    b -= lr * gradient_b\n",
        "    print('epoch %i: '%epoch, W.numpy(), b.numpy())"
      ],
      "execution_count": 2,
      "outputs": [
        {
          "output_type": "stream",
          "name": "stdout",
          "text": [
            "batch_size: 1\n",
            "epoch 0:  [-0.6  0.6] 0.0\n",
            "epoch 1:  [-0.20000003  0.20000003] 0.0\n",
            "epoch 2:  [ 0.19999997 -0.19999997] 0.0\n",
            "epoch 3:  [ 0.19999997 -0.19999997] 0.0\n",
            "batch_size: 2\n",
            "epoch 0:  [-0.6  0.6] 0.0\n",
            "epoch 1:  [-0.20000002  0.20000002] 0.0\n",
            "epoch 2:  [ 0.19999999 -0.19999999] 0.0\n",
            "epoch 3:  [ 0.19999999 -0.19999999] 0.0\n"
          ]
        }
      ]
    },
    {
      "cell_type": "markdown",
      "metadata": {
        "id": "0YzneyrJa8lV"
      },
      "source": [
        "## PyTorch로 구현한 perceptron"
      ]
    },
    {
      "cell_type": "code",
      "metadata": {
        "id": "c9O5MzfLWwWp",
        "outputId": "2af28163-cb63-4f12-a111-456ab89eadbe",
        "colab": {
          "base_uri": "https://localhost:8080/"
        }
      },
      "source": [
        "import torch\n",
        "#x_train = torch.FloatTensor([[1, -1], [-1, 1]])\n",
        "x_train = torch.FloatTensor([[1, -1], [-0.9, 0.9]])\n",
        "\n",
        "y_train = torch.FloatTensor([1, -1])\n",
        "\n",
        "# weights 초기값\n",
        "W = torch.FloatTensor([-1, 1])\n",
        "b = 0\n",
        "\n",
        "# learning rate\n",
        "lr = 0.1\n",
        "\n",
        "epochs = 4\n",
        "\n",
        "print('batch_size: 1')\n",
        "for epoch in range(epochs):\n",
        "    for batch in range(2):\n",
        "        # batch에서 한개씩 데이터를 꺼내옴\n",
        "        x = x_train[batch]\n",
        "        y = y_train[batch]\n",
        "\n",
        "        # 추론 값을 hypothesis라고도 부름\n",
        "        hypothesis = torch.sign(torch.matmul(W,x) + b)\n",
        "\n",
        "        # 손실 함수(참고용)\n",
        "        cost = ((hypothesis - y) ** 2)/2\n",
        "\n",
        "        # gradient 계산\n",
        "        gradient_W = (hypothesis - y) * x\n",
        "        gradient_b = (hypothesis - y)\n",
        "\n",
        "        # weights의 갱신\n",
        "        W -= lr * gradient_W\n",
        "        b -= lr * gradient_b\n",
        "\n",
        "    print('epoch %i: '%epoch, W.numpy(), b.numpy())\n",
        "\n",
        "# weights 초기값\n",
        "W = torch.FloatTensor([-1, 1])\n",
        "b = 0\n",
        "\n",
        "print('batch_size: 2')\n",
        "for epoch in range(epochs):\n",
        "    # 추론 값을 hypothesis라고도 부름\n",
        "    hypothesis = torch.sign(torch.matmul(W, torch.transpose(x_train, 0, 1)) + b)\n",
        "    #print(torch.matmul(W, torch.transpose(x_train, 0, 1)) + b)\n",
        "\n",
        "    # 손실 함수(참고용)\n",
        "    cost = torch.sum(((hypothesis - y_train) ** 2)/2)\n",
        "\n",
        "    # gradient 계산\n",
        "    gradient_W = torch.matmul(hypothesis - y_train, torch.transpose(x_train, 0, 1))\n",
        "    gradient_b = torch.sum(hypothesis - y_train)\n",
        "\n",
        "    # weights의 갱신\n",
        "    W -= lr * gradient_W\n",
        "    b -= lr * gradient_b\n",
        "    print('epoch %i: '%epoch, W.numpy(), b.numpy())"
      ],
      "execution_count": 3,
      "outputs": [
        {
          "output_type": "stream",
          "name": "stdout",
          "text": [
            "batch_size: 1\n",
            "epoch 0:  [-0.62  0.62] 0.0\n",
            "epoch 1:  [-0.24000002  0.24000002] 0.0\n",
            "epoch 2:  [ 0.13999997 -0.13999997] 0.0\n",
            "epoch 3:  [ 0.13999997 -0.13999997] 0.0\n",
            "batch_size: 2\n",
            "epoch 0:  [-0.6   0.64] 0.0\n",
            "epoch 1:  [-0.20000002  0.28      ] 0.0\n",
            "epoch 2:  [ 0.19999999 -0.07999998] 0.0\n",
            "epoch 3:  [ 0.19999999 -0.07999998] 0.0\n"
          ]
        }
      ]
    },
    {
      "cell_type": "code",
      "metadata": {
        "id": "e-jnRpVnqrQG"
      },
      "source": [
        ""
      ],
      "execution_count": null,
      "outputs": []
    }
  ]
}