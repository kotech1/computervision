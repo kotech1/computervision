{
  "nbformat": 4,
  "nbformat_minor": 0,
  "metadata": {
    "colab": {
      "name": "01-01-perceptron.ipynb",
      "provenance": [],
      "authorship_tag": "ABX9TyOyCwqDG+OkvPDLEhCtcyrA",
      "include_colab_link": true
    },
    "kernelspec": {
      "name": "python3",
      "display_name": "Python 3"
    },
    "language_info": {
      "name": "python"
    }
  },
  "cells": [
    {
      "cell_type": "markdown",
      "metadata": {
        "id": "view-in-github",
        "colab_type": "text"
      },
      "source": [
        "<a href=\"https://colab.research.google.com/github/kotech1/computervision/blob/master/appendix/01_01_perceptron.ipynb\" target=\"_parent\"><img src=\"https://colab.research.google.com/assets/colab-badge.svg\" alt=\"Open In Colab\"/></a>"
      ]
    },
    {
      "cell_type": "markdown",
      "metadata": {
        "id": "3P0HPV4rbEct"
      },
      "source": [
        "# numpy tensor로 구현한 perceptron"
      ]
    },
    {
      "cell_type": "code",
      "metadata": {
        "colab": {
          "base_uri": "https://localhost:8080/"
        },
        "id": "xMEEWmO4bTBt",
        "outputId": "3235c354-8499-4cb7-a263-3736bb775568"
      },
      "source": [
        "import numpy as np\n",
        "# numpy float 출력옵션 변경\n",
        "np.set_printoptions(precision=5, floatmode='fixed')\n",
        "\n",
        "# 데이터 2개의 경우\n",
        "x_train = np.array([[1,-1], [-1, 1]], dtype='float32')\n",
        "y_train = np.array([1,-1], dtype='float32')\n",
        "\n",
        "# 데이터 3개의 경우\n",
        "#x_train = np.array([[1, -1], [-0.9, 0.9], [-0.8, 0.8]], dtype='float32')\n",
        "#y_train = np.array([1,-1,-1], dtype='float32')\n",
        "\n",
        "# 데이터 1개의 경우\n",
        "#x_train = np.array([[-1, 1]], dtype='float32')\n",
        "#y_train = np.array([-1], dtype='float32')\n",
        "\n",
        "# weights 초기값\n",
        "W = np.array([-1, 1], dtype='float32')\n",
        "b = np.array(0, dtype='float32')\n",
        "\n",
        "# learning rate\n",
        "lr = 0.1\n",
        "\n",
        "epochs = 4\n",
        "\n",
        "print('batch_size: 1')\n",
        "for epoch in range(epochs):\n",
        "    for batch in range(len(x_train)):\n",
        "        # batch에서 한개씩 데이터를 꺼내옴\n",
        "        x = x_train[batch]\n",
        "        y = y_train[batch]\n",
        "\n",
        "        # 추론 값을 hypothesis라고도 부름\n",
        "        hypothesis = np.sign(np.matmul(W, x) + b)\n",
        "\n",
        "        # 손실 함수(참고용)\n",
        "        cost = ((hypothesis - y) ** 2)/2\n",
        "\n",
        "        # gradient 계산\n",
        "        gradient_W = (hypothesis - y) * x\n",
        "        #print('hypothesis.shape() =', hypothesis.shape)\n",
        "        #print('y.shape() =', y.shape)\n",
        "        gradient_b = (hypothesis - y)\n",
        "\n",
        "        # weights의 갱신\n",
        "        W -= lr * gradient_W\n",
        "        b -= lr * gradient_b\n",
        "    print('epoch {}: W={}, b={:.05f}'.format(epoch+1, W, b))\n",
        "\n",
        "# weights 초기값\n",
        "W = np.array([-1, 1], dtype='float32')\n",
        "b = np.array(0, dtype='float32')\n",
        "\n",
        "print(\"batch_size: %d\"%(len(x_train)))\n",
        "for epoch in range(epochs):\n",
        "    # 추론 값을 hypothesis라고도 부름\n",
        "    hypothesis = np.sign(np.matmul(W, x_train.transpose()) + b)\n",
        "\n",
        "    # 손실 함수(참고용)\n",
        "    cost = np.sum(((hypothesis - y_train) ** 2)/2)\n",
        "\n",
        "    # gradient 계산\n",
        "    #print('hypothesis.shape() =', hypothesis.shape)\n",
        "    #print('y_train.shape() =', y_train.shape)\n",
        "    #print('(hypothesis - y_train) * x shape =', ((hypothesis - y_train) * x_train).shape )\n",
        "    #print(hypothesis -y_train)\n",
        "    #print(x_train)\n",
        "    #print((hypothesis - y_train) * x_train.transpose())\n",
        "    gradient_W = np.sum((hypothesis - y_train) * x_train.transpose(), axis=1)\n",
        "    #print(gradient_W)\n",
        "\n",
        "    #print('gradient_W.shape =', gradient_W.shape )\n",
        "    gradient_b = np.sum((hypothesis - y_train)) \n",
        "\n",
        "    # weights의 갱신\n",
        "    W -= lr * gradient_W\n",
        "    b -= lr * gradient_b\n",
        "    print('epoch {}: W={}, b={:.05f}'.format(epoch+1, W, b))\n"
      ],
      "execution_count": 110,
      "outputs": [
        {
          "output_type": "stream",
          "name": "stdout",
          "text": [
            "batch_size: 1\n",
            "epoch 1: W=[-0.60000  0.60000], b=0.00000\n",
            "epoch 2: W=[-0.20000  0.20000], b=0.00000\n",
            "epoch 3: W=[ 0.20000 -0.20000], b=0.00000\n",
            "epoch 4: W=[ 0.20000 -0.20000], b=0.00000\n",
            "batch_size: 2\n",
            "epoch 1: W=[-0.60000  0.60000], b=0.00000\n",
            "epoch 2: W=[-0.20000  0.20000], b=0.00000\n",
            "epoch 3: W=[ 0.20000 -0.20000], b=0.00000\n",
            "epoch 4: W=[ 0.20000 -0.20000], b=0.00000\n"
          ]
        }
      ]
    },
    {
      "cell_type": "markdown",
      "metadata": {
        "id": "Ejb7171aeH3E"
      },
      "source": [
        "#keras tensor로 구현한 perceptron\n"
      ]
    },
    {
      "cell_type": "code",
      "metadata": {
        "colab": {
          "base_uri": "https://localhost:8080/"
        },
        "id": "NGiy5rGCeMgu",
        "outputId": "0ac1c3a3-1deb-420c-8290-8450ec883986"
      },
      "source": [
        "import numpy as np\n",
        "import tensorflow as tf\n",
        "#import tensorflow.keras.backend as K\n",
        "\n",
        "x_train = tf.convert_to_tensor(np.array([[1, -1], [-1, 1]], dtype='float32'))\n",
        "y_train = tf.convert_to_tensor(np.array([1, -1], dtype='float32'))\n",
        "\n",
        "# 데이터 3개의 경우\n",
        "#x_train = tf.convert_to_tensor(np.array([[1, -1], [-0.9, 0.9], [-0.8, 0.8]], dtype='float32'))\n",
        "#y_train = tf.convert_to_tensor(np.array([1, -1, -1], dtype='float32'))\n",
        "\n",
        "# weights 초기값\n",
        "W = tf.convert_to_tensor(np.array([-1, 1], dtype='float32'))\n",
        "b = tf.convert_to_tensor(np.array(0, dtype='float32'))\n",
        "\n",
        "# learning rate\n",
        "lr = 0.1\n",
        "\n",
        "epochs = 4\n",
        "\n",
        "print('batch_size: 1')\n",
        "for epoch in range(epochs):\n",
        "    for batch in range(len(x_train)):\n",
        "        # batch에서 한개씩 데이터를 꺼내옴\n",
        "        x = x_train[batch]\n",
        "        y = y_train[batch]\n",
        "\n",
        "        # 추론 값을 hypothesis라고도 부름\n",
        "        hypothesis = tf.sign(tf.tensordot(W, x, axes=1) + b)\n",
        "\n",
        "        # 손실 함수(참고용)\n",
        "        cost = ((hypothesis - y) ** 2)/2\n",
        "\n",
        "        # gradient 계산\n",
        "        gradient_W = (hypothesis - y) * x\n",
        "        gradient_b = (hypothesis - y)\n",
        "\n",
        "        # weights의 갱신\n",
        "        W -= lr * gradient_W\n",
        "        b -= lr * gradient_b\n",
        "\n",
        "    print('epoch {}: W={}, b={:.05f}'.format(epoch+1, W.numpy(), b.numpy()))\n",
        "\n",
        "\n",
        "# weights 초기값\n",
        "W = tf.convert_to_tensor(np.array([-1, 1], dtype='float32'))\n",
        "b = tf.convert_to_tensor(np.array(0, dtype='float32'))\n",
        "\n",
        "print(\"batch_size: %d\"%(len(x_train)))\n",
        "for epoch in range(epochs):\n",
        "    # 추론 값을 hypothesis라고도 부름\n",
        "    hypothesis = tf.sign(tf.tensordot(W, tf.transpose(x_train), axes=1) + b)\n",
        "    #hypothesis = tf.tensordot(W, tf.transpose(x_train), axes=1) + b\n",
        "    \n",
        "    # 손실 함수(참고용)\n",
        "    cost = tf.reduce_sum(((hypothesis - y_train) ** 2)/2)\n",
        "\n",
        "    # gradient 계산\n",
        "    gradient_W = tf.reduce_sum((hypothesis - y_train)*tf.transpose(x_train), axis=1)\n",
        "    gradient_b = tf.reduce_sum(hypothesis - y_train)\n",
        "\n",
        "    # weights의 갱신\n",
        "    W -= lr * gradient_W\n",
        "    b -= lr * gradient_b\n",
        "    print('epoch {}: W={}, b={:.05f}'.format(epoch+1, W.numpy(), b.numpy()))"
      ],
      "execution_count": 111,
      "outputs": [
        {
          "output_type": "stream",
          "name": "stdout",
          "text": [
            "batch_size: 1\n",
            "epoch 1: W=[-0.60000  0.60000], b=0.00000\n",
            "epoch 2: W=[-0.20000  0.20000], b=0.00000\n",
            "epoch 3: W=[ 0.20000 -0.20000], b=0.00000\n",
            "epoch 4: W=[ 0.20000 -0.20000], b=0.00000\n",
            "batch_size: 2\n",
            "epoch 1: W=[-0.60000  0.60000], b=0.00000\n",
            "epoch 2: W=[-0.20000  0.20000], b=0.00000\n",
            "epoch 3: W=[ 0.20000 -0.20000], b=0.00000\n",
            "epoch 4: W=[ 0.20000 -0.20000], b=0.00000\n"
          ]
        }
      ]
    },
    {
      "cell_type": "markdown",
      "metadata": {
        "id": "0YzneyrJa8lV"
      },
      "source": [
        "## PyTorch로 구현한 perceptron"
      ]
    },
    {
      "cell_type": "code",
      "metadata": {
        "id": "c9O5MzfLWwWp",
        "colab": {
          "base_uri": "https://localhost:8080/"
        },
        "outputId": "84107342-cc38-4ce9-c412-38517d4711e7"
      },
      "source": [
        "import torch\n",
        "x_train = torch.FloatTensor([[1, -1], [-1, 1]])\n",
        "y_train = torch.FloatTensor([1, -1])\n",
        "\n",
        "# 데이터 3개의 경우\n",
        "#x_train = torch.FloatTensor([[1, -1], [-0.9, 0.9], [-0.8, 0.8]])\n",
        "#y_train = torch.FloatTensor([1, -1, -1])\n",
        "\n",
        "# weights 초기값\n",
        "W = torch.FloatTensor([-1, 1])\n",
        "b = 0\n",
        "\n",
        "# learning rate\n",
        "lr = 0.1\n",
        "\n",
        "epochs = 4\n",
        "\n",
        "print('batch_size: 1')\n",
        "for epoch in range(epochs):\n",
        "    for batch in range(len(x_train)):\n",
        "        # batch에서 한개씩 데이터를 꺼내옴\n",
        "        x = x_train[batch]\n",
        "        y = y_train[batch]\n",
        "\n",
        "        # 추론 값을 hypothesis라고도 부름\n",
        "        hypothesis = torch.sign(torch.matmul(W,x) + b)\n",
        "\n",
        "        # 손실 함수(참고용)\n",
        "        cost = ((hypothesis - y) ** 2)/2\n",
        "\n",
        "        # gradient 계산\n",
        "        gradient_W = (hypothesis - y) * x\n",
        "        gradient_b = (hypothesis - y)\n",
        "\n",
        "        # weights의 갱신\n",
        "        W -= lr * gradient_W\n",
        "        b -= lr * gradient_b\n",
        "\n",
        "    print('epoch {}: W={}, b={:.05f}'.format(epoch+1, W.numpy(), b.numpy()))\n",
        "\n",
        "# weights 초기값\n",
        "W = torch.FloatTensor([-1, 1])\n",
        "b = 0\n",
        "\n",
        "print(\"batch_size: %d\"%(len(x_train)))\n",
        "for epoch in range(epochs):\n",
        "    # 추론 값을 hypothesis라고도 부름\n",
        "    hypothesis = torch.sign(torch.matmul(W, torch.transpose(x_train, 0, 1)) + b)\n",
        "    #hypothesis = torch.matmul(W, torch.transpose(x_train, 0, 1)) + b\n",
        "\n",
        "    # 손실 함수(참고용)\n",
        "    cost = torch.sum(((hypothesis - y_train) ** 2)/2)\n",
        "\n",
        "    # gradient 계산\n",
        "    gradient_W = torch.sum((hypothesis - y_train)*torch.transpose(x_train, 0, 1), axis=1)\n",
        "    gradient_b = torch.sum(hypothesis - y_train)\n",
        "\n",
        "    # weights의 갱신\n",
        "    W -= lr * gradient_W\n",
        "    b -= lr * gradient_b\n",
        "    print('epoch {}: W={}, b={:.05f}'.format(epoch+1, W.numpy(), b.numpy()))"
      ],
      "execution_count": 112,
      "outputs": [
        {
          "output_type": "stream",
          "name": "stdout",
          "text": [
            "batch_size: 1\n",
            "epoch 1: W=[-0.60000  0.60000], b=0.00000\n",
            "epoch 2: W=[-0.20000  0.20000], b=0.00000\n",
            "epoch 3: W=[ 0.20000 -0.20000], b=0.00000\n",
            "epoch 4: W=[ 0.20000 -0.20000], b=0.00000\n",
            "batch_size: 2\n",
            "epoch 1: W=[-0.60000  0.60000], b=0.00000\n",
            "epoch 2: W=[-0.20000  0.20000], b=0.00000\n",
            "epoch 3: W=[ 0.20000 -0.20000], b=0.00000\n",
            "epoch 4: W=[ 0.20000 -0.20000], b=0.00000\n"
          ]
        }
      ]
    },
    {
      "cell_type": "markdown",
      "metadata": {
        "id": "S-myDekCwDyt"
      },
      "source": [
        "sign 활성함수를 사용하지 않았을 경우"
      ]
    },
    {
      "cell_type": "code",
      "metadata": {
        "id": "T41jJB2XtQ16",
        "colab": {
          "base_uri": "https://localhost:8080/"
        },
        "outputId": "59a5d463-9689-44c1-c41f-275b11ee9031"
      },
      "source": [
        "# weights 초기값\n",
        "W = torch.FloatTensor([-1, 1])\n",
        "b = 0\n",
        "\n",
        "epochs = 20\n",
        "print('batch_size: \b%i'%len(x_train))\n",
        "for epoch in range(epochs):\n",
        "    # 추론 값을 hypothesis라고도 부름\n",
        "    #hypothesis = torch.sign(torch.matmul(W, torch.transpose(x_train, 0, 1)) + b)\n",
        "    hypothesis = torch.matmul(W, torch.transpose(x_train, 0, 1)) + b\n",
        "\n",
        "    # 손실 함수(참고용)\n",
        "    cost = torch.sum(((hypothesis - y_train) ** 2)/2)\n",
        "\n",
        "    # gradient 계산\n",
        "    gradient_W = torch.sum((hypothesis - y_train)*torch.transpose(x_train, 0, 1), axis=1)\n",
        "    gradient_b = torch.sum(hypothesis - y_train)\n",
        "\n",
        "    # weights의 갱신\n",
        "    W -= lr * gradient_W\n",
        "    b -= lr * gradient_b\n",
        "    print('epoch {}: W={}, b={:.05f}'.format(epoch+1, W.numpy(), b.numpy()))"
      ],
      "execution_count": 113,
      "outputs": [
        {
          "output_type": "stream",
          "name": "stdout",
          "text": [
            "batch_size: \b2\n",
            "epoch 1: W=[-0.40000  0.40000], b=0.00000\n",
            "epoch 2: W=[-0.04000  0.04000], b=0.00000\n",
            "epoch 3: W=[ 0.17600 -0.17600], b=0.00000\n",
            "epoch 4: W=[ 0.30560 -0.30560], b=0.00000\n",
            "epoch 5: W=[ 0.38336 -0.38336], b=0.00000\n",
            "epoch 6: W=[ 0.43002 -0.43002], b=0.00000\n",
            "epoch 7: W=[ 0.45801 -0.45801], b=0.00000\n",
            "epoch 8: W=[ 0.47481 -0.47481], b=0.00000\n",
            "epoch 9: W=[ 0.48488 -0.48488], b=0.00000\n",
            "epoch 10: W=[ 0.49093 -0.49093], b=0.00000\n",
            "epoch 11: W=[ 0.49456 -0.49456], b=0.00000\n",
            "epoch 12: W=[ 0.49673 -0.49673], b=0.00000\n",
            "epoch 13: W=[ 0.49804 -0.49804], b=0.00000\n",
            "epoch 14: W=[ 0.49882 -0.49882], b=0.00000\n",
            "epoch 15: W=[ 0.49929 -0.49929], b=0.00000\n",
            "epoch 16: W=[ 0.49958 -0.49958], b=0.00000\n",
            "epoch 17: W=[ 0.49975 -0.49975], b=0.00000\n",
            "epoch 18: W=[ 0.49985 -0.49985], b=0.00000\n",
            "epoch 19: W=[ 0.49991 -0.49991], b=0.00000\n",
            "epoch 20: W=[ 0.49995 -0.49995], b=0.00000\n"
          ]
        }
      ]
    },
    {
      "cell_type": "code",
      "source": [],
      "metadata": {
        "id": "UyHuCG46AG6c"
      },
      "execution_count": null,
      "outputs": []
    }
  ]
}