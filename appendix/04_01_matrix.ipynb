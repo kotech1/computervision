{
  "nbformat": 4,
  "nbformat_minor": 0,
  "metadata": {
    "colab": {
      "name": "04_01_matrix.ipynb",
      "provenance": [],
      "authorship_tag": "ABX9TyMYeNLSy80K3LdIFbSWuZLX",
      "include_colab_link": true
    },
    "kernelspec": {
      "name": "python3",
      "display_name": "Python 3"
    },
    "language_info": {
      "name": "python"
    }
  },
  "cells": [
    {
      "cell_type": "markdown",
      "metadata": {
        "id": "view-in-github",
        "colab_type": "text"
      },
      "source": [
        "<a href=\"https://colab.research.google.com/github/kotech1/computervision/blob/master/appendix/04_01_matrix.ipynb\" target=\"_parent\"><img src=\"https://colab.research.google.com/assets/colab-badge.svg\" alt=\"Open In Colab\"/></a>"
      ]
    },
    {
      "cell_type": "code",
      "metadata": {
        "id": "lPd3EDNxwUan"
      },
      "source": [
        ""
      ],
      "execution_count": null,
      "outputs": []
    },
    {
      "cell_type": "markdown",
      "metadata": {
        "id": "ICgmQQrYwzoA"
      },
      "source": [
        "**많은 데이터를 한번에 처리하기**  \n",
        "\n",
        "이번에는 x의 데이터가 한개가 아니고 여러개(3개)라고 합시다.\n",
        "\n",
        "$$\n",
        "w=\n",
        "\\begin{bmatrix}\n",
        "1 & 2 \\\\ \n",
        "3 & 4  \n",
        "\\end{bmatrix},\\ \n",
        "x = \\left[\n",
        "\\begin{bmatrix} 5 \\\\ 6   \\end{bmatrix}\n",
        "\\begin{bmatrix} 7 \\\\ 8   \\end{bmatrix}\n",
        "\\begin{bmatrix} 9 \\\\ 0   \\end{bmatrix}\n",
        "\\right]\n",
        "$$\n",
        "\n",
        "위의 $x$식은 **수식**입니다. 그리고 대괄호를 두 번 사용한 것은 개념상으로 나누기 위한 것입니다.  \n",
        "\n",
        "좀 더 알기 쉽게 표현한다면 $x$는 다음과 같은 행렬로 정의됩니다.  \n",
        "$$\n",
        "x = \\begin{bmatrix}\n",
        "5 & 7 & 9\\\\ \n",
        "6 & 8 & 0 \n",
        "\\end{bmatrix} \n",
        "= \n",
        "\\left[\n",
        "\\begin{array}{ccc}\n",
        "  \\require{color}\n",
        "  \\colorbox{yellow}{$\\begin{array}{c}\n",
        "    5 \\\\\n",
        "    6 \n",
        "  \\end{array}$} &\n",
        "  \\colorbox{yellow}{$\\begin{array}{c}\n",
        "    7 \\\\\n",
        "    8 \n",
        "  \\end{array}$} &\n",
        "  \\colorbox{yellow}{$\\begin{array}{c}\n",
        "    9 \\\\\n",
        "    0 \n",
        "  \\end{array}$}\n",
        "\\end{array}\n",
        "\\right] \n",
        "$$\n",
        "왜냐하면 $(m,n)\\cdot(n,l) = (m,l)$이 되어야 하기 때문입니다. \n",
        "\n",
        "이제 저 수식을 프로그램으로 어떻게 구현하는 지는 프로그래머의 데이터 타입의 정의에 따른다고 하겠습니다.  \n",
        "\n",
        "x를 matrix의 모양과 일치하도록 이렇게 구현할 수도 있습니다.\n",
        "\n",
        "```python\n",
        "x = np.array([\n",
        "  [5, 7, 9],\n",
        "  [6, 8, 0]\n",
        "], dtype='float32')\n",
        "```\n",
        "이럴 경우 $w$와 $x$의 행렬곱은 \n",
        "```python\n",
        "y = np.dot(w, x)\n",
        "```\n",
        "가 될 것입니다. \n",
        "\n",
        "혹은 과제에서 제시된 형식을 따라서 $x$의 데이터를 다음과 같이 구현할 수 있습니다.\n",
        "\n",
        "```python\n",
        "x = np.array([\n",
        "  [5, 6],\n",
        "  [7, 8],\n",
        "  [9, 0],\n",
        "], dtype='float32')\n",
        "```\n",
        "이럴 경우 $w$와 $x$의 행렬곱은 다음과 같을 것입니다.\n",
        "```python\n",
        "y = np.dot(w, x.T)\n",
        "```\n",
        "`x.T`를 사용하는 것이 마음에 들지 않을 경우에는 `np.tensordot()`을 이용하여 다음과 같이 구현할 수도 있습니다.\n",
        "\n",
        "```python\n",
        "y = np.tensordot(w, x, axes=[1,1])\n",
        "```\n"
      ]
    },
    {
      "cell_type": "code",
      "metadata": {
        "id": "LSr0Jaesw6F-"
      },
      "source": [
        "import numpy as np\n",
        "w = np.array(\n",
        "    [\n",
        "        [1., 2.],\n",
        "        [3., 4.]       \n",
        "    ]\n",
        ", dtype='float32')\n",
        "x = np.array([\n",
        "  [5, 6],\n",
        "  [7, 8],\n",
        "  [9, 0],\n",
        "], dtype='float32')\n",
        "y = np.tensordot(w, x, axes=[1,1])"
      ],
      "execution_count": 2,
      "outputs": []
    },
    {
      "cell_type": "code",
      "metadata": {
        "id": "JmAJ7SKc2M_x"
      },
      "source": [
        ""
      ],
      "execution_count": null,
      "outputs": []
    }
  ]
}