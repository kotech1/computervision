{
  "nbformat": 4,
  "nbformat_minor": 0,
  "metadata": {
    "colab": {
      "name": "11-gan.ipynb",
      "provenance": [],
      "authorship_tag": "ABX9TyMfkUQEqGXhWcenswrepR0N",
      "include_colab_link": true
    },
    "kernelspec": {
      "name": "python3",
      "display_name": "Python 3"
    }
  },
  "cells": [
    {
      "cell_type": "markdown",
      "metadata": {
        "id": "view-in-github",
        "colab_type": "text"
      },
      "source": [
        "<a href=\"https://colab.research.google.com/github/kotech1/computervision/blob/master/11_gan.ipynb\" target=\"_parent\"><img src=\"https://colab.research.google.com/assets/colab-badge.svg\" alt=\"Open In Colab\"/></a>"
      ]
    },
    {
      "cell_type": "code",
      "metadata": {
        "id": "f_T6Z91ZSvx1"
      },
      "source": [
        "import numpy as np\n",
        "import tensorflow as tf\n",
        "from tensorflow import keras\n",
        "from tensorflow.keras import layers\n",
        "from tensorflow.keras.layers import Conv2D, LeakyReLU, Flatten\n",
        "from tensorflow.keras.layers import Dense, Conv2DTranspose\n",
        "from tensorflow.keras.layers import Reshape, Activation\n",
        "from tensorflow.keras import backend as K\n",
        "from tensorflow.keras.callbacks import ModelCheckpoint\n",
        "\n",
        "import os\n",
        "\n",
        "#from utils.loaders import load_mnist\n",
        "#from models.AE import Autoencoder\n",
        "\n",
        "# run params\n",
        "SECTION = 'vae'\n",
        "RUN_ID = '0001'\n",
        "DATA_NAME = 'digits'\n",
        "RUN_FOLDER = 'run/{}/'.format(SECTION)\n",
        "RUN_FOLDER += '_'.join([RUN_ID, DATA_NAME])\n",
        "\n",
        "if not os.path.exists(RUN_FOLDER):\n",
        "    os.mkdir(RUN_FOLDER)\n",
        "    os.mkdir(os.path.join(RUN_FOLDER, 'viz'))\n",
        "    os.mkdir(os.path.join(RUN_FOLDER, 'images'))\n",
        "    os.mkdir(os.path.join(RUN_FOLDER, 'weights'))"
      ],
      "execution_count": null,
      "outputs": []
    },
    {
      "cell_type": "code",
      "metadata": {
        "id": "vVCBe6LFS4Rm"
      },
      "source": [
        "\n",
        "#MODE =  'build' #'load' #\n",
        "MODE =  'load'"
      ],
      "execution_count": null,
      "outputs": []
    },
    {
      "cell_type": "code",
      "metadata": {
        "id": "5luctPWES-sK"
      },
      "source": [
        "z_dim = 2\n",
        "\n",
        "encoder_input = keras.Input(shape=(28, 28, 1), name='encoder_input')\n",
        "x = Conv2D(32, 3, strides=1, padding=\"same\", name='encoder_conv_0')(encoder_input)\n",
        "x = LeakyReLU()(x)\n",
        "x = Conv2D(64, 3, strides=2, padding=\"same\", name='encoder_conv_1')(x)\n",
        "x = LeakyReLU()(x)\n",
        "x = Conv2D(64, 3, strides=2, padding=\"same\", name='encoder_conv_2')(x)\n",
        "x = LeakyReLU()(x)\n",
        "x = Conv2D(64, 3, strides=1, padding=\"same\", name='encoder_conv_3')(x)\n",
        "x = LeakyReLU()(x)\n",
        "shape_before_flattening = K.int_shape(x)[1:]\n",
        "x = Flatten()(x)\n",
        "encoder_output= Dense(z_dim, name='encoder_output')(x)\n",
        "encoder = keras.Model(encoder_input, encoder_output, name='encoder')"
      ],
      "execution_count": null,
      "outputs": []
    },
    {
      "cell_type": "code",
      "metadata": {
        "id": "xHfqAam-TY5W"
      },
      "source": [
        "decoder_input = keras.Input(shape=(z_dim,), name='decoder_input')\n",
        "x = Dense(np.prod(shape_before_flattening))(decoder_input)\n",
        "x = Reshape(shape_before_flattening)(x)\n",
        "x = layers.Conv2DTranspose(64, 3, strides=1, padding=\"same\", name='decoder_conv_t0')(x)\n",
        "x = LeakyReLU()(x)\n",
        "x = layers.Conv2DTranspose(64, 3, strides=2, padding=\"same\", name='decoder_conv_t1')(x)\n",
        "x = LeakyReLU()(x)\n",
        "x = layers.Conv2DTranspose(32, 3, strides=2, padding=\"same\", name='decoder_conv_t2')(x)\n",
        "x = LeakyReLU()(x)\n",
        "x = layers.Conv2DTranspose(1, 3, strides=1, padding=\"same\", name='decoder_conv_t3')(x)\n",
        "decoder_output = Activation('sigmoid')(x)\n",
        "decoder = keras.Model(decoder_input, decoder_output, name=\"decoder\")"
      ],
      "execution_count": null,
      "outputs": []
    },
    {
      "cell_type": "code",
      "metadata": {
        "id": "8MjsnQbZTdWo"
      },
      "source": [
        "encoder.summary()\n",
        "decoder.summary()"
      ],
      "execution_count": null,
      "outputs": []
    },
    {
      "cell_type": "code",
      "metadata": {
        "id": "C4EhkcKHTprm"
      },
      "source": [
        "class AutoEncoder(keras.Model):\n",
        "    def __init__(self, encoder, decoder, **kwargs):\n",
        "        super(AE, self).__init__(**kwargs)\n",
        "        self.encoder = encoder\n",
        "        self.decoder = decoder\n",
        "    def call(self,inputs):\n",
        "        latent = self.encoder(inputs)\n",
        "        return self.decoder(latent)\n",
        "\n",
        "@tf.function\n",
        "def r_loss(y_true, y_pred):\n",
        "    return K.mean(K.square(y_true - y_pred), axis = [1,2,3])\n",
        "\n",
        "LEARNING_RATE = 0.0005\n",
        "BATCH_SIZE = 32\n",
        "INITIAL_EPOCH = 0\n",
        "EPOCHS = 200"
      ],
      "execution_count": null,
      "outputs": []
    },
    {
      "cell_type": "code",
      "metadata": {
        "id": "9Q4p5WIJTqik"
      },
      "source": [
        "save_folder = os.path.join(RUN_FOLDER, 'weights')\n",
        "\n",
        "ae = AutoEncoder(encoder, decoder)\n",
        "ae.compile(optimizer=keras.optimizers.Adam(lr=LEARNING_RATE), loss=r_loss)\n",
        "\n",
        "if MODE == 'build':\n",
        "    x = np.random.rand(1,28,28,1)\n",
        "    ae.predict(x)\n",
        "    ae.save(save_folder)\n",
        "else:\n",
        "    ae = keras.models.load_model(save_folder, custom_objects={'r_loss': r_loss})\n",
        "    ae.load_weights(save_folder+'/'+'checkpoint')"
      ],
      "execution_count": null,
      "outputs": []
    },
    {
      "cell_type": "code",
      "metadata": {
        "id": "kc56mpUuVEVl"
      },
      "source": [
        "# mnist 데이터 읽어오기\n",
        "(x_train, _), (x_test, _) = keras.datasets.mnist.load_data()\n",
        "mnist_digits = np.concatenate([x_train, x_test], axis=0)\n",
        "mnist_digits = np.expand_dims(mnist_digits, -1).astype(\"float32\") / 255\n",
        "\n",
        "# 매 epoch마다 모델 weights 저장\n",
        "#lr_sched = step_decay_schedule(initial_lr=self.learning_rate, decay_factor=lr_decay, step_size=1)\n",
        "checkpoint = ModelCheckpoint(save_folder+'/'+'checkpoint', save_weights_only = False, verbose=1)\n",
        "\n",
        "callbacks_list = [checkpoint]\n",
        "ae.fit(mnist_digits, mnist_digits, epochs=EPOCHS, batch_size=BATCH_SIZE, callbacks=callbacks_list)\n",
        "ae.save(save_folder)"
      ],
      "execution_count": null,
      "outputs": []
    }
  ]
}