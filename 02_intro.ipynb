{
  "nbformat": 4,
  "nbformat_minor": 0,
  "metadata": {
    "colab": {
      "name": "02-intro.ipynb",
      "provenance": [],
      "authorship_tag": "ABX9TyNNbJBFv0dHWyrL2soAV/IV",
      "include_colab_link": true
    },
    "kernelspec": {
      "name": "python3",
      "display_name": "Python 3"
    }
  },
  "cells": [
    {
      "cell_type": "markdown",
      "metadata": {
        "id": "view-in-github",
        "colab_type": "text"
      },
      "source": [
        "<a href=\"https://colab.research.google.com/github/kotech1/computervision/blob/master/02_intro.ipynb\" target=\"_parent\"><img src=\"https://colab.research.google.com/assets/colab-badge.svg\" alt=\"Open In Colab\"/></a>"
      ]
    },
    {
      "cell_type": "markdown",
      "metadata": {
        "id": "IjlDibNpW0xU",
        "colab_type": "text"
      },
      "source": [
        "# 구글 코랩\n",
        "\n",
        "먼저 파이썬 버전을 확인해봅시다"
      ]
    },
    {
      "cell_type": "code",
      "metadata": {
        "id": "7UYQdPI5WvQH",
        "colab_type": "code",
        "colab": {}
      },
      "source": [
        ""
      ],
      "execution_count": null,
      "outputs": []
    }
  ]
}