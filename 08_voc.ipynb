{
  "nbformat": 4,
  "nbformat_minor": 0,
  "metadata": {
    "colab": {
      "name": "08-voc.ipynb",
      "provenance": [],
      "authorship_tag": "ABX9TyNwdKVcB9TEvthJKEPsTQsS",
      "include_colab_link": true
    },
    "kernelspec": {
      "name": "python3",
      "display_name": "Python 3"
    }
  },
  "cells": [
    {
      "cell_type": "markdown",
      "metadata": {
        "id": "view-in-github",
        "colab_type": "text"
      },
      "source": [
        "<a href=\"https://colab.research.google.com/github/kotech1/computervision/blob/master/08_voc.ipynb\" target=\"_parent\"><img src=\"https://colab.research.google.com/assets/colab-badge.svg\" alt=\"Open In Colab\"/></a>"
      ]
    },
    {
      "cell_type": "markdown",
      "metadata": {
        "id": "gzsIOj3b46g3"
      },
      "source": [
        "# Pascal VOC database"
      ]
    },
    {
      "cell_type": "code",
      "metadata": {
        "id": "I5fez86Z497b",
        "outputId": "a34834e8-3b91-4d17-815e-d7d107cf60a7",
        "colab": {
          "base_uri": "https://localhost:8080/"
        }
      },
      "source": [
        "# Pascal VOC 2012 trainval official\n",
        "#!wget http://host.robots.ox.ac.uk/pascal/VOC/voc2012/VOCtrainval_11-May-2012.tar\n",
        "\n",
        "\n",
        "# Pascal VOC 2012 trainval mirror from Joseph Redmon's site\n",
        "#!wget http://pjreddie.com/media/files/VOCtrainval_11-May-2012.tar\n",
        "\n"
      ],
      "execution_count": 2,
      "outputs": [
        {
          "output_type": "stream",
          "text": [
            "--2020-11-05 09:32:37--  http://host.robots.ox.ac.uk/pascal/VOC/voc2012/VOCtrainval_11-May-2012.tar\n",
            "Resolving host.robots.ox.ac.uk (host.robots.ox.ac.uk)... 129.67.94.152\n",
            "Connecting to host.robots.ox.ac.uk (host.robots.ox.ac.uk)|129.67.94.152|:80... connected.\n",
            "HTTP request sent, awaiting response... 200 OK\n",
            "Length: 1999639040 (1.9G) [application/x-tar]\n",
            "Saving to: ‘VOCtrainval_11-May-2012.tar.1’\n",
            "\n",
            "012.tar.1             2%[                    ]  41.41M  7.25MB/s    eta 5m 2s  ^C\n",
            "--2020-11-05 09:32:44--  http://pjreddie.com/media/files/VOCtrainval_11-May-2012.tar\n",
            "Resolving pjreddie.com (pjreddie.com)... 128.208.4.108\n",
            "Connecting to pjreddie.com (pjreddie.com)|128.208.4.108|:80... connected.\n",
            "HTTP request sent, awaiting response... 301 Moved Permanently\n",
            "Location: https://pjreddie.com/media/files/VOCtrainval_11-May-2012.tar [following]\n",
            "--2020-11-05 09:32:45--  https://pjreddie.com/media/files/VOCtrainval_11-May-2012.tar\n",
            "Connecting to pjreddie.com (pjreddie.com)|128.208.4.108|:443... connected.\n",
            "HTTP request sent, awaiting response... 200 OK\n",
            "Length: 1999639040 (1.9G) [application/octet-stream]\n",
            "Saving to: ‘VOCtrainval_11-May-2012.tar.2’\n",
            "\n",
            "val_11-May-2012.tar   0%[                    ] 999.70K   264KB/s    eta 1h 58m ^C\n"
          ],
          "name": "stdout"
        }
      ]
    },
    {
      "cell_type": "code",
      "metadata": {
        "id": "n0latpnwviXs"
      },
      "source": [
        ""
      ],
      "execution_count": null,
      "outputs": []
    }
  ]
}