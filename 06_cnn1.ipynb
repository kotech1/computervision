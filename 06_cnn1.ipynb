{
  "nbformat": 4,
  "nbformat_minor": 0,
  "metadata": {
    "colab": {
      "name": "06-cnn1.ipynb",
      "provenance": [],
      "authorship_tag": "ABX9TyNnxmZ7G/I0RDB4Uck8jev/",
      "include_colab_link": true
    },
    "kernelspec": {
      "name": "python3",
      "display_name": "Python 3"
    }
  },
  "cells": [
    {
      "cell_type": "markdown",
      "metadata": {
        "id": "view-in-github",
        "colab_type": "text"
      },
      "source": [
        "<a href=\"https://colab.research.google.com/github/kotech1/computervision/blob/master/06_cnn1.ipynb\" target=\"_parent\"><img src=\"https://colab.research.google.com/assets/colab-badge.svg\" alt=\"Open In Colab\"/></a>"
      ]
    },
    {
      "cell_type": "markdown",
      "metadata": {
        "id": "OO7qMMeI4hNS"
      },
      "source": [
        "# 공개 이미지 라이브러리\n",
        "\n",
        "**CIFAR-10**"
      ]
    },
    {
      "cell_type": "code",
      "metadata": {
        "id": "Vcz3CEnO3jIA",
        "outputId": "3b6aea82-0090-4397-e99f-e5300e963986",
        "colab": {
          "base_uri": "https://localhost:8080/"
        }
      },
      "source": [
        "from tensorflow import keras\n",
        " \n",
        "(X_train, y_train), (X_test, y_test) = keras.datasets.cifar10.load_data()"
      ],
      "execution_count": 1,
      "outputs": [
        {
          "output_type": "stream",
          "text": [
            "Downloading data from https://www.cs.toronto.edu/~kriz/cifar-10-python.tar.gz\n",
            "170500096/170498071 [==============================] - 2s 0us/step\n"
          ],
          "name": "stdout"
        }
      ]
    },
    {
      "cell_type": "code",
      "metadata": {
        "id": "Fiuyhruq4bwG",
        "outputId": "504f9e18-6cfd-4b50-9299-3b4d81f37ce6",
        "colab": {
          "base_uri": "https://localhost:8080/"
        }
      },
      "source": [
        "\n",
        "print (\"Number of train images: \", X_train.shape[0])\n",
        "print (\"Number of test images:\", X_test.shape[0])\n",
        "\n",
        "# color image\n",
        "print (\"Number of channels:\",X_train.shape[3]) \n",
        "print (\"Image size:\", X_train.shape[1], X_train.shape[2])\n"
      ],
      "execution_count": 3,
      "outputs": [
        {
          "output_type": "stream",
          "text": [
            "Training data:\n",
            "Number of train images:  50000\n",
            "Test data:\n",
            "Number of test images: 10000\n",
            "Number of channels: 3\n",
            "Image size: 32 32\n",
            "Number of channels: 3\n",
            "Image size: 32 32\n"
          ],
          "name": "stdout"
        }
      ]
    },
    {
      "cell_type": "code",
      "metadata": {
        "id": "GAqHL_FE4666"
      },
      "source": [
        ""
      ],
      "execution_count": null,
      "outputs": []
    }
  ]
}