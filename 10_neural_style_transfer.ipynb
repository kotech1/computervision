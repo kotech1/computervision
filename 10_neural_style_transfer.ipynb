{
  "nbformat": 4,
  "nbformat_minor": 0,
  "metadata": {
    "colab": {
      "name": "10-neural-style-transfer.ipynb",
      "provenance": [],
      "authorship_tag": "ABX9TyOVs8u/SPn/yX0/rPXG29ay",
      "include_colab_link": true
    },
    "kernelspec": {
      "name": "python3",
      "display_name": "Python 3"
    }
  },
  "cells": [
    {
      "cell_type": "markdown",
      "metadata": {
        "id": "view-in-github",
        "colab_type": "text"
      },
      "source": [
        "<a href=\"https://colab.research.google.com/github/kotech1/computervision/blob/master/10_neural_style_transfer.ipynb\" target=\"_parent\"><img src=\"https://colab.research.google.com/assets/colab-badge.svg\" alt=\"Open In Colab\"/></a>"
      ]
    },
    {
      "cell_type": "code",
      "metadata": {
        "id": "qf0LL5N3hXTt"
      },
      "source": [
        "# Build a VGG19 model loaded with pre-trained ImageNet weights\n",
        "model = vgg19.VGG19(weights=\"imagenet\", include_top=False)\n",
        "model.summary()"
      ],
      "execution_count": null,
      "outputs": []
    }
  ]
}