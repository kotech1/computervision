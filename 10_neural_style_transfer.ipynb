{
  "nbformat": 4,
  "nbformat_minor": 0,
  "metadata": {
    "colab": {
      "name": "10-neural-style-transfer.ipynb",
      "provenance": [],
      "authorship_tag": "ABX9TyP0IUjbNHqcKd5RZ9UQOeB/",
      "include_colab_link": true
    },
    "kernelspec": {
      "name": "python3",
      "display_name": "Python 3"
    }
  },
  "cells": [
    {
      "cell_type": "markdown",
      "metadata": {
        "id": "view-in-github",
        "colab_type": "text"
      },
      "source": [
        "<a href=\"https://colab.research.google.com/github/kotech1/computervision/blob/master/10_neural_style_transfer.ipynb\" target=\"_parent\"><img src=\"https://colab.research.google.com/assets/colab-badge.svg\" alt=\"Open In Colab\"/></a>"
      ]
    },
    {
      "cell_type": "markdown",
      "metadata": {
        "id": "B-kEGxnh-7O6"
      },
      "source": [
        "실습 파일: `10-neural-style-transfer.ipynb`"
      ]
    },
    {
      "cell_type": "markdown",
      "metadata": {
        "id": "fd4JxFfL_A4n"
      },
      "source": [
        "# Neural Style Transfer"
      ]
    },
    {
      "cell_type": "code",
      "metadata": {
        "id": "b2tHFcyC_xno"
      },
      "source": [
        "import numpy as np\n",
        "import tensorflow as tf\n",
        "from tensorflow import keras\n",
        "from tensorflow.keras.applications import vgg19"
      ],
      "execution_count": null,
      "outputs": []
    },
    {
      "cell_type": "code",
      "metadata": {
        "id": "QZC3BqDpcNvZ"
      },
      "source": [
        "# Weights of the different loss components\n",
        "total_variation_weight = 1e-6\n",
        "style_weight = 1e-6\n",
        "content_weight = 2.5e-8\n",
        "\n",
        "#\n",
        "total_variation_weight = 1e-8\n",
        "style_weight = 5e-5 #generated6\n",
        "content_weight = 1e-10"
      ],
      "execution_count": null,
      "outputs": []
    },
    {
      "cell_type": "code",
      "metadata": {
        "id": "6PxwDxyzAKEN"
      },
      "source": [
        "# Dimensions of the generated picture.\n",
        "width, height = keras.preprocessing.image.load_img(base_image_path).size\n",
        "img_nrows = 400\n",
        "img_ncols = int(width * img_nrows / height)"
      ],
      "execution_count": null,
      "outputs": []
    },
    {
      "cell_type": "code",
      "metadata": {
        "id": "3uNm7OeaAYP-"
      },
      "source": [
        "def preprocess_image(image_path):\n",
        "    # Util function to open, resize and format pictures into appropriate tensors\n",
        "    img = keras.preprocessing.image.load_img(\n",
        "        image_path, target_size=(img_nrows, img_ncols)\n",
        "    )\n",
        "    img = keras.preprocessing.image.img_to_array(img)\n",
        "    img = np.expand_dims(img, axis=0)\n",
        "    img = vgg19.preprocess_input(img)\n",
        "    return tf.convert_to_tensor(img)\n",
        "\n",
        "\n",
        "def deprocess_image(x):\n",
        "    # Util function to convert a tensor into a valid image\n",
        "    x = x.reshape((img_nrows, img_ncols, 3))\n",
        "    # Remove zero-center by mean pixel\n",
        "    x[:, :, 0] += 103.939\n",
        "    x[:, :, 1] += 116.779\n",
        "    x[:, :, 2] += 123.68\n",
        "    # 'BGR'->'RGB'\n",
        "    x = x[:, :, ::-1]\n",
        "    x = np.clip(x, 0, 255).astype(\"uint8\")\n",
        "    return x"
      ],
      "execution_count": null,
      "outputs": []
    },
    {
      "cell_type": "code",
      "metadata": {
        "id": "7pNYt19pv4VD"
      },
      "source": [
        "# 이미지 텐서의 gram matrix (특징별 outer product)\n",
        "\n",
        "def gram_matrix(x):\n",
        "    # 채널을 맨 앞으로, w,h를 뒤로 보냄\n",
        "    x = tf.transpose(x, (2, 0, 1)) \n",
        "    # (c, w, h) ==> (c, w*h)\n",
        "    features = tf.reshape(x, (tf.shape(x)[0], -1)) \n",
        "    # (c, w*h) x (w*h,c) = (c,c) \n",
        "    gram = tf.matmul(features, tf.transpose(features))  \n",
        "    return gram"
      ],
      "execution_count": null,
      "outputs": []
    },
    {
      "cell_type": "code",
      "metadata": {
        "id": "gA98rBiBdOXg"
      },
      "source": [
        "# style loss는 reference image와 generated image간의 \n",
        "# 스타일 차이를 유지할 수 있도록 하는 역할을 한다.\n",
        "# gram matrix의 차이의 squared error로 정의\n",
        "\n",
        "def style_loss(style, combination):\n",
        "    S = gram_matrix(style)\n",
        "    C = gram_matrix(combination)\n",
        "    # 논문의 정확한 implementation은 다음과 같아야 함\n",
        "    # channels = style.shape[2]\n",
        "    # size = style.shape[0] * style.shape[1] \n",
        "    channels = 3\n",
        "    size = img_nrows * img_ncols\n",
        "    return tf.reduce_sum(tf.square(S - C)) / (4.0 * (channels ** 2) * (size ** 2))"
      ],
      "execution_count": null,
      "outputs": []
    },
    {
      "cell_type": "code",
      "metadata": {
        "id": "GvEPa6lBZ02L"
      },
      "source": [
        "# 추가 손실 함수\n",
        "# 생성된 이미지에서 base 이미지의 \"content\"를\n",
        "# 유지하기 위함\n",
        "\n",
        "def content_loss(base, combination):\n",
        "    return tf.reduce_sum(tf.square(combination - base))"
      ],
      "execution_count": null,
      "outputs": []
    },
    {
      "cell_type": "code",
      "metadata": {
        "id": "ER9qPjkZPecy"
      },
      "source": [
        "# 3번째 손실함수: total variation loss\n",
        "# designed to keep the generated image locally coherent\n",
        "\n",
        "def total_variation_loss(x):\n",
        "    a = tf.square(\n",
        "        x[:, : img_nrows - 1, : img_ncols - 1, :] - x[:, 1:, : img_ncols - 1, :]\n",
        "    )\n",
        "    b = tf.square(\n",
        "        x[:, : img_nrows - 1, : img_ncols - 1, :] - x[:, : img_nrows - 1, 1:, :]\n",
        "    )\n",
        "    return tf.reduce_sum(tf.pow(a + b, 1.25))"
      ],
      "execution_count": null,
      "outputs": []
    },
    {
      "cell_type": "code",
      "metadata": {
        "id": "qf0LL5N3hXTt"
      },
      "source": [
        "# VGG19 model 로딩 (pre-trained ImageNet weights)\n",
        "model = vgg19.VGG19(weights=\"imagenet\", include_top=False)\n",
        "model.summary()\n",
        "\n",
        "# 모델에서 레이어 이름과 레이어 출력 형식을 가져옴\n",
        "outputs_dict = dict([(layer.name, layer.output) for layer in model.layers])\n",
        "\n",
        "# VGG 모델의 전체 activation value를 출력하는 함수 정의\n",
        "# (dict 형식)\n",
        "feature_extractor = keras.Model(inputs=model.inputs, outputs=outputs_dict)"
      ],
      "execution_count": null,
      "outputs": []
    },
    {
      "cell_type": "code",
      "metadata": {
        "id": "4VCgYSxBa3nu"
      },
      "source": [
        "# style loss에 사용할 레이어\n",
        "style_layer_names = [\n",
        "    \"block1_conv1\",\n",
        "    \"block2_conv1\",\n",
        "    \"block3_conv1\",\n",
        "    \"block4_conv1\",\n",
        "    \"block5_conv1\",\n",
        "]\n",
        "\n",
        "style_layer_names = [\n",
        "    \"block1_conv2\",\n",
        "    \"block2_conv2\",\n",
        "    \"block3_conv2\",\n",
        "    \"block4_conv2\",\n",
        "    \"block5_conv2\",\n",
        "]\n",
        "\n",
        "\n",
        "\n",
        "# content loss에 사용할 레이어\n",
        "content_layer_name = \"block5_conv2\"\n",
        "\n",
        "def compute_loss(combination_image, base_image, style_reference_image):\n",
        "    input_tensor = tf.concat(\n",
        "        [base_image, style_reference_image, combination_image], axis=0\n",
        "    )\n",
        "    features = feature_extractor(input_tensor)\n",
        "\n",
        "    # loss 초기화\n",
        "    loss = tf.zeros(shape=())\n",
        "\n",
        "    # Add content loss\n",
        "    layer_features = features[content_layer_name]\n",
        "    base_image_features = layer_features[0, :, :, :]\n",
        "    combination_features = layer_features[2, :, :, :]\n",
        "    loss = loss + content_weight * content_loss(\n",
        "        base_image_features, combination_features\n",
        "    )\n",
        "    # Add style loss\n",
        "    for layer_name in style_layer_names:\n",
        "        layer_features = features[layer_name]\n",
        "        style_reference_features = layer_features[1, :, :, :]\n",
        "        combination_features = layer_features[2, :, :, :]\n",
        "        sl = style_loss(style_reference_features, combination_features)\n",
        "        loss += (style_weight / len(style_layer_names)) * sl\n",
        "\n",
        "    # Add total variation loss\n",
        "    loss += total_variation_weight * total_variation_loss(combination_image)\n",
        "    return loss"
      ],
      "execution_count": null,
      "outputs": []
    },
    {
      "cell_type": "code",
      "metadata": {
        "id": "7lQz334qYnsD"
      },
      "source": [
        "@tf.function\n",
        "def compute_loss_and_grads(combination_image, base_image, style_reference_image):\n",
        "    with tf.GradientTape() as tape:\n",
        "        loss = compute_loss(combination_image, base_image, style_reference_image)\n",
        "    grads = tape.gradient(loss, combination_image)\n",
        "    return loss, grads\n"
      ],
      "execution_count": null,
      "outputs": []
    },
    {
      "cell_type": "code",
      "metadata": {
        "id": "krFR92dIcaEH"
      },
      "source": [
        "optimizer = keras.optimizers.SGD(\n",
        "    keras.optimizers.schedules.ExponentialDecay(\n",
        "        initial_learning_rate=100.0, decay_steps=100, decay_rate=0.96\n",
        "    )\n",
        ")\n",
        "\n",
        "base_image = preprocess_image(base_image_path)\n",
        "style_reference_image = preprocess_image(style_reference_image_path)\n",
        "combination_image = tf.Variable(preprocess_image(base_image_path))\n",
        "\n",
        "iterations = 4000\n",
        "for i in range(1, iterations + 1):\n",
        "    loss, grads = compute_loss_and_grads(\n",
        "        combination_image, base_image, style_reference_image\n",
        "    )\n",
        "    optimizer.apply_gradients([(grads, combination_image)])\n",
        "    if i % 100 == 0:\n",
        "        print(\"Iteration %d: loss=%.2f\" % (i, loss))\n",
        "        img = deprocess_image(combination_image.numpy())\n",
        "        fname = result_prefix + \"_at_iteration_%d.png\" % i\n",
        "        keras.preprocessing.image.save_img(fname, img)"
      ],
      "execution_count": null,
      "outputs": []
    }
  ]
}