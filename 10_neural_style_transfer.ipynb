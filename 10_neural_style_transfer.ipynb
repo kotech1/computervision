{
  "nbformat": 4,
  "nbformat_minor": 0,
  "metadata": {
    "colab": {
      "name": "10-neural-style-transfer.ipynb",
      "provenance": [],
      "authorship_tag": "ABX9TyOhMR4MtSsY/Vy6j1cy23QU",
      "include_colab_link": true
    },
    "kernelspec": {
      "name": "python3",
      "display_name": "Python 3"
    }
  },
  "cells": [
    {
      "cell_type": "markdown",
      "metadata": {
        "id": "view-in-github",
        "colab_type": "text"
      },
      "source": [
        "<a href=\"https://colab.research.google.com/github/kotech1/computervision/blob/master/10_neural_style_transfer.ipynb\" target=\"_parent\"><img src=\"https://colab.research.google.com/assets/colab-badge.svg\" alt=\"Open In Colab\"/></a>"
      ]
    },
    {
      "cell_type": "code",
      "metadata": {
        "id": "qf0LL5N3hXTt"
      },
      "source": [
        "# Build a VGG19 model loaded with pre-trained ImageNet weights\n",
        "model = vgg19.VGG19(weights=\"imagenet\", include_top=False)\n",
        "model.summary()"
      ],
      "execution_count": null,
      "outputs": []
    },
    {
      "cell_type": "code",
      "metadata": {
        "id": "GvEPa6lBZ02L"
      },
      "source": [
        "# 추가 손실 함수\n",
        "# 생성된 이미지에서 base 이미지의 \"content\"를\n",
        "# 유지하기 위함\n",
        "\n",
        "def content_loss(base, combination):\n",
        "    return tf.reduce_sum(tf.square(combination - base))"
      ],
      "execution_count": null,
      "outputs": []
    },
    {
      "cell_type": "code",
      "metadata": {
        "id": "_I-XovhXcPIh"
      },
      "source": [
        "# VGG19의 각 레이어의 특징(feature)를 dict형식으로 반환\n",
        "feature_extractor = keras.Model(inputs=model.inputs, outputs=outputs_dict)"
      ],
      "execution_count": null,
      "outputs": []
    },
    {
      "cell_type": "code",
      "metadata": {
        "id": "QZC3BqDpcNvZ"
      },
      "source": [
        ""
      ],
      "execution_count": null,
      "outputs": []
    },
    {
      "cell_type": "code",
      "metadata": {
        "id": "4VCgYSxBa3nu"
      },
      "source": [
        "# content loss에 사용할\n",
        "content_layer_name = \"block5_conv2\"\n",
        "\n",
        "\n",
        "def compute_loss(combination_image, base_image, style_reference_image):\n",
        "    input_tensor = tf.concat(\n",
        "        [base_image, style_reference_image, combination_image], axis=0\n",
        "    )\n",
        "    features = feature_extractor(input_tensor)\n",
        "\n",
        "    # loss 초기화\n",
        "    loss = tf.zeros(shape=())\n",
        "\n",
        "    # Add content loss\n",
        "    layer_features = features[content_layer_name]\n",
        "    base_image_features = layer_features[0, :, :, :]\n",
        "    combination_features = layer_features[2, :, :, :]\n",
        "    loss = loss + content_weight * content_loss(\n",
        "        base_image_features, combination_features\n",
        "    )"
      ],
      "execution_count": null,
      "outputs": []
    },
    {
      "cell_type": "code",
      "metadata": {
        "id": "7pNYt19pv4VD"
      },
      "source": [
        "# 이미지 텐서의 gram matrix (특징별 outer product)\n",
        "\n",
        "def gram_matrix(x):\n",
        "    # 채널을 맨 앞으로, w,h를 뒤로 보냄\n",
        "    x = tf.transpose(x, (2, 0, 1)) \n",
        "    # (c, w, h) ==> (c, w*h)\n",
        "    features = tf.reshape(x, (tf.shape(x)[0], -1)) \n",
        "    # (c, w*h) x (w*h,c) = (c,c) \n",
        "    gram = tf.matmul(features, tf.transpose(features))  \n",
        "    return gram"
      ],
      "execution_count": null,
      "outputs": []
    }
  ]
}